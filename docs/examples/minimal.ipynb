{
 "cells": [
  {
   "cell_type": "markdown",
   "metadata": {},
   "source": [
    "# FHIRPACK Basic Usage\n",
    "\n",
    "The purpose behind this Notebook is to show you some of the posibilities FHIRPACK offers.\n",
    "Don't be intimidated, start using what you need and slowly get acquainted with more complex workflows and functionality.\n",
    "Feel free to refer to our [Documentation](https://fhirpack.readthedocs.io/), our [GitLab](https://gitlab.com/fhirpack/) and [GitHub](https://github.com/fhirpack) trackers or our [Slack channel](https://join.slack.com/t/fhirpack/shared_invite/zt-16f0dt3rr-76L6OKQIMOFbG2IKYnVLqA)."
   ]
  },
  {
   "cell_type": "markdown",
   "metadata": {},
   "source": [
    "# Boilerplate"
   ]
  },
  {
   "cell_type": "code",
   "execution_count": 1,
   "metadata": {},
   "outputs": [
    {
     "name": "stdout",
     "output_type": "stream",
     "text": [
      "Pretty printing has been turned OFF\n"
     ]
    }
   ],
   "source": [
    "%load_ext autoreload\n",
    "%autoreload 2\n",
    "%pprint off"
   ]
  },
  {
   "cell_type": "code",
   "execution_count": 2,
   "metadata": {},
   "outputs": [],
   "source": [
    "from IPython.core.interactiveshell import InteractiveShell\n",
    "InteractiveShell.ast_node_interactivity = \"all\""
   ]
  },
  {
   "cell_type": "code",
   "execution_count": 3,
   "metadata": {},
   "outputs": [
    {
     "name": "stdout",
     "output_type": "stream",
     "text": [
      "Pretty printing has been turned ON\n"
     ]
    }
   ],
   "source": [
    "%pprint"
   ]
  },
  {
   "cell_type": "markdown",
   "metadata": {},
   "source": [
    "# Preamble"
   ]
  },
  {
   "cell_type": "markdown",
   "metadata": {},
   "source": [
    "### Installing FHIRPACK from PIP (recommended)"
   ]
  },
  {
   "cell_type": "code",
   "execution_count": 6,
   "metadata": {},
   "outputs": [
    {
     "name": "stdout",
     "output_type": "stream",
     "text": [
      "\n",
      "\u001b[1m[\u001b[0m\u001b[34;49mnotice\u001b[0m\u001b[1;39;49m]\u001b[0m\u001b[39;49m A new release of pip is available: \u001b[0m\u001b[31;49m23.0\u001b[0m\u001b[39;49m -> \u001b[0m\u001b[32;49m23.1.2\u001b[0m\n",
      "\u001b[1m[\u001b[0m\u001b[34;49mnotice\u001b[0m\u001b[1;39;49m]\u001b[0m\u001b[39;49m To update, run: \u001b[0m\u001b[32;49mpip install --upgrade pip\u001b[0m\n"
     ]
    }
   ],
   "source": [
    "!pip install -q fhirpack"
   ]
  },
  {
   "cell_type": "markdown",
   "metadata": {},
   "source": [
    "### Using FHIRPACK without Installation by Modifying PYTHONPATH\n",
    "\n",
    "You can use FHIRPACK without installing it, this is mostly used for testing purposes during development, but it's listed here for reference.\n",
    "\n",
    "Simply clone the FHIRPACK repository using `git clone git@github.com:fhirpack/main.git` or `git clone git@gitlab.com:fhirpack/main.git`"
   ]
  },
  {
   "cell_type": "code",
   "execution_count": 5,
   "metadata": {},
   "outputs": [],
   "source": [
    "import sys,os\n",
    "#sys.path.append(os.getcwd()+'/../src/')"
   ]
  },
  {
   "cell_type": "markdown",
   "metadata": {},
   "source": [
    "### Installing FHIRPACK from Source\n",
    "\n",
    "Alternatively, you can installed the latest version of this repository in edit mode if you want to play around and modify FHIRPACK."
   ]
  },
  {
   "cell_type": "code",
   "execution_count": 6,
   "metadata": {},
   "outputs": [],
   "source": [
    "#!pip install -e ."
   ]
  },
  {
   "cell_type": "markdown",
   "metadata": {},
   "source": [
    "### Imports"
   ]
  },
  {
   "cell_type": "code",
   "execution_count": 7,
   "metadata": {},
   "outputs": [],
   "source": [
    "import fhirpack\tas fp\n",
    "import pandas\tas pd\n",
    "import numpy\tas np\n",
    "import json\n",
    "\n",
    "pd.set_option('display.max_columns', None)\n",
    "pd.set_option('display.width', None)\n",
    "pd.set_option('display.max_colwidth', None)\n",
    "\n",
    "RESPATH=f\"./data/\""
   ]
  },
  {
   "cell_type": "markdown",
   "metadata": {
    "tags": []
   },
   "source": [
    "# FHIR Server Connection"
   ]
  },
  {
   "cell_type": "markdown",
   "metadata": {},
   "source": [
    "## Configure PACK with Environment File"
   ]
  },
  {
   "cell_type": "code",
   "execution_count": 8,
   "metadata": {},
   "outputs": [],
   "source": [
    "pack = fp.PACK(envFile='.env.example')"
   ]
  },
  {
   "cell_type": "code",
   "execution_count": 9,
   "metadata": {},
   "outputs": [
    {
     "data": {
      "text/plain": [
       "<SyncFHIRClient https://hapi.fhir.org/baseR4>"
      ]
     },
     "execution_count": 9,
     "metadata": {},
     "output_type": "execute_result"
    }
   ],
   "source": [
    "pack.client"
   ]
  },
  {
   "cell_type": "markdown",
   "metadata": {},
   "source": [
    "# Playground"
   ]
  },
  {
   "cell_type": "code",
   "execution_count": 10,
   "metadata": {},
   "outputs": [
    {
     "data": {
      "text/plain": [
       "<SyncFHIRClient https://hapi.fhir.org/baseR4>"
      ]
     },
     "execution_count": 10,
     "metadata": {},
     "output_type": "execute_result"
    }
   ],
   "source": [
    "pack.client"
   ]
  },
  {
   "cell_type": "code",
   "execution_count": 11,
   "metadata": {},
   "outputs": [
    {
     "name": "stderr",
     "output_type": "stream",
     "text": [
      "                                                               \r"
     ]
    },
    {
     "data": {
      "text/plain": [
       "(1, 2)"
      ]
     },
     "execution_count": 11,
     "metadata": {},
     "output_type": "execute_result"
    }
   ],
   "source": [
    "conditions = pack\\\n",
    "\t.getConditions([\"gtc106\"])\n",
    "\n",
    "conditions.shape"
   ]
  },
  {
   "cell_type": "code",
   "execution_count": 12,
   "metadata": {},
   "outputs": [
    {
     "data": {
      "text/html": [
       "<div>\n",
       "<style scoped>\n",
       "    .dataframe tbody tr th:only-of-type {\n",
       "        vertical-align: middle;\n",
       "    }\n",
       "\n",
       "    .dataframe tbody tr th {\n",
       "        vertical-align: top;\n",
       "    }\n",
       "\n",
       "    .dataframe thead th {\n",
       "        text-align: right;\n",
       "    }\n",
       "</style>\n",
       "<table border=\"1\" class=\"dataframe\">\n",
       "  <thead>\n",
       "    <tr style=\"text-align: right;\">\n",
       "      <th></th>\n",
       "      <th>data</th>\n",
       "      <th>Condition</th>\n",
       "    </tr>\n",
       "  </thead>\n",
       "  <tbody>\n",
       "    <tr>\n",
       "      <th>0</th>\n",
       "      <td>{'resourceType': 'Condition', 'id': 'gtc106', 'meta': {'versionId': '1', 'lastUpdated': '2019-09-18T18:45:55.877+00:00', 'source': '#2fc9ee4c29f0eff4'}, 'code': {'coding': [{'system': 'http://hl7.org/fhir/sid/icd-10', 'code': 'I46.9', 'display': 'Cardiac arrest, cause unspecified'}]}, 'subject': {'reference': 'Patient/gtp101'}, 'onsetDateTime': '2019-07-30T01:00:00.000-05:00'}</td>\n",
       "      <td>gtc106</td>\n",
       "    </tr>\n",
       "  </tbody>\n",
       "</table>\n",
       "</div>"
      ],
      "text/plain": [
       "                                                                                                                                                                                                                                                                                                                                                                                          data   \n",
       "0  {'resourceType': 'Condition', 'id': 'gtc106', 'meta': {'versionId': '1', 'lastUpdated': '2019-09-18T18:45:55.877+00:00', 'source': '#2fc9ee4c29f0eff4'}, 'code': {'coding': [{'system': 'http://hl7.org/fhir/sid/icd-10', 'code': 'I46.9', 'display': 'Cardiac arrest, cause unspecified'}]}, 'subject': {'reference': 'Patient/gtp101'}, 'onsetDateTime': '2019-07-30T01:00:00.000-05:00'}  \\\n",
       "\n",
       "  Condition  \n",
       "0    gtc106  "
      ]
     },
     "execution_count": 12,
     "metadata": {},
     "output_type": "execute_result"
    }
   ],
   "source": [
    "conditions[0:1]"
   ]
  },
  {
   "cell_type": "code",
   "execution_count": 13,
   "metadata": {},
   "outputs": [
    {
     "name": "stdout",
     "output_type": "stream",
     "text": [
      "[\n",
      "    {\n",
      "        \"code\": {\n",
      "            \"coding\": [\n",
      "                {\n",
      "                    \"code\": \"I46.9\",\n",
      "                    \"display\": \"Cardiac arrest, cause unspecified\",\n",
      "                    \"system\": \"http://hl7.org/fhir/sid/icd-10\"\n",
      "                }\n",
      "            ]\n",
      "        },\n",
      "        \"id\": \"gtc106\",\n",
      "        \"meta\": {\n",
      "            \"lastUpdated\": \"2019-09-18T18:45:55.877+00:00\",\n",
      "            \"source\": \"#2fc9ee4c29f0eff4\",\n",
      "            \"versionId\": \"1\"\n",
      "        },\n",
      "        \"onsetDateTime\": \"2019-07-30T01:00:00.000-05:00\",\n",
      "        \"resourceType\": \"Condition\",\n",
      "        \"subject\": {\n",
      "            \"reference\": \"Patient/gtp101\"\n",
      "        }\n",
      "    }\n",
      "]\n"
     ]
    }
   ],
   "source": [
    "conditions[0:1].pretty"
   ]
  },
  {
   "cell_type": "code",
   "execution_count": 15,
   "metadata": {},
   "outputs": [
    {
     "name": "stderr",
     "output_type": "stream",
     "text": [
      "                                                                     \r"
     ]
    },
    {
     "data": {
      "text/html": [
       "<div>\n",
       "<style scoped>\n",
       "    .dataframe tbody tr th:only-of-type {\n",
       "        vertical-align: middle;\n",
       "    }\n",
       "\n",
       "    .dataframe tbody tr th {\n",
       "        vertical-align: top;\n",
       "    }\n",
       "\n",
       "    .dataframe thead th {\n",
       "        text-align: right;\n",
       "    }\n",
       "</style>\n",
       "<table border=\"1\" class=\"dataframe\">\n",
       "  <thead>\n",
       "    <tr style=\"text-align: right;\">\n",
       "      <th></th>\n",
       "      <th>data</th>\n",
       "      <th>Patient</th>\n",
       "      <th>Condition</th>\n",
       "    </tr>\n",
       "  </thead>\n",
       "  <tbody>\n",
       "    <tr>\n",
       "      <th>0</th>\n",
       "      <td>{'resourceType': 'Patient', 'id': 'gtp101', 'meta': {'versionId': '4', 'lastUpdated': '2020-12-11T19:17:27.172+00:00', 'source': '#f4P6OZY8WX2WA4Hq'}, 'text': {'status': 'generated', 'div': '&lt;div xmlns=\"http://www.w3.org/1999/xhtml\"&gt;&lt;div class=\"hapiHeaderText\"&gt;Herbert &lt;b&gt;HOOVER &lt;/b&gt;&lt;/div&gt;&lt;table class=\"hapiPropertyTable\"&gt;&lt;tbody&gt;&lt;tr&gt;&lt;td&gt;Identifier&lt;/td&gt;&lt;td&gt;078-05-1120&lt;/td&gt;&lt;/tr&gt;&lt;tr&gt;&lt;td&gt;Address&lt;/td&gt;&lt;td&gt;&lt;span&gt;123 Main Street North &lt;/span&gt;&lt;br/&gt;&lt;span&gt;Everytown &lt;/span&gt;&lt;span&gt;USA &lt;/span&gt;&lt;/td&gt;&lt;/tr&gt;&lt;tr&gt;&lt;td&gt;Date of birth&lt;/td&gt;&lt;td&gt;&lt;span&gt;04 July 1990&lt;/span&gt;&lt;/td&gt;&lt;/tr&gt;&lt;/tbody&gt;&lt;/table&gt;&lt;/div&gt;'}, 'identifier': [{'use': 'usual', 'system': 'urn:oid:2.16.840.1.113883.4.642.2.30', 'value': '078-05-1120', 'assigner': {'display': 'U.S. Social Security Administration'}}], 'active': True, 'name': [{'use': 'official', 'family': 'Hoover', 'given': ['Herbert']}], 'telecom': [{'system': 'phone', 'value': '8885551234', 'use': 'home'}], 'gender': 'male', 'birthDate': '1990-07-04', 'deceasedDateTime': '2019-07-30T02:34:06.000-05:00', 'address': [{'use': 'home', 'line': ['123 Main Street North'], 'city': 'Everytown', 'state': 'USA', 'postalCode': '99999'}]}</td>\n",
       "      <td>gtp101</td>\n",
       "      <td>gtc106</td>\n",
       "    </tr>\n",
       "  </tbody>\n",
       "</table>\n",
       "</div>"
      ],
      "text/plain": [
       "                                                                                                                                                                                                                                                                                                                                                                                                                                                                                                                                                                                                                                                                                                                                                                                                                                                                                                                                                                                                                                                                                                                                                                                data   \n",
       "0  {'resourceType': 'Patient', 'id': 'gtp101', 'meta': {'versionId': '4', 'lastUpdated': '2020-12-11T19:17:27.172+00:00', 'source': '#f4P6OZY8WX2WA4Hq'}, 'text': {'status': 'generated', 'div': '<div xmlns=\"http://www.w3.org/1999/xhtml\"><div class=\"hapiHeaderText\">Herbert <b>HOOVER </b></div><table class=\"hapiPropertyTable\"><tbody><tr><td>Identifier</td><td>078-05-1120</td></tr><tr><td>Address</td><td><span>123 Main Street North </span><br/><span>Everytown </span><span>USA </span></td></tr><tr><td>Date of birth</td><td><span>04 July 1990</span></td></tr></tbody></table></div>'}, 'identifier': [{'use': 'usual', 'system': 'urn:oid:2.16.840.1.113883.4.642.2.30', 'value': '078-05-1120', 'assigner': {'display': 'U.S. Social Security Administration'}}], 'active': True, 'name': [{'use': 'official', 'family': 'Hoover', 'given': ['Herbert']}], 'telecom': [{'system': 'phone', 'value': '8885551234', 'use': 'home'}], 'gender': 'male', 'birthDate': '1990-07-04', 'deceasedDateTime': '2019-07-30T02:34:06.000-05:00', 'address': [{'use': 'home', 'line': ['123 Main Street North'], 'city': 'Everytown', 'state': 'USA', 'postalCode': '99999'}]}  \\\n",
       "\n",
       "  Patient Condition  \n",
       "0  gtp101    gtc106  "
      ]
     },
     "execution_count": 15,
     "metadata": {},
     "output_type": "execute_result"
    }
   ],
   "source": [
    "conditions[:5].getPatients()"
   ]
  },
  {
   "cell_type": "code",
   "execution_count": 16,
   "metadata": {},
   "outputs": [
    {
     "name": "stderr",
     "output_type": "stream",
     "text": [
      "                                                                     \r"
     ]
    },
    {
     "data": {
      "text/html": [
       "<div>\n",
       "<style scoped>\n",
       "    .dataframe tbody tr th:only-of-type {\n",
       "        vertical-align: middle;\n",
       "    }\n",
       "\n",
       "    .dataframe tbody tr th {\n",
       "        vertical-align: top;\n",
       "    }\n",
       "\n",
       "    .dataframe thead th {\n",
       "        text-align: right;\n",
       "    }\n",
       "</style>\n",
       "<table border=\"1\" class=\"dataframe\">\n",
       "  <thead>\n",
       "    <tr style=\"text-align: right;\">\n",
       "      <th></th>\n",
       "      <th>id</th>\n",
       "      <th>name.given</th>\n",
       "      <th>name.family</th>\n",
       "      <th>birthDate</th>\n",
       "    </tr>\n",
       "  </thead>\n",
       "  <tbody>\n",
       "    <tr>\n",
       "      <th>0</th>\n",
       "      <td>gtp101</td>\n",
       "      <td>[[Herbert]]</td>\n",
       "      <td>[Hoover]</td>\n",
       "      <td>1990-07-04</td>\n",
       "    </tr>\n",
       "  </tbody>\n",
       "</table>\n",
       "</div>"
      ],
      "text/plain": [
       "       id   name.given name.family   birthDate\n",
       "0  gtp101  [[Herbert]]    [Hoover]  1990-07-04"
      ]
     },
     "execution_count": 16,
     "metadata": {},
     "output_type": "execute_result"
    }
   ],
   "source": [
    "conditions[:5]\\\n",
    "\t.getPatients()\\\n",
    "\t\t.gatherSimplePaths([\n",
    "\t\t\t\"id\",\n",
    "\t\t\t\"name.given\",\n",
    "\t\t\t\"name.family\",\n",
    "\t\t\t\"birthDate\"\n",
    "\t\t])"
   ]
  }
 ],
 "metadata": {
  "kernelspec": {
   "display_name": "Python 3.9.6 ('main-ZKJ93Kvm')",
   "language": "python",
   "name": "python3"
  },
  "language_info": {
   "codemirror_mode": {
    "name": "ipython",
    "version": 3
   },
   "file_extension": ".py",
   "mimetype": "text/x-python",
   "name": "python",
   "nbconvert_exporter": "python",
   "pygments_lexer": "ipython3",
   "version": "3.9.6"
  },
  "vscode": {
   "interpreter": {
    "hash": "698505c68de4ce4cb0dedeb0701f99b8e9d1e5865530ff253aaab5b5ce8a973a"
   }
  }
 },
 "nbformat": 4,
 "nbformat_minor": 4
}
