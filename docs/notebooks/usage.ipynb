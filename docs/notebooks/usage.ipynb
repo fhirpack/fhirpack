{
 "cells": [
  {
   "cell_type": "markdown",
   "metadata": {},
   "source": [
    "## General Usage"
   ]
  },
  {
   "cell_type": "code",
   "execution_count": null,
   "metadata": {},
   "outputs": [],
   "source": [
    "%load_ext autoreload\n",
    "%autoreload 2\n",
    "%pprint off"
   ]
  },
  {
   "cell_type": "code",
   "execution_count": null,
   "metadata": {},
   "outputs": [],
   "source": [
    "from IPython.core.interactiveshell import InteractiveShell\n",
    "InteractiveShell.ast_node_interactivity = \"all\""
   ]
  },
  {
   "cell_type": "code",
   "execution_count": null,
   "metadata": {},
   "outputs": [],
   "source": [
    "%pprint"
   ]
  },
  {
   "cell_type": "markdown",
   "metadata": {},
   "source": [
    "### Preamble"
   ]
  },
  {
   "cell_type": "markdown",
   "metadata": {},
   "source": [
    "[!] use only if you haven't installed FHIR PACK via `pip`, `pipenv` or similar in your environment but you have instead cloned the project and are now in the `/examples` directory"
   ]
  },
  {
   "cell_type": "code",
   "execution_count": null,
   "metadata": {},
   "outputs": [],
   "source": [
    "import sys,os\n",
    "sys.path.append(os.getcwd()+'/../src/')\n",
    "# sys.path"
   ]
  },
  {
   "cell_type": "markdown",
   "metadata": {},
   "source": [
    "### Imports"
   ]
  },
  {
   "cell_type": "code",
   "execution_count": null,
   "metadata": {},
   "outputs": [],
   "source": [
    "import fhirpack\t\t\tas fp\n",
    "import pandas\t\t\tas pd\n",
    "import fhirpy\n",
    "import numpy\t\t\tas np\n",
    "import fhir.resources\tas fr\n",
    "import json\n",
    "from tqdm import tqdm\n",
    "from fhirpack.constants import CONFIG"
   ]
  },
  {
   "cell_type": "markdown",
   "metadata": {},
   "source": [
    "### Useful Paths for Data Storage "
   ]
  },
  {
   "cell_type": "code",
   "execution_count": null,
   "metadata": {},
   "outputs": [],
   "source": [
    "DATAPATH=CONFIG.get('DATAPATH')\n",
    "RESPATH=f\"{DATAPATH}/fhir/\""
   ]
  },
  {
   "cell_type": "markdown",
   "metadata": {},
   "source": [
    "### FHIR Server Connection"
   ]
  },
  {
   "cell_type": "markdown",
   "metadata": {},
   "source": [
    "### CLI Usage"
   ]
  },
  {
   "cell_type": "code",
   "execution_count": null,
   "metadata": {},
   "outputs": [],
   "source": [
    "!dotenv -f ../.env run python -m fhirpack.cli \"-o\" \"getPatients\" -p \"given = Chalmers\" #-v\n",
    "\n",
    "!fp -o \"getPatients\" -p \"given = Chalmers\" #-v"
   ]
  },
  {
   "cell_type": "markdown",
   "metadata": {},
   "source": [
    "### From Custom Environment File"
   ]
  },
  {
   "cell_type": "code",
   "execution_count": null,
   "metadata": {},
   "outputs": [],
   "source": [
    "!head ../.env.example -n5"
   ]
  },
  {
   "cell_type": "code",
   "execution_count": null,
   "metadata": {},
   "outputs": [],
   "source": [
    "pack= fp.PACK()\n",
    "\n",
    "for i,e in pack.getPatients(['2918556']).data.items():\n",
    "\tprint(\n",
    "\t\tjson.dumps(e.serialize(), indent=4, sort_keys=True)[:200],\n",
    "\t\t'\\n...'\n",
    "\t)"
   ]
  },
  {
   "cell_type": "markdown",
   "metadata": {},
   "source": [
    "### Manual Setup"
   ]
  },
  {
   "cell_type": "code",
   "execution_count": null,
   "metadata": {},
   "outputs": [],
   "source": [
    "pack  = fp.PACK(\"http://hapi.fhir.org/baseR4\")\n",
    "pack.getPatients(['2918556'])"
   ]
  },
  {
   "cell_type": "code",
   "execution_count": null,
   "metadata": {},
   "outputs": [],
   "source": [
    "pack  = fp.PACK(\"http://test.fhir.org/r4/\")\n",
    "pack.getPatients(['11']).data.iloc[0]"
   ]
  },
  {
   "cell_type": "code",
   "execution_count": null,
   "metadata": {},
   "outputs": [],
   "source": [
    "#run \"docker-compose up\" in your local clone of FHIRPACK first  \n",
    "\n",
    "# pack  = fp.PACK(\"http://127.0.0.1:42112/hapi-fhir-jpaserver/fhir\")\n",
    "# pack.getPatients(['1']).data.iloc[0].serialize()\n"
   ]
  },
  {
   "cell_type": "markdown",
   "metadata": {},
   "source": [
    "### From Default Environment File"
   ]
  },
  {
   "cell_type": "code",
   "execution_count": null,
   "metadata": {},
   "outputs": [],
   "source": [
    "pack = fp.PACK()\n",
    "# pack.client.authorization"
   ]
  },
  {
   "cell_type": "markdown",
   "metadata": {},
   "source": [
    "### Introductory Example"
   ]
  },
  {
   "cell_type": "code",
   "execution_count": null,
   "metadata": {},
   "outputs": [],
   "source": [
    "# for patients whose lastname is Koepp, find the root identity,\n",
    "# get their associated diagnostic reports and report their ID and status\n",
    "\n",
    "pack.getPatients(searchParams={\"family\":\"koepp\"})\\\n",
    "\t.getRootPatients()\\\n",
    "\t\t.explode()\\\n",
    "\t\t\t.getDiagnosticReports()\\\n",
    "\t\t\t\t.dropna()\\\n",
    "\t\t\t\t\t.gatherSimplePaths(['id','status'])\\\n",
    "\t\t\t\t\t\t.explode(['id','status'])"
   ]
  },
  {
   "cell_type": "markdown",
   "metadata": {},
   "source": [
    "### FHIR PACK Usage "
   ]
  },
  {
   "cell_type": "markdown",
   "metadata": {},
   "source": [
    "### References"
   ]
  },
  {
   "cell_type": "code",
   "execution_count": null,
   "metadata": {},
   "outputs": [],
   "source": [
    "patientReference = pack.getReferences(['Patient/647487'])\n",
    "\n",
    "patientReference.data.iloc[0].to_resource().serialize()\n",
    "\n",
    "patientReference.getResources()"
   ]
  },
  {
   "cell_type": "markdown",
   "metadata": {},
   "source": [
    "### Resources"
   ]
  },
  {
   "cell_type": "markdown",
   "metadata": {},
   "source": [
    "### Reference to Resource"
   ]
  },
  {
   "cell_type": "code",
   "execution_count": null,
   "metadata": {},
   "outputs": [],
   "source": [
    "multiPatientReference = pack.getReferences(\n",
    "    [\n",
    "        'Patient/1849165',\n",
    "        'Patient/647487'\n",
    "    ])\n",
    "\n",
    "multiPatientReference.data.apply( lambda x:x.id )"
   ]
  },
  {
   "cell_type": "markdown",
   "metadata": {},
   "source": [
    "### Direct Resource"
   ]
  },
  {
   "cell_type": "code",
   "execution_count": null,
   "metadata": {},
   "outputs": [],
   "source": [
    "pack.getPatients(searchParams={\"family\":\"Betterhalf\"})"
   ]
  },
  {
   "cell_type": "code",
   "execution_count": null,
   "metadata": {},
   "outputs": [],
   "source": [
    "pack.getPatients(searchParams={}).size"
   ]
  },
  {
   "cell_type": "code",
   "execution_count": null,
   "metadata": {},
   "outputs": [],
   "source": [
    "multiPatientResource = pack.getResources(\n",
    "    ['Patient/1849165',\n",
    "     'Patient/647487']\n",
    ")\n",
    "\n",
    "multiPatientResource"
   ]
  },
  {
   "cell_type": "markdown",
   "metadata": {},
   "source": [
    "### Serialization and Element Access"
   ]
  },
  {
   "cell_type": "code",
   "execution_count": null,
   "metadata": {},
   "outputs": [],
   "source": [
    "patientResource = patientReference.data.iloc[0].to_resource()\n",
    "\n",
    "patientResource['name'][0]['given']\n",
    "\n",
    "patientResource.serialize().get('birthDate')"
   ]
  },
  {
   "cell_type": "code",
   "execution_count": null,
   "metadata": {},
   "outputs": [],
   "source": [
    "multiPatientReference.getResources()"
   ]
  },
  {
   "cell_type": "code",
   "execution_count": null,
   "metadata": {},
   "outputs": [],
   "source": [
    "multiPatientResource[:1].pretty"
   ]
  },
  {
   "cell_type": "code",
   "execution_count": null,
   "metadata": {},
   "outputs": [],
   "source": [
    "fp.PACK().getDiagnosticReports(\n",
    "    ['Patient/647487']\n",
    ")[:1].keys\n"
   ]
  },
  {
   "cell_type": "markdown",
   "metadata": {},
   "source": [
    "### DataFrame Operations"
   ]
  },
  {
   "cell_type": "code",
   "execution_count": null,
   "metadata": {},
   "outputs": [],
   "source": [
    "multiPatientReference[:1]\n",
    "\n",
    "multiPatientReference[-1:]\n",
    "\n",
    "multiPatientReference.values\n",
    "\n",
    "multiPatientReference.info()"
   ]
  },
  {
   "cell_type": "markdown",
   "metadata": {},
   "source": [
    "### pack.base.Frame"
   ]
  },
  {
   "cell_type": "code",
   "execution_count": null,
   "metadata": {},
   "outputs": [],
   "source": [
    "fp.base.Frame( [[patientResource]], columns=['data'])"
   ]
  },
  {
   "cell_type": "markdown",
   "metadata": {},
   "source": [
    "### Extraction"
   ]
  },
  {
   "cell_type": "markdown",
   "metadata": {},
   "source": [
    "### Patient Extraction"
   ]
  },
  {
   "cell_type": "markdown",
   "metadata": {},
   "source": [
    "### fhirpack.extraction.getPatients"
   ]
  },
  {
   "cell_type": "code",
   "execution_count": null,
   "metadata": {},
   "outputs": [],
   "source": [
    "pack.getPatients(\n",
    "\t[\n",
    "\t\t'647487'\n",
    "\t]\n",
    ")\n"
   ]
  },
  {
   "cell_type": "code",
   "execution_count": null,
   "metadata": {},
   "outputs": [],
   "source": [
    "pack.getPatients(\n",
    "\t[\n",
    "\t\t'647487'\n",
    "\t]\n",
    ").data.item().serialize()"
   ]
  },
  {
   "cell_type": "code",
   "execution_count": null,
   "metadata": {},
   "outputs": [],
   "source": [
    "for i,e in pack.getPatients(['647487','1849165']).itertuples():\n",
    "    print (f\"Row {i} with Patient ID {e.id}\")"
   ]
  },
  {
   "cell_type": "code",
   "execution_count": null,
   "metadata": {},
   "outputs": [],
   "source": [
    "getPatientsAsList=pack.getPatients(['647487','1849165']).cast('list')\n",
    "\n",
    "getPatientsAsList"
   ]
  },
  {
   "cell_type": "code",
   "execution_count": null,
   "metadata": {},
   "outputs": [],
   "source": [
    "[e.pop().id for e in getPatientsAsList]"
   ]
  },
  {
   "cell_type": "markdown",
   "metadata": {},
   "source": [
    "### Patients as Operand and Extracting other Resources "
   ]
  },
  {
   "cell_type": "code",
   "execution_count": null,
   "metadata": {},
   "outputs": [],
   "source": [
    "patients = pack.getPatients(\n",
    "    ['9ac622c4-61c8-40b4-b6d9-06cfeb3d6995',\n",
    "    '1849165',\n",
    "    '649231',\n",
    "    '650224']\n",
    ")\n"
   ]
  },
  {
   "cell_type": "markdown",
   "metadata": {},
   "source": [
    "### fhirpack.extraction.getRootPatient"
   ]
  },
  {
   "cell_type": "code",
   "execution_count": null,
   "metadata": {},
   "outputs": [],
   "source": [
    "pack.getRootPatients(\n",
    "    [\n",
    "        'b558da74-7756-4845-87d5-d1cca8b79a62',\n",
    "    ],\n",
    ").explode().gatherSimplePaths([\"id\"]).id.unique()"
   ]
  },
  {
   "cell_type": "code",
   "execution_count": null,
   "metadata": {},
   "outputs": [],
   "source": [
    "patients.getRootPatients()"
   ]
  },
  {
   "cell_type": "code",
   "execution_count": null,
   "metadata": {},
   "outputs": [],
   "source": [
    "pack.getResources(\n",
    "\t[\n",
    "\t\t'Patient/b558da74-7756-4845-87d5-d1cca8b79a62'\n",
    "\t]\n",
    ").getRootPatients()"
   ]
  },
  {
   "cell_type": "code",
   "execution_count": null,
   "metadata": {},
   "outputs": [],
   "source": [
    "rootPatients = patients.getResources().getRootPatients().explode()\n",
    "\n",
    "rootPatients.gatherSimplePaths(['id','birthDate'])"
   ]
  },
  {
   "cell_type": "code",
   "execution_count": null,
   "metadata": {},
   "outputs": [],
   "source": [
    "rootPatients.data[0].name"
   ]
  },
  {
   "cell_type": "code",
   "execution_count": null,
   "metadata": {},
   "outputs": [],
   "source": [
    "for link in rootPatients.data[0]['link']:\n",
    "\tlpat=link.other.to_resource()\n",
    "\tprint(lpat.id)"
   ]
  },
  {
   "cell_type": "markdown",
   "metadata": {},
   "source": [
    "### fhirpack.extraction.getLinkedPatients"
   ]
  },
  {
   "cell_type": "code",
   "execution_count": null,
   "metadata": {},
   "outputs": [],
   "source": [
    "pack.getLinkedPatients(\n",
    "\t[\n",
    "\t\t'9ac622c4-61c8-40b4-b6d9-06cfeb3d6995',\n",
    "\t]\n",
    ")"
   ]
  },
  {
   "cell_type": "markdown",
   "metadata": {},
   "source": [
    "### fhirpack.extraction.getConditions"
   ]
  },
  {
   "cell_type": "markdown",
   "metadata": {},
   "source": [
    "### Conditions"
   ]
  },
  {
   "cell_type": "code",
   "execution_count": null,
   "metadata": {},
   "outputs": [],
   "source": [
    "conditions = pack.getConditions(\n",
    "\tsearchParams={\n",
    "\t\t'code':'44465007',\n",
    "\t\t'_sort': '-onset-date',\n",
    "\t}\n",
    ")[:5]\n",
    "\n",
    "conditions"
   ]
  },
  {
   "cell_type": "markdown",
   "metadata": {},
   "source": [
    "### Patients for Conditions"
   ]
  },
  {
   "cell_type": "code",
   "execution_count": null,
   "metadata": {},
   "outputs": [],
   "source": [
    "conditions.getPatients().explode().gatherSimplePaths(['id','name.given','name.family'])\n"
   ]
  },
  {
   "cell_type": "code",
   "execution_count": null,
   "metadata": {},
   "outputs": [],
   "source": [
    "conditions\\\n",
    "\t.getPatients()\\\n",
    "\t\t.explode()\\\n",
    "\t\t\t.data.apply(lambda x:x.id)\\\n",
    "\t\t\t\t.to_csv(f\"data.ignore\")"
   ]
  },
  {
   "cell_type": "code",
   "execution_count": null,
   "metadata": {},
   "outputs": [],
   "source": [
    "!cat data.ignore"
   ]
  },
  {
   "cell_type": "code",
   "execution_count": null,
   "metadata": {},
   "outputs": [],
   "source": [
    "conditions = pd.read_csv( f\"data.ignore\", index_col=0)\n",
    "conditions.shape\n",
    "conditions"
   ]
  },
  {
   "cell_type": "markdown",
   "metadata": {},
   "source": [
    "### Conditions for Patient"
   ]
  },
  {
   "cell_type": "code",
   "execution_count": null,
   "metadata": {},
   "outputs": [],
   "source": [
    "pack.getPatients(['8cbf1128-3644-47a1-9cc8-05f1aac6071d']).getConditions().explode()"
   ]
  },
  {
   "cell_type": "markdown",
   "metadata": {},
   "source": [
    "### fhipack.extraction.getEpisodesOfCare"
   ]
  },
  {
   "cell_type": "code",
   "execution_count": null,
   "metadata": {},
   "outputs": [],
   "source": [
    "rootPatients[:2]"
   ]
  },
  {
   "cell_type": "code",
   "execution_count": null,
   "metadata": {},
   "outputs": [],
   "source": [
    "pack.getPatients(['P0522-patientBSJ1']).getEpisodesOfCare()"
   ]
  },
  {
   "cell_type": "markdown",
   "metadata": {},
   "source": [
    "### fhipack.extraction.getFamilyMemberHistories"
   ]
  },
  {
   "cell_type": "code",
   "execution_count": null,
   "metadata": {},
   "outputs": [],
   "source": [
    "pack.getPatients(['Patient/2866670']).getFamilyMemberHistories()"
   ]
  },
  {
   "cell_type": "markdown",
   "metadata": {},
   "source": [
    "### fhipack.extraction.getMedicationAdministrations"
   ]
  },
  {
   "cell_type": "code",
   "execution_count": null,
   "metadata": {},
   "outputs": [],
   "source": [
    "pack.getPatients(['Patient/31678']).getMedicationAdministrations()[:5]"
   ]
  },
  {
   "cell_type": "markdown",
   "metadata": {},
   "source": [
    "### fhipack.extraction.getMedicationRequests"
   ]
  },
  {
   "cell_type": "code",
   "execution_count": null,
   "metadata": {},
   "outputs": [],
   "source": [
    "pack.getPatients(['Patient/202205uscore-patient-example-1']).getMedicationRequests().explode()"
   ]
  },
  {
   "cell_type": "markdown",
   "metadata": {},
   "source": [
    "### fhipack.extraction.getObservations"
   ]
  },
  {
   "cell_type": "code",
   "execution_count": null,
   "metadata": {},
   "outputs": [],
   "source": [
    "pack\\\n",
    "\t.getPatients(['Patient/258974'])\\\n",
    "\t\t.getConditions(searchParams={\"code\":\"44465007\"})\\\n",
    "\t\t\t.explode()\\\n",
    "\t\t\t\t.getPatients(searchParams={\"family\":\"Keebler762\"})"
   ]
  },
  {
   "cell_type": "code",
   "execution_count": null,
   "metadata": {},
   "outputs": [],
   "source": [
    "\n",
    "from datetime import datetime\n",
    "\n",
    "interesting = pack.getPatients(['Patient/2164033']).\\\n",
    "    getObservations(\n",
    "        searchParams={\n",
    "            \"code\":\"http ://loinc.org|29463-7\",\n",
    "            }\n",
    "    )\\\n",
    "        .gatherSimplePaths(['id','issued','code.coding.code'])\\\n",
    "            .explode(['id','issued','code.coding.code'])\n",
    "\n",
    "interesting.issued = pd.to_datetime(interesting.issued).dropna().apply(lambda x:x.replace(tzinfo=None))\n",
    "interesting[interesting.issued> datetime.fromisoformat('2021-01-01T00:00:00')]"
   ]
  },
  {
   "cell_type": "markdown",
   "metadata": {},
   "source": [
    "### fhirpack.extraction.getDiagnosticReports"
   ]
  },
  {
   "cell_type": "code",
   "execution_count": null,
   "metadata": {},
   "outputs": [],
   "source": [
    "diagnosticReports=pack\\\n",
    "\t.getPatients([\"Patient/9b8c1901-62ee-48a7-8229-b771d59f1e5f\"])\\\n",
    "\t\t.getDiagnosticReports(\n",
    "\t\t\tsearchParams={}\n",
    "\t\t\t)\\\n",
    "\t\t\t.explode()\n",
    "\n",
    "diagnosticReports"
   ]
  },
  {
   "cell_type": "code",
   "execution_count": null,
   "metadata": {},
   "outputs": [],
   "source": [
    "paths=[\n",
    "\t\"subject\",\n",
    "\t\"presentedForm.contentType\",\n",
    "\t\"presentedForm.data\",\n",
    "\t\"presentedForm.url\",\n",
    "\t\"presentedForm.title\",\n",
    "\t\"presentedForm.creation\"\n",
    "]\n",
    "\n",
    "\n",
    "\n",
    "diagnosticReports=pack.getDiagnosticReports(\n",
    "\tsearchParams={\n",
    "\t\t\"_id\":\"19bdf90a-8ca4-4921-8aeb-2bf3423aaf09\",\n",
    "\t\t# \"identifier\":\"|\",\n",
    "\t\t# \"_content\":\"covid19\",\n",
    "\t\t# \"code\":\"|\",\n",
    "\t\t# \"issued__gt\":\"2010-01-01\",\n",
    "\t\t# \"issued__lt\":\"2011-01-01\"\n",
    "\t}\n",
    ")\n",
    "\n",
    "diagnosticReports.gatherSimplePaths(paths)"
   ]
  },
  {
   "cell_type": "markdown",
   "metadata": {},
   "source": [
    "### fhirpack.extraction.getURLBytes"
   ]
  },
  {
   "cell_type": "code",
   "execution_count": null,
   "metadata": {},
   "outputs": [],
   "source": [
    "paths=[\n",
    "    'id',\n",
    "    'subject.reference',\n",
    "    'presentedForm.url'\n",
    "]\n",
    "\n",
    "diagnosticReports = pack.getPatients(\n",
    "    ['Patient/e92abcdc-a300-41e0-aa0f-378daebe25dc']\n",
    "    )\\\n",
    "        .getDiagnosticReports()[:10]\n",
    "\n",
    "diagnosticReports=diagnosticReports.gatherSimplePaths(paths)\n",
    "diagnosticReports=diagnosticReports.explode('presentedForm.url')\n",
    "diagnosticReports\n",
    "\n",
    "# diagnosticReports['path']=diagnosticReports['id']+'_'+diagnosticReports['presentedForm.url'].str.split('/').str[-1:].str[0]\n",
    "# diagnosticReports['data']=diagnosticReports.getURLBytes(operateOnCol='presentedForm.url')\n",
    "# diagnosticReports.sendBytesToFile()"
   ]
  },
  {
   "cell_type": "code",
   "execution_count": null,
   "metadata": {},
   "outputs": [],
   "source": [
    "diagnosticReports.loc[:, diagnosticReports.columns!='data'][:5]"
   ]
  },
  {
   "cell_type": "markdown",
   "metadata": {},
   "source": [
    "### fhirpack.extraction.base.getAbsolutePaths"
   ]
  },
  {
   "cell_type": "code",
   "execution_count": null,
   "metadata": {},
   "outputs": [],
   "source": [
    "absolutePaths=[\n",
    "#    'Condition.code.coding.code',\n",
    "   'Condition.id',\n",
    "    'Condition.subject.reference',\n",
    "    'Encounter.id',\n",
    "    'Encounter.participant.individual.reference',\n",
    "#     'Procedure.code.coding.display',\n",
    "#     'Procedure.code.coding.code',\n",
    "    'Procedure.id',\n",
    "    'Procedure.status',\n",
    "    'Procedure.performedDateTime'\n",
    "]\n",
    "\n",
    "result=pack.getPatients(\n",
    "    ['Patient/e92abcdc-a300-41e0-aa0f-378daebe25dc']\n",
    ").getAbsolutePaths(absolutePaths)"
   ]
  },
  {
   "cell_type": "code",
   "execution_count": null,
   "metadata": {},
   "outputs": [],
   "source": [
    "result['Procedure']"
   ]
  },
  {
   "cell_type": "code",
   "execution_count": null,
   "metadata": {},
   "outputs": [],
   "source": [
    "paths=[\n",
    "\t'valueQuantity.value',\n",
    "\t'valueQuantity.unit',\n",
    "\t'valueQuantity.system',\n",
    "\t'valueQuantity.code',\n",
    "]"
   ]
  },
  {
   "cell_type": "code",
   "execution_count": null,
   "metadata": {},
   "outputs": [],
   "source": [
    "pack.\\\n",
    "\tgetPatients(['e92abcdc-a300-41e0-aa0f-378daebe25dc'])\\\n",
    "\t\t.getObservations()\\\n",
    "\t\t\t.explode()\\\n",
    "\t\t\t\t.gatherSimplePaths(paths)"
   ]
  },
  {
   "cell_type": "code",
   "execution_count": null,
   "metadata": {},
   "outputs": [],
   "source": [
    "result[\"Condition\"]"
   ]
  },
  {
   "cell_type": "code",
   "execution_count": null,
   "metadata": {},
   "outputs": [],
   "source": [
    "result[\"Encounter\"]"
   ]
  },
  {
   "cell_type": "code",
   "execution_count": null,
   "metadata": {},
   "outputs": [],
   "source": [
    "result[\"Procedure\"]"
   ]
  },
  {
   "cell_type": "code",
   "execution_count": null,
   "metadata": {},
   "outputs": [],
   "source": [
    "result['Encounter'].explode(\n",
    "\t'Encounter.participant.individual.reference'\n",
    ")\\\n",
    "\t.rename(\n",
    "\t\tcolumns={\"Encounter.participant.individual.reference\":\"data\"}\n",
    "\t\t)\\\n",
    "\t\t\t.dropna()\\\n",
    "\t\t\t\t.getResources()[:5]\\\n",
    "\t\t\t\t\t.gatherSimplePaths(['name.given','name.family'])"
   ]
  },
  {
   "cell_type": "markdown",
   "metadata": {},
   "source": [
    "### fhirpack.extraction.getImagingStudies"
   ]
  },
  {
   "cell_type": "code",
   "execution_count": null,
   "metadata": {},
   "outputs": [],
   "source": [
    "conds=pack.getConditions(\n",
    "\tsearchParams={\n",
    "\t\t\"code\":\"C61\",\n",
    "\t\t# \"_content\": \"leber\"\n",
    "\t}\n",
    "\t)\n",
    "conds"
   ]
  },
  {
   "cell_type": "code",
   "execution_count": null,
   "metadata": {},
   "outputs": [],
   "source": [
    "pack\\\n",
    "\t.getImagingStudies(searchParams={\"endpoint:missing\":False})\\\n",
    "\t\t.gatherSimplePaths(['series.description','series.uid','identifier.value'])\n",
    "\n",
    "# use .getDICOMInstances().sendDICOMToFiles() to download DICOM files"
   ]
  },
  {
   "cell_type": "markdown",
   "metadata": {},
   "source": [
    "### Transformation"
   ]
  },
  {
   "cell_type": "markdown",
   "metadata": {},
   "source": [
    "### fhirpack.transformation.base.gatherKeys"
   ]
  },
  {
   "cell_type": "code",
   "execution_count": null,
   "metadata": {},
   "outputs": [],
   "source": [
    "patients.gatherKeys().data.explode().value_counts()[:10]"
   ]
  },
  {
   "cell_type": "code",
   "execution_count": null,
   "metadata": {},
   "outputs": [],
   "source": [
    "pack.getPatients(\n",
    "    ['e92abcdc-a300-41e0-aa0f-378daebe25dc']\n",
    "    )\\\n",
    "        .gatherKeys(['valueString'])\\\n",
    "            .explode()"
   ]
  },
  {
   "cell_type": "markdown",
   "metadata": {},
   "source": [
    "### fhirpack.transformation.base.valuesForKeys"
   ]
  },
  {
   "cell_type": "code",
   "execution_count": null,
   "metadata": {},
   "outputs": [],
   "source": [
    "pack.getPatients(\n",
    "    ['e92abcdc-a300-41e0-aa0f-378daebe25dc'],\n",
    "    # includeLinkedPatients=True\n",
    "    )\\\n",
    "        .gatherValuesForKeys(['valueString'])\\\n",
    "            .explode()"
   ]
  },
  {
   "cell_type": "markdown",
   "metadata": {},
   "source": [
    "### fhirpack.transformation.base.gatherReferences"
   ]
  },
  {
   "cell_type": "code",
   "execution_count": null,
   "metadata": {},
   "outputs": [],
   "source": [
    "pack.gatherReferences(\n",
    "    ['Patient/9ac622c4-61c8-40b4-b6d9-06cfeb3d6995']\n",
    "    , recursive=True\n",
    ")"
   ]
  },
  {
   "cell_type": "markdown",
   "metadata": {},
   "source": [
    "### fhirpack.transformation.base.gatherText"
   ]
  },
  {
   "cell_type": "code",
   "execution_count": null,
   "metadata": {},
   "outputs": [],
   "source": [
    "fp.PACK().getPatients(\n",
    "    ['Patient/1555106'],\n",
    "    )\\\n",
    "        .getObservations()[:5]\\\n",
    "            .explode()\\\n",
    "                .gatherText()"
   ]
  },
  {
   "cell_type": "markdown",
   "metadata": {},
   "source": [
    "### fhirpack.transformation.base.gatherDates"
   ]
  },
  {
   "cell_type": "code",
   "execution_count": null,
   "metadata": {},
   "outputs": [],
   "source": [
    "fp.PACK().getPatients(\n",
    "    ['Patient/1555106'],\n",
    "    )\\\n",
    "        .getObservations()[:5]\\\n",
    "            .explode()\\\n",
    "                .gatherValuesForKeys(['issued'])"
   ]
  },
  {
   "cell_type": "code",
   "execution_count": null,
   "metadata": {},
   "outputs": [],
   "source": [
    "fp.PACK().getPatients(\n",
    "    ['Patient/1555106'],\n",
    "    )\\\n",
    "        .getObservations()[:5]\\\n",
    "            .explode()\\\n",
    "                .gatherDates()"
   ]
  },
  {
   "cell_type": "markdown",
   "metadata": {},
   "source": [
    "### Load"
   ]
  },
  {
   "cell_type": "code",
   "execution_count": null,
   "metadata": {},
   "outputs": [],
   "source": [
    "pack.validate(\n",
    "    ['Patient/1555106']\n",
    "    )\\\n",
    "        .sendResourcesToFiles(['./data.ignore'])"
   ]
  },
  {
   "cell_type": "markdown",
   "metadata": {},
   "source": [
    "### Utils"
   ]
  },
  {
   "cell_type": "markdown",
   "metadata": {},
   "source": [
    "### Server Profiling"
   ]
  },
  {
   "cell_type": "code",
   "execution_count": null,
   "metadata": {},
   "outputs": [],
   "source": [
    "pack.countServerResources()"
   ]
  },
  {
   "cell_type": "markdown",
   "metadata": {},
   "source": [
    "### Validation"
   ]
  },
  {
   "cell_type": "code",
   "execution_count": null,
   "metadata": {},
   "outputs": [],
   "source": [
    "pack.validate(\n",
    "    ['Patient/1555106']\n",
    ")\n"
   ]
  },
  {
   "cell_type": "markdown",
   "metadata": {},
   "source": [
    "### FHIR PACK Internals"
   ]
  },
  {
   "cell_type": "markdown",
   "metadata": {},
   "source": [
    "#### FHIRPy"
   ]
  },
  {
   "cell_type": "markdown",
   "metadata": {},
   "source": [
    "### URL Parsing"
   ]
  },
  {
   "cell_type": "code",
   "execution_count": null,
   "metadata": {},
   "outputs": [],
   "source": [
    "import fhirpy.base.utils as fpu\n",
    "url=fpu.parse_pagination_url('/app/FHIR/r4/Condition?code=C61&_count=1&_sort=-onset-date&identifier=%7C&_Pagination=eyJvZmZzZXQiOjIwfQ%3D%3D')\n",
    "url"
   ]
  },
  {
   "cell_type": "markdown",
   "metadata": {},
   "source": [
    "### Raw fetch_resource()"
   ]
  },
  {
   "cell_type": "code",
   "execution_count": null,
   "metadata": {},
   "outputs": [],
   "source": [
    "pack.client._fetch_resource(\n",
    "\t\"Condition/1499041\"\n",
    ")"
   ]
  },
  {
   "cell_type": "markdown",
   "metadata": {},
   "source": [
    "### Raw client.execute()"
   ]
  },
  {
   "cell_type": "code",
   "execution_count": null,
   "metadata": {},
   "outputs": [],
   "source": [
    "pack.client.execute('/baseR4/Condition',\n",
    "method='get',\n",
    "params={\n",
    "\t'code':'C61',\n",
    "\t'_sort':'-onset-date',\n",
    "\t'_count': 1,\n",
    "\t'_total':'accurate'\n",
    "}\n",
    ").total"
   ]
  },
  {
   "cell_type": "markdown",
   "metadata": {},
   "source": [
    "### Customization"
   ]
  },
  {
   "cell_type": "markdown",
   "metadata": {},
   "source": [
    "### fhirpack.custom.extraction.base"
   ]
  },
  {
   "cell_type": "code",
   "execution_count": null,
   "metadata": {},
   "outputs": [],
   "source": [
    "# the fhirpack.custom package is guaranteed to never be used by us\n",
    "# use it to customize fhirpack\n",
    "\n",
    "# pack.unimplementedPluginBaseExtractorMethod()\n",
    "# pack.unimplementedPluginBaseTransformerMethod()\n",
    "# pack.unimplementedPluginBaseLoaderMethod()\n",
    "\n",
    "# pack.unimplementedPluginSampleExtractorMethod()\n",
    "# pack.unimplementedPluginSampleTransformerMethod()\n",
    "# pack.unimplementedPluginSampleLoaderMethod()"
   ]
  }
 ],
 "metadata": {
  "kernelspec": {
   "display_name": "Python 3.9.6 ('main-ZKJ93Kvm')",
   "language": "python",
   "name": "python3"
  },
  "language_info": {
   "codemirror_mode": {
    "name": "ipython",
    "version": 3
   },
   "file_extension": ".py",
   "mimetype": "text/x-python",
   "name": "python",
   "nbconvert_exporter": "python",
   "pygments_lexer": "ipython3",
   "version": "3.9.6"
  },
  "vscode": {
   "interpreter": {
    "hash": "698505c68de4ce4cb0dedeb0701f99b8e9d1e5865530ff253aaab5b5ce8a973a"
   }
  }
 },
 "nbformat": 4,
 "nbformat_minor": 2
}
