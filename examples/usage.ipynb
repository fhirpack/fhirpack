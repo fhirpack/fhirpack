{
 "cells": [
  {
   "cell_type": "markdown",
   "metadata": {},
   "source": [
    "# Boilerplate"
   ]
  },
  {
   "cell_type": "code",
   "execution_count": 1,
   "metadata": {},
   "outputs": [
    {
     "name": "stdout",
     "output_type": "stream",
     "text": [
      "Pretty printing has been turned OFF\n"
     ]
    }
   ],
   "source": [
    "%load_ext autoreload\n",
    "%autoreload 2\n",
    "%pprint off"
   ]
  },
  {
   "cell_type": "code",
   "execution_count": 2,
   "metadata": {},
   "outputs": [],
   "source": [
    "from IPython.core.interactiveshell import InteractiveShell\n",
    "InteractiveShell.ast_node_interactivity = \"all\""
   ]
  },
  {
   "cell_type": "code",
   "execution_count": 3,
   "metadata": {},
   "outputs": [
    {
     "name": "stdout",
     "output_type": "stream",
     "text": [
      "Pretty printing has been turned ON\n"
     ]
    }
   ],
   "source": [
    "%pprint\n",
    "# !jupyter nbextension enable --py widgetsnbextension"
   ]
  },
  {
   "cell_type": "markdown",
   "metadata": {},
   "source": [
    "# Preamble"
   ]
  },
  {
   "cell_type": "code",
   "execution_count": 4,
   "metadata": {},
   "outputs": [
    {
     "data": {
      "text/plain": [
       "['/Users/tillrostalski/Git/main/examples',\n",
       " '/Users/tillrostalski/.vscode/extensions/ms-toolsai.jupyter-2022.3.1000901801/pythonFiles',\n",
       " '/Users/tillrostalski/.vscode/extensions/ms-toolsai.jupyter-2022.3.1000901801/pythonFiles/lib/python',\n",
       " '/Users/tillrostalski/.pyenv/versions/3.9.6/lib/python39.zip',\n",
       " '/Users/tillrostalski/.pyenv/versions/3.9.6/lib/python3.9',\n",
       " '/Users/tillrostalski/.pyenv/versions/3.9.6/lib/python3.9/lib-dynload',\n",
       " '',\n",
       " '/Users/tillrostalski/.local/share/virtualenvs/main-ZKJ93Kvm/lib/python3.9/site-packages',\n",
       " '/Users/tillrostalski/Git/main/src',\n",
       " '/Users/tillrostalski/.local/lib/python3.9/site-packages',\n",
       " '/Users/tillrostalski/Git/main/examples/../src/']"
      ]
     },
     "execution_count": 4,
     "metadata": {},
     "output_type": "execute_result"
    }
   ],
   "source": [
    "import sys,os\n",
    "sys.path.append(os.getcwd()+'/../src/')\n",
    "sys.path"
   ]
  },
  {
   "cell_type": "code",
   "execution_count": 5,
   "metadata": {},
   "outputs": [],
   "source": [
    "if not os.path.exists(\"logs\"):\n",
    "    os.makedirs(\"logs\")"
   ]
  },
  {
   "cell_type": "code",
   "execution_count": 6,
   "metadata": {},
   "outputs": [],
   "source": [
    "import fhirdrill\tas fd\n",
    "import pandas\t\t\tas pd\n",
    "import fhirpy\t\t\tas fp\n",
    "import numpy\t\t\tas np\n",
    "import fhir.resources\tas fr\n",
    "import json\n",
    "# from tqdm import notebook as tqdm\n",
    "from tqdm import tqdm\n",
    "tqdm.pandas()\n",
    "from fhirdrill.constants import CONFIG\n",
    "tqdm.pandas()"
   ]
  },
  {
   "cell_type": "code",
   "execution_count": 7,
   "metadata": {},
   "outputs": [],
   "source": [
    "pd.set_option('display.max_rows', None)\n",
    "pd.set_option('display.max_columns', None)\n",
    "pd.set_option('display.width', None)\n",
    "pd.set_option('display.max_colwidth', None)"
   ]
  },
  {
   "cell_type": "code",
   "execution_count": 8,
   "metadata": {},
   "outputs": [],
   "source": [
    "DATAPATH=CONFIG.get('DATAPATH')\n",
    "RESPATH=f\"{DATAPATH}/fhir/\""
   ]
  },
  {
   "cell_type": "markdown",
   "metadata": {},
   "source": [
    "# ------------------------------------------------------------------------"
   ]
  },
  {
   "cell_type": "markdown",
   "metadata": {},
   "source": [
    "# FHIR Server Connection"
   ]
  },
  {
   "cell_type": "markdown",
   "metadata": {},
   "source": [
    "### CLI Usage"
   ]
  },
  {
   "cell_type": "markdown",
   "metadata": {},
   "source": [
    "To be implemented"
   ]
  },
  {
   "cell_type": "markdown",
   "metadata": {},
   "source": [
    "### From Default Environment File"
   ]
  },
  {
   "cell_type": "code",
   "execution_count": 9,
   "metadata": {},
   "outputs": [],
   "source": [
    "drill = fd.Drill()"
   ]
  },
  {
   "cell_type": "markdown",
   "metadata": {},
   "source": [
    "### From Custom Environment File"
   ]
  },
  {
   "cell_type": "code",
   "execution_count": 10,
   "metadata": {},
   "outputs": [],
   "source": [
    "drill= fd.Drill(envFile='../.env.example')"
   ]
  },
  {
   "cell_type": "markdown",
   "metadata": {},
   "source": [
    "### Manual client setup"
   ]
  },
  {
   "cell_type": "code",
   "execution_count": 11,
   "metadata": {},
   "outputs": [],
   "source": [
    "client = fp.SyncFHIRClient(\"http://127.0.0.1:32112/hapi-fhir-jpaserver/fhir\")\n",
    "drill  = fd.Drill(client)"
   ]
  },
  {
   "cell_type": "markdown",
   "metadata": {},
   "source": [
    "# ------------------------------------------------------------------------"
   ]
  },
  {
   "cell_type": "markdown",
   "metadata": {},
   "source": [
    "# FHIR Drill Usage "
   ]
  },
  {
   "cell_type": "markdown",
   "metadata": {},
   "source": [
    "## Resources"
   ]
  },
  {
   "cell_type": "markdown",
   "metadata": {},
   "source": [
    "Resources can be retrieved by their id as input or by providing search parameters.\n",
    "\n",
    "Note that the input always has to be of type list. "
   ]
  },
  {
   "cell_type": "markdown",
   "metadata": {},
   "source": [
    "### get Resource by input"
   ]
  },
  {
   "cell_type": "code",
   "execution_count": 22,
   "metadata": {},
   "outputs": [],
   "source": [
    "%%capture\n",
    "# get single Resource by ID\n",
    "drill.getPatients([\"1\"])\n",
    "drill.getConditions([\"5\"])\n",
    "drill.getObservations([\"9\"])\n",
    "\n",
    "# get multiple resources by their ids\n",
    "drill.getPatients([\"1\", \"181\", \"525\"])\n",
    "drill.getConditions([\"5\", \"209\", \"218\"])\n",
    "drill.getObservations([\"9\", \"10\", \"13\"])\n"
   ]
  },
  {
   "cell_type": "markdown",
   "metadata": {},
   "source": [
    "If there is no get method available for your desired resource, use `getResources()` and provide the resourceType and id"
   ]
  },
  {
   "cell_type": "code",
   "execution_count": 44,
   "metadata": {},
   "outputs": [],
   "source": [
    "%%capture\n",
    "drill.getResources([\"102\"],resourceType=\"CarePlan\")"
   ]
  },
  {
   "cell_type": "markdown",
   "metadata": {},
   "source": [
    "### search for Resource"
   ]
  },
  {
   "cell_type": "code",
   "execution_count": 23,
   "metadata": {},
   "outputs": [],
   "source": [
    "%%capture\n",
    "# get all patients\n",
    "drill.getPatients(searchParams={})"
   ]
  },
  {
   "cell_type": "code",
   "execution_count": 8,
   "metadata": {},
   "outputs": [],
   "source": [
    "%%capture\n",
    "drill.getPatients(searchParams={\"_id\" : \"1\"})\n",
    "drill.getPatients(searchParams={\"family\" : \"Koepp\"})\n",
    "drill.getPatients(searchParams={\"family\" : \"Koepp\", \"_id\": \"1\"})"
   ]
  },
  {
   "cell_type": "markdown",
   "metadata": {},
   "source": [
    "Chain get Operations to retrieve connected resources."
   ]
  },
  {
   "cell_type": "code",
   "execution_count": 34,
   "metadata": {},
   "outputs": [],
   "source": [
    "%%capture\n",
    "# get Condtiions for patient 1\n",
    "drill.getPatients([\"1\"]).getConditions()\n",
    "\n",
    "# get Observations for patients with family name Koepp\n",
    "drill.getPatients(searchParams={\"family\" : \"Koepp\"}).getObservations()\n",
    "\n",
    "# get any Condition with a code that has a text \"Hypertension\" associated with it\n",
    "# (either in the text, or a display)\n",
    "drill.getConditions(searchParams={\"code:text\": \"Hypertension\"}).getPatients()"
   ]
  },
  {
   "cell_type": "code",
   "execution_count": 49,
   "metadata": {},
   "outputs": [
    {
     "name": "stderr",
     "output_type": "stream",
     "text": [
      "SEARCH > : 100%|██████████| 12/12 [00:01<00:00,  7.91it/s]\n"
     ]
    },
    {
     "data": {
      "text/html": [
       "<div>\n",
       "<style scoped>\n",
       "    .dataframe tbody tr th:only-of-type {\n",
       "        vertical-align: middle;\n",
       "    }\n",
       "\n",
       "    .dataframe tbody tr th {\n",
       "        vertical-align: top;\n",
       "    }\n",
       "\n",
       "    .dataframe thead th {\n",
       "        text-align: right;\n",
       "    }\n",
       "</style>\n",
       "<table border=\"1\" class=\"dataframe\">\n",
       "  <thead>\n",
       "    <tr style=\"text-align: right;\">\n",
       "      <th></th>\n",
       "      <th>data</th>\n",
       "    </tr>\n",
       "  </thead>\n",
       "  <tbody>\n",
       "    <tr>\n",
       "      <th>0</th>\n",
       "      <td>{'resourceType': 'ImagingStudy', 'id': '103', 'meta': {'versionId': '1', 'lastUpdated': '2020-06-11T15:26:55.251+00:00', 'source': '#JlcA0bg5xBW1iwXq', 'tag': [{'system': 'https://smarthealthit.org/tags', 'code': 'synthea-5-2019'}]}, 'identifier': [{'use': 'official', 'system': 'urn:ietf:rfc:3986', 'value': 'urn:oid:1.2.840.99999999.38780235.1559319198559'}], 'status': 'available', 'subject': {'reference': 'Patient/1'}, 'encounter': {'reference': 'Encounter/97'}, 'started': '2015-05-20T19:37:54-04:00', 'numberOfSeries': 1, 'numberOfInstances': 1, 'series': [{'uid': '1.2.840.99999999.1.82637698.1559319198567', 'number': 1, 'modality': {'system': 'http://dicom.nema.org/resources/ontology/DCM', 'code': 'DX', 'display': 'Digital Radiography'}, 'numberOfInstances': 1, 'bodySite': {'system': 'http://snomed.info/sct', 'code': '72696002', 'display': 'Knee'}, 'started': '2015-05-20T19:37:54-04:00', 'instance': [{'uid': '1.2.840.99999999.1.1.25902494.1559319198567', 'sopClass': {'system': 'urn:ietf:rfc:3986', 'code': '1.2.840.10008.5.1.4.1.1.1.1'}, 'number': 1, 'title': 'Image of knee'}]}]}</td>\n",
       "    </tr>\n",
       "    <tr>\n",
       "      <th>1</th>\n",
       "      <td>{'resourceType': 'ImagingStudy', 'id': '24440', 'meta': {'versionId': '1', 'lastUpdated': '2020-06-11T15:40:13.178+00:00', 'source': '#CAOC38xe6RXk4hrV', 'tag': [{'system': 'https://smarthealthit.org/tags', 'code': 'synthea-5-2019'}]}, 'identifier': [{'use': 'official', 'system': 'urn:ietf:rfc:3986', 'value': 'urn:oid:1.2.840.99999999.13865976.1559319179294'}], 'status': 'available', 'subject': {'reference': 'Patient/24279'}, 'encounter': {'reference': 'Encounter/24434'}, 'started': '2017-10-25T14:33:39-04:00', 'numberOfSeries': 1, 'numberOfInstances': 1, 'series': [{'uid': '1.2.840.99999999.1.45433192.1559319179294', 'number': 1, 'modality': {'system': 'http://dicom.nema.org/resources/ontology/DCM', 'code': 'DX', 'display': 'Digital Radiography'}, 'numberOfInstances': 1, 'bodySite': {'system': 'http://snomed.info/sct', 'code': '72696002', 'display': 'Knee'}, 'started': '2017-10-25T14:33:39-04:00', 'instance': [{'uid': '1.2.840.99999999.1.1.32361793.1559319179294', 'sopClass': {'system': 'urn:ietf:rfc:3986', 'code': '1.2.840.10008.5.1.4.1.1.1.1'}, 'number': 1, 'title': 'Image of knee'}]}]}</td>\n",
       "    </tr>\n",
       "    <tr>\n",
       "      <th>2</th>\n",
       "      <td>{'resourceType': 'ImagingStudy', 'id': '26225', 'meta': {'versionId': '1', 'lastUpdated': '2020-06-11T15:40:52.094+00:00', 'source': '#ddEQrYqvd0vlGIJ8', 'tag': [{'system': 'https://smarthealthit.org/tags', 'code': 'synthea-5-2019'}]}, 'identifier': [{'use': 'official', 'system': 'urn:ietf:rfc:3986', 'value': 'urn:oid:1.2.840.99999999.24942788.1559319182956'}], 'status': 'available', 'subject': {'reference': 'Patient/26022'}, 'encounter': {'reference': 'Encounter/26219'}, 'started': '2016-02-14T14:59:36-05:00', 'numberOfSeries': 1, 'numberOfInstances': 1, 'series': [{'uid': '1.2.840.99999999.1.93040107.1559319182973', 'number': 1, 'modality': {'system': 'http://dicom.nema.org/resources/ontology/DCM', 'code': 'DX', 'display': 'Digital Radiography'}, 'numberOfInstances': 1, 'bodySite': {'system': 'http://snomed.info/sct', 'code': '72696002', 'display': 'Knee'}, 'started': '2016-02-14T14:59:36-05:00', 'instance': [{'uid': '1.2.840.99999999.1.1.22220940.1559319182973', 'sopClass': {'system': 'urn:ietf:rfc:3986', 'code': '1.2.840.10008.5.1.4.1.1.1.1'}, 'number': 1, 'title': 'Image of knee'}]}]}</td>\n",
       "    </tr>\n",
       "    <tr>\n",
       "      <th>3</th>\n",
       "      <td>{'resourceType': 'ImagingStudy', 'id': '35237', 'meta': {'versionId': '1', 'lastUpdated': '2020-06-11T15:46:58.436+00:00', 'source': '#bgG9OviXI7It3xm3', 'tag': [{'system': 'https://smarthealthit.org/tags', 'code': 'synthea-5-2019'}]}, 'identifier': [{'use': 'official', 'system': 'urn:ietf:rfc:3986', 'value': 'urn:oid:1.2.840.99999999.31346650.1559319197273'}], 'status': 'available', 'subject': {'reference': 'Patient/34857'}, 'encounter': {'reference': 'Encounter/35231'}, 'started': '2016-02-23T13:09:48-05:00', 'numberOfSeries': 1, 'numberOfInstances': 1, 'series': [{'uid': '1.2.840.99999999.1.32893846.1559319197273', 'number': 1, 'modality': {'system': 'http://dicom.nema.org/resources/ontology/DCM', 'code': 'DX', 'display': 'Digital Radiography'}, 'numberOfInstances': 1, 'bodySite': {'system': 'http://snomed.info/sct', 'code': '72696002', 'display': 'Knee'}, 'started': '2016-02-23T13:09:48-05:00', 'instance': [{'uid': '1.2.840.99999999.1.1.45483278.1559319197273', 'sopClass': {'system': 'urn:ietf:rfc:3986', 'code': '1.2.840.10008.5.1.4.1.1.1.1'}, 'number': 1, 'title': 'Image of knee'}]}]}</td>\n",
       "    </tr>\n",
       "    <tr>\n",
       "      <th>4</th>\n",
       "      <td>{'resourceType': 'ImagingStudy', 'id': '68496', 'meta': {'versionId': '1', 'lastUpdated': '2020-06-11T16:18:07.086+00:00', 'source': '#xEVYpQ9FvjpUxgsq', 'tag': [{'system': 'https://smarthealthit.org/tags', 'code': 'synthea-5-2019'}]}, 'identifier': [{'use': 'official', 'system': 'urn:ietf:rfc:3986', 'value': 'urn:oid:1.2.840.99999999.34442011.1559319197673'}], 'status': 'available', 'subject': {'reference': 'Patient/68260'}, 'encounter': {'reference': 'Encounter/68490'}, 'started': '2015-08-21T10:59:16-04:00', 'numberOfSeries': 1, 'numberOfInstances': 1, 'series': [{'uid': '1.2.840.99999999.1.33401839.1559319197673', 'number': 1, 'modality': {'system': 'http://dicom.nema.org/resources/ontology/DCM', 'code': 'DX', 'display': 'Digital Radiography'}, 'numberOfInstances': 1, 'bodySite': {'system': 'http://snomed.info/sct', 'code': '72696002', 'display': 'Knee'}, 'started': '2015-08-21T10:59:16-04:00', 'instance': [{'uid': '1.2.840.99999999.1.1.69086891.1559319197673', 'sopClass': {'system': 'urn:ietf:rfc:3986', 'code': '1.2.840.10008.5.1.4.1.1.1.1'}, 'number': 1, 'title': 'Image of knee'}]}]}</td>\n",
       "    </tr>\n",
       "    <tr>\n",
       "      <th>5</th>\n",
       "      <td>{'resourceType': 'ImagingStudy', 'id': '74251', 'meta': {'versionId': '1', 'lastUpdated': '2020-06-11T16:22:38.209+00:00', 'source': '#zMK9hXgh5iMNgNfN', 'tag': [{'system': 'https://smarthealthit.org/tags', 'code': 'synthea-5-2019'}]}, 'identifier': [{'use': 'official', 'system': 'urn:ietf:rfc:3986', 'value': 'urn:oid:1.2.840.99999999.42918161.1559319183206'}], 'status': 'available', 'subject': {'reference': 'Patient/74106'}, 'encounter': {'reference': 'Encounter/74245'}, 'started': '2017-01-27T12:18:53-05:00', 'numberOfSeries': 1, 'numberOfInstances': 1, 'series': [{'uid': '1.2.840.99999999.1.34887743.1559319183206', 'number': 1, 'modality': {'system': 'http://dicom.nema.org/resources/ontology/DCM', 'code': 'DX', 'display': 'Digital Radiography'}, 'numberOfInstances': 1, 'bodySite': {'system': 'http://snomed.info/sct', 'code': '72696002', 'display': 'Knee'}, 'started': '2017-01-27T12:18:53-05:00', 'instance': [{'uid': '1.2.840.99999999.1.1.36328798.1559319183206', 'sopClass': {'system': 'urn:ietf:rfc:3986', 'code': '1.2.840.10008.5.1.4.1.1.1.1'}, 'number': 1, 'title': 'Image of knee'}]}]}</td>\n",
       "    </tr>\n",
       "    <tr>\n",
       "      <th>6</th>\n",
       "      <td>{'resourceType': 'ImagingStudy', 'id': '84192', 'meta': {'versionId': '1', 'lastUpdated': '2020-06-11T16:32:09.528+00:00', 'source': '#VwOu1GAD3AsLTACn', 'tag': [{'system': 'https://smarthealthit.org/tags', 'code': 'synthea-5-2019'}]}, 'identifier': [{'use': 'official', 'system': 'urn:ietf:rfc:3986', 'value': 'urn:oid:1.2.840.99999999.43700348.1559319180786'}], 'status': 'available', 'subject': {'reference': 'Patient/84154'}, 'encounter': {'reference': 'Encounter/84186'}, 'started': '2010-03-02T08:59:06-05:00', 'numberOfSeries': 1, 'numberOfInstances': 1, 'series': [{'uid': '1.2.840.99999999.1.40922766.1559319180786', 'number': 1, 'modality': {'system': 'http://dicom.nema.org/resources/ontology/DCM', 'code': 'DX', 'display': 'Digital Radiography'}, 'numberOfInstances': 1, 'bodySite': {'system': 'http://snomed.info/sct', 'code': '72696002', 'display': 'Knee'}, 'started': '2010-03-02T08:59:06-05:00', 'instance': [{'uid': '1.2.840.99999999.1.1.80583306.1559319180786', 'sopClass': {'system': 'urn:ietf:rfc:3986', 'code': '1.2.840.10008.5.1.4.1.1.1.1'}, 'number': 1, 'title': 'Image of knee'}]}]}</td>\n",
       "    </tr>\n",
       "    <tr>\n",
       "      <th>7</th>\n",
       "      <td>{'resourceType': 'ImagingStudy', 'id': '112986', 'meta': {'versionId': '1', 'lastUpdated': '2020-06-11T16:51:28.831+00:00', 'source': '#NbA3dZBMZ0FBcYxc', 'tag': [{'system': 'https://smarthealthit.org/tags', 'code': 'synthea-5-2019'}]}, 'identifier': [{'use': 'official', 'system': 'urn:ietf:rfc:3986', 'value': 'urn:oid:1.2.840.99999999.65885246.1559319182715'}], 'status': 'available', 'subject': {'reference': 'Patient/112949'}, 'encounter': {'reference': 'Encounter/112980'}, 'started': '2011-06-06T05:55:07-04:00', 'numberOfSeries': 1, 'numberOfInstances': 1, 'series': [{'uid': '1.2.840.99999999.1.17396653.1559319182715', 'number': 1, 'modality': {'system': 'http://dicom.nema.org/resources/ontology/DCM', 'code': 'DX', 'display': 'Digital Radiography'}, 'numberOfInstances': 1, 'bodySite': {'system': 'http://snomed.info/sct', 'code': '72696002', 'display': 'Knee'}, 'started': '2011-06-06T05:55:07-04:00', 'instance': [{'uid': '1.2.840.99999999.1.1.89472619.1559319182715', 'sopClass': {'system': 'urn:ietf:rfc:3986', 'code': '1.2.840.10008.5.1.4.1.1.1.1'}, 'number': 1, 'title': 'Image of knee'}]}]}</td>\n",
       "    </tr>\n",
       "    <tr>\n",
       "      <th>8</th>\n",
       "      <td>{'resourceType': 'ImagingStudy', 'id': '150605', 'meta': {'versionId': '1', 'lastUpdated': '2020-06-11T17:12:26.932+00:00', 'source': '#sf6tJUGDHY3scUMk', 'tag': [{'system': 'https://smarthealthit.org/tags', 'code': 'synthea-5-2019'}]}, 'identifier': [{'use': 'official', 'system': 'urn:ietf:rfc:3986', 'value': 'urn:oid:1.2.840.99999999.69292155.1559319192356'}], 'status': 'available', 'subject': {'reference': 'Patient/150519'}, 'encounter': {'reference': 'Encounter/150601'}, 'started': '2002-08-25T13:49:34-04:00', 'numberOfSeries': 1, 'numberOfInstances': 1, 'series': [{'uid': '1.2.840.99999999.1.37746118.1559319192356', 'number': 1, 'modality': {'system': 'http://dicom.nema.org/resources/ontology/DCM', 'code': 'DX', 'display': 'Digital Radiography'}, 'numberOfInstances': 1, 'bodySite': {'system': 'http://snomed.info/sct', 'code': '72696002', 'display': 'Knee'}, 'started': '2002-08-25T13:49:34-04:00', 'instance': [{'uid': '1.2.840.99999999.1.1.94469279.1559319192356', 'sopClass': {'system': 'urn:ietf:rfc:3986', 'code': '1.2.840.10008.5.1.4.1.1.1.1'}, 'number': 1, 'title': 'Image of knee'}]}]}</td>\n",
       "    </tr>\n",
       "    <tr>\n",
       "      <th>9</th>\n",
       "      <td>{'resourceType': 'ImagingStudy', 'id': '172188', 'meta': {'versionId': '1', 'lastUpdated': '2020-06-11T17:29:21.921+00:00', 'source': '#1x12xlfH7m28dYxp', 'tag': [{'system': 'https://smarthealthit.org/tags', 'code': 'synthea-5-2019'}]}, 'identifier': [{'use': 'official', 'system': 'urn:ietf:rfc:3986', 'value': 'urn:oid:1.2.840.99999999.43795011.1559319189573'}], 'status': 'available', 'subject': {'reference': 'Patient/172091'}, 'encounter': {'reference': 'Encounter/172182'}, 'started': '2016-08-05T18:22:41-04:00', 'numberOfSeries': 1, 'numberOfInstances': 1, 'series': [{'uid': '1.2.840.99999999.1.13325366.1559319189573', 'number': 1, 'modality': {'system': 'http://dicom.nema.org/resources/ontology/DCM', 'code': 'DX', 'display': 'Digital Radiography'}, 'numberOfInstances': 1, 'bodySite': {'system': 'http://snomed.info/sct', 'code': '72696002', 'display': 'Knee'}, 'started': '2016-08-05T18:22:41-04:00', 'instance': [{'uid': '1.2.840.99999999.1.1.37112756.1559319189573', 'sopClass': {'system': 'urn:ietf:rfc:3986', 'code': '1.2.840.10008.5.1.4.1.1.1.1'}, 'number': 1, 'title': 'Image of knee'}]}]}</td>\n",
       "    </tr>\n",
       "    <tr>\n",
       "      <th>10</th>\n",
       "      <td>{'resourceType': 'ImagingStudy', 'id': '185861', 'meta': {'versionId': '1', 'lastUpdated': '2020-06-11T17:39:49.159+00:00', 'source': '#wJQHyJhWRWXxiKTm', 'tag': [{'system': 'https://smarthealthit.org/tags', 'code': 'synthea-5-2019'}]}, 'identifier': [{'use': 'official', 'system': 'urn:ietf:rfc:3986', 'value': 'urn:oid:1.2.840.99999999.72276525.1559319182973'}], 'status': 'available', 'subject': {'reference': 'Patient/185756'}, 'encounter': {'reference': 'Encounter/185855'}, 'started': '1976-12-12T18:11:46-05:00', 'numberOfSeries': 1, 'numberOfInstances': 1, 'series': [{'uid': '1.2.840.99999999.1.93040107.1559319182973', 'number': 1, 'modality': {'system': 'http://dicom.nema.org/resources/ontology/DCM', 'code': 'DX', 'display': 'Digital Radiography'}, 'numberOfInstances': 1, 'bodySite': {'system': 'http://snomed.info/sct', 'code': '72696002', 'display': 'Knee'}, 'started': '1976-12-12T18:11:46-05:00', 'instance': [{'uid': '1.2.840.99999999.1.1.22220940.1559319182973', 'sopClass': {'system': 'urn:ietf:rfc:3986', 'code': '1.2.840.10008.5.1.4.1.1.1.1'}, 'number': 1, 'title': 'Image of knee'}]}]}</td>\n",
       "    </tr>\n",
       "    <tr>\n",
       "      <th>11</th>\n",
       "      <td>{'resourceType': 'ImagingStudy', 'id': '212046', 'meta': {'versionId': '1', 'lastUpdated': '2020-06-11T17:56:12.607+00:00', 'source': '#i9t2RFHaCxOlCW6L', 'tag': [{'system': 'https://smarthealthit.org/tags', 'code': 'synthea-5-2019'}]}, 'identifier': [{'use': 'official', 'system': 'urn:ietf:rfc:3986', 'value': 'urn:oid:1.2.840.99999999.41651018.1559319184895'}], 'status': 'available', 'subject': {'reference': 'Patient/211602'}, 'encounter': {'reference': 'Encounter/212040'}, 'started': '1997-07-02T15:20:06-04:00', 'numberOfSeries': 1, 'numberOfInstances': 1, 'series': [{'uid': '1.2.840.99999999.1.43508181.1559319184895', 'number': 1, 'modality': {'system': 'http://dicom.nema.org/resources/ontology/DCM', 'code': 'DX', 'display': 'Digital Radiography'}, 'numberOfInstances': 1, 'bodySite': {'system': 'http://snomed.info/sct', 'code': '72696002', 'display': 'Knee'}, 'started': '1997-07-02T15:20:06-04:00', 'instance': [{'uid': '1.2.840.99999999.1.1.35672714.1559319184895', 'sopClass': {'system': 'urn:ietf:rfc:3986', 'code': '1.2.840.10008.5.1.4.1.1.1.1'}, 'number': 1, 'title': 'Image of knee'}]}]}</td>\n",
       "    </tr>\n",
       "  </tbody>\n",
       "</table>\n",
       "</div>"
      ],
      "text/plain": [
       "                                                                                                                                                                                                                                                                                                                                                                                                                                                                                                                                                                                                                                                                                                                                                                                                                                                                                                                                                                                                                                                                                                                                                     data\n",
       "0               {'resourceType': 'ImagingStudy', 'id': '103', 'meta': {'versionId': '1', 'lastUpdated': '2020-06-11T15:26:55.251+00:00', 'source': '#JlcA0bg5xBW1iwXq', 'tag': [{'system': 'https://smarthealthit.org/tags', 'code': 'synthea-5-2019'}]}, 'identifier': [{'use': 'official', 'system': 'urn:ietf:rfc:3986', 'value': 'urn:oid:1.2.840.99999999.38780235.1559319198559'}], 'status': 'available', 'subject': {'reference': 'Patient/1'}, 'encounter': {'reference': 'Encounter/97'}, 'started': '2015-05-20T19:37:54-04:00', 'numberOfSeries': 1, 'numberOfInstances': 1, 'series': [{'uid': '1.2.840.99999999.1.82637698.1559319198567', 'number': 1, 'modality': {'system': 'http://dicom.nema.org/resources/ontology/DCM', 'code': 'DX', 'display': 'Digital Radiography'}, 'numberOfInstances': 1, 'bodySite': {'system': 'http://snomed.info/sct', 'code': '72696002', 'display': 'Knee'}, 'started': '2015-05-20T19:37:54-04:00', 'instance': [{'uid': '1.2.840.99999999.1.1.25902494.1559319198567', 'sopClass': {'system': 'urn:ietf:rfc:3986', 'code': '1.2.840.10008.5.1.4.1.1.1.1'}, 'number': 1, 'title': 'Image of knee'}]}]}\n",
       "1      {'resourceType': 'ImagingStudy', 'id': '24440', 'meta': {'versionId': '1', 'lastUpdated': '2020-06-11T15:40:13.178+00:00', 'source': '#CAOC38xe6RXk4hrV', 'tag': [{'system': 'https://smarthealthit.org/tags', 'code': 'synthea-5-2019'}]}, 'identifier': [{'use': 'official', 'system': 'urn:ietf:rfc:3986', 'value': 'urn:oid:1.2.840.99999999.13865976.1559319179294'}], 'status': 'available', 'subject': {'reference': 'Patient/24279'}, 'encounter': {'reference': 'Encounter/24434'}, 'started': '2017-10-25T14:33:39-04:00', 'numberOfSeries': 1, 'numberOfInstances': 1, 'series': [{'uid': '1.2.840.99999999.1.45433192.1559319179294', 'number': 1, 'modality': {'system': 'http://dicom.nema.org/resources/ontology/DCM', 'code': 'DX', 'display': 'Digital Radiography'}, 'numberOfInstances': 1, 'bodySite': {'system': 'http://snomed.info/sct', 'code': '72696002', 'display': 'Knee'}, 'started': '2017-10-25T14:33:39-04:00', 'instance': [{'uid': '1.2.840.99999999.1.1.32361793.1559319179294', 'sopClass': {'system': 'urn:ietf:rfc:3986', 'code': '1.2.840.10008.5.1.4.1.1.1.1'}, 'number': 1, 'title': 'Image of knee'}]}]}\n",
       "2      {'resourceType': 'ImagingStudy', 'id': '26225', 'meta': {'versionId': '1', 'lastUpdated': '2020-06-11T15:40:52.094+00:00', 'source': '#ddEQrYqvd0vlGIJ8', 'tag': [{'system': 'https://smarthealthit.org/tags', 'code': 'synthea-5-2019'}]}, 'identifier': [{'use': 'official', 'system': 'urn:ietf:rfc:3986', 'value': 'urn:oid:1.2.840.99999999.24942788.1559319182956'}], 'status': 'available', 'subject': {'reference': 'Patient/26022'}, 'encounter': {'reference': 'Encounter/26219'}, 'started': '2016-02-14T14:59:36-05:00', 'numberOfSeries': 1, 'numberOfInstances': 1, 'series': [{'uid': '1.2.840.99999999.1.93040107.1559319182973', 'number': 1, 'modality': {'system': 'http://dicom.nema.org/resources/ontology/DCM', 'code': 'DX', 'display': 'Digital Radiography'}, 'numberOfInstances': 1, 'bodySite': {'system': 'http://snomed.info/sct', 'code': '72696002', 'display': 'Knee'}, 'started': '2016-02-14T14:59:36-05:00', 'instance': [{'uid': '1.2.840.99999999.1.1.22220940.1559319182973', 'sopClass': {'system': 'urn:ietf:rfc:3986', 'code': '1.2.840.10008.5.1.4.1.1.1.1'}, 'number': 1, 'title': 'Image of knee'}]}]}\n",
       "3      {'resourceType': 'ImagingStudy', 'id': '35237', 'meta': {'versionId': '1', 'lastUpdated': '2020-06-11T15:46:58.436+00:00', 'source': '#bgG9OviXI7It3xm3', 'tag': [{'system': 'https://smarthealthit.org/tags', 'code': 'synthea-5-2019'}]}, 'identifier': [{'use': 'official', 'system': 'urn:ietf:rfc:3986', 'value': 'urn:oid:1.2.840.99999999.31346650.1559319197273'}], 'status': 'available', 'subject': {'reference': 'Patient/34857'}, 'encounter': {'reference': 'Encounter/35231'}, 'started': '2016-02-23T13:09:48-05:00', 'numberOfSeries': 1, 'numberOfInstances': 1, 'series': [{'uid': '1.2.840.99999999.1.32893846.1559319197273', 'number': 1, 'modality': {'system': 'http://dicom.nema.org/resources/ontology/DCM', 'code': 'DX', 'display': 'Digital Radiography'}, 'numberOfInstances': 1, 'bodySite': {'system': 'http://snomed.info/sct', 'code': '72696002', 'display': 'Knee'}, 'started': '2016-02-23T13:09:48-05:00', 'instance': [{'uid': '1.2.840.99999999.1.1.45483278.1559319197273', 'sopClass': {'system': 'urn:ietf:rfc:3986', 'code': '1.2.840.10008.5.1.4.1.1.1.1'}, 'number': 1, 'title': 'Image of knee'}]}]}\n",
       "4      {'resourceType': 'ImagingStudy', 'id': '68496', 'meta': {'versionId': '1', 'lastUpdated': '2020-06-11T16:18:07.086+00:00', 'source': '#xEVYpQ9FvjpUxgsq', 'tag': [{'system': 'https://smarthealthit.org/tags', 'code': 'synthea-5-2019'}]}, 'identifier': [{'use': 'official', 'system': 'urn:ietf:rfc:3986', 'value': 'urn:oid:1.2.840.99999999.34442011.1559319197673'}], 'status': 'available', 'subject': {'reference': 'Patient/68260'}, 'encounter': {'reference': 'Encounter/68490'}, 'started': '2015-08-21T10:59:16-04:00', 'numberOfSeries': 1, 'numberOfInstances': 1, 'series': [{'uid': '1.2.840.99999999.1.33401839.1559319197673', 'number': 1, 'modality': {'system': 'http://dicom.nema.org/resources/ontology/DCM', 'code': 'DX', 'display': 'Digital Radiography'}, 'numberOfInstances': 1, 'bodySite': {'system': 'http://snomed.info/sct', 'code': '72696002', 'display': 'Knee'}, 'started': '2015-08-21T10:59:16-04:00', 'instance': [{'uid': '1.2.840.99999999.1.1.69086891.1559319197673', 'sopClass': {'system': 'urn:ietf:rfc:3986', 'code': '1.2.840.10008.5.1.4.1.1.1.1'}, 'number': 1, 'title': 'Image of knee'}]}]}\n",
       "5      {'resourceType': 'ImagingStudy', 'id': '74251', 'meta': {'versionId': '1', 'lastUpdated': '2020-06-11T16:22:38.209+00:00', 'source': '#zMK9hXgh5iMNgNfN', 'tag': [{'system': 'https://smarthealthit.org/tags', 'code': 'synthea-5-2019'}]}, 'identifier': [{'use': 'official', 'system': 'urn:ietf:rfc:3986', 'value': 'urn:oid:1.2.840.99999999.42918161.1559319183206'}], 'status': 'available', 'subject': {'reference': 'Patient/74106'}, 'encounter': {'reference': 'Encounter/74245'}, 'started': '2017-01-27T12:18:53-05:00', 'numberOfSeries': 1, 'numberOfInstances': 1, 'series': [{'uid': '1.2.840.99999999.1.34887743.1559319183206', 'number': 1, 'modality': {'system': 'http://dicom.nema.org/resources/ontology/DCM', 'code': 'DX', 'display': 'Digital Radiography'}, 'numberOfInstances': 1, 'bodySite': {'system': 'http://snomed.info/sct', 'code': '72696002', 'display': 'Knee'}, 'started': '2017-01-27T12:18:53-05:00', 'instance': [{'uid': '1.2.840.99999999.1.1.36328798.1559319183206', 'sopClass': {'system': 'urn:ietf:rfc:3986', 'code': '1.2.840.10008.5.1.4.1.1.1.1'}, 'number': 1, 'title': 'Image of knee'}]}]}\n",
       "6      {'resourceType': 'ImagingStudy', 'id': '84192', 'meta': {'versionId': '1', 'lastUpdated': '2020-06-11T16:32:09.528+00:00', 'source': '#VwOu1GAD3AsLTACn', 'tag': [{'system': 'https://smarthealthit.org/tags', 'code': 'synthea-5-2019'}]}, 'identifier': [{'use': 'official', 'system': 'urn:ietf:rfc:3986', 'value': 'urn:oid:1.2.840.99999999.43700348.1559319180786'}], 'status': 'available', 'subject': {'reference': 'Patient/84154'}, 'encounter': {'reference': 'Encounter/84186'}, 'started': '2010-03-02T08:59:06-05:00', 'numberOfSeries': 1, 'numberOfInstances': 1, 'series': [{'uid': '1.2.840.99999999.1.40922766.1559319180786', 'number': 1, 'modality': {'system': 'http://dicom.nema.org/resources/ontology/DCM', 'code': 'DX', 'display': 'Digital Radiography'}, 'numberOfInstances': 1, 'bodySite': {'system': 'http://snomed.info/sct', 'code': '72696002', 'display': 'Knee'}, 'started': '2010-03-02T08:59:06-05:00', 'instance': [{'uid': '1.2.840.99999999.1.1.80583306.1559319180786', 'sopClass': {'system': 'urn:ietf:rfc:3986', 'code': '1.2.840.10008.5.1.4.1.1.1.1'}, 'number': 1, 'title': 'Image of knee'}]}]}\n",
       "7   {'resourceType': 'ImagingStudy', 'id': '112986', 'meta': {'versionId': '1', 'lastUpdated': '2020-06-11T16:51:28.831+00:00', 'source': '#NbA3dZBMZ0FBcYxc', 'tag': [{'system': 'https://smarthealthit.org/tags', 'code': 'synthea-5-2019'}]}, 'identifier': [{'use': 'official', 'system': 'urn:ietf:rfc:3986', 'value': 'urn:oid:1.2.840.99999999.65885246.1559319182715'}], 'status': 'available', 'subject': {'reference': 'Patient/112949'}, 'encounter': {'reference': 'Encounter/112980'}, 'started': '2011-06-06T05:55:07-04:00', 'numberOfSeries': 1, 'numberOfInstances': 1, 'series': [{'uid': '1.2.840.99999999.1.17396653.1559319182715', 'number': 1, 'modality': {'system': 'http://dicom.nema.org/resources/ontology/DCM', 'code': 'DX', 'display': 'Digital Radiography'}, 'numberOfInstances': 1, 'bodySite': {'system': 'http://snomed.info/sct', 'code': '72696002', 'display': 'Knee'}, 'started': '2011-06-06T05:55:07-04:00', 'instance': [{'uid': '1.2.840.99999999.1.1.89472619.1559319182715', 'sopClass': {'system': 'urn:ietf:rfc:3986', 'code': '1.2.840.10008.5.1.4.1.1.1.1'}, 'number': 1, 'title': 'Image of knee'}]}]}\n",
       "8   {'resourceType': 'ImagingStudy', 'id': '150605', 'meta': {'versionId': '1', 'lastUpdated': '2020-06-11T17:12:26.932+00:00', 'source': '#sf6tJUGDHY3scUMk', 'tag': [{'system': 'https://smarthealthit.org/tags', 'code': 'synthea-5-2019'}]}, 'identifier': [{'use': 'official', 'system': 'urn:ietf:rfc:3986', 'value': 'urn:oid:1.2.840.99999999.69292155.1559319192356'}], 'status': 'available', 'subject': {'reference': 'Patient/150519'}, 'encounter': {'reference': 'Encounter/150601'}, 'started': '2002-08-25T13:49:34-04:00', 'numberOfSeries': 1, 'numberOfInstances': 1, 'series': [{'uid': '1.2.840.99999999.1.37746118.1559319192356', 'number': 1, 'modality': {'system': 'http://dicom.nema.org/resources/ontology/DCM', 'code': 'DX', 'display': 'Digital Radiography'}, 'numberOfInstances': 1, 'bodySite': {'system': 'http://snomed.info/sct', 'code': '72696002', 'display': 'Knee'}, 'started': '2002-08-25T13:49:34-04:00', 'instance': [{'uid': '1.2.840.99999999.1.1.94469279.1559319192356', 'sopClass': {'system': 'urn:ietf:rfc:3986', 'code': '1.2.840.10008.5.1.4.1.1.1.1'}, 'number': 1, 'title': 'Image of knee'}]}]}\n",
       "9   {'resourceType': 'ImagingStudy', 'id': '172188', 'meta': {'versionId': '1', 'lastUpdated': '2020-06-11T17:29:21.921+00:00', 'source': '#1x12xlfH7m28dYxp', 'tag': [{'system': 'https://smarthealthit.org/tags', 'code': 'synthea-5-2019'}]}, 'identifier': [{'use': 'official', 'system': 'urn:ietf:rfc:3986', 'value': 'urn:oid:1.2.840.99999999.43795011.1559319189573'}], 'status': 'available', 'subject': {'reference': 'Patient/172091'}, 'encounter': {'reference': 'Encounter/172182'}, 'started': '2016-08-05T18:22:41-04:00', 'numberOfSeries': 1, 'numberOfInstances': 1, 'series': [{'uid': '1.2.840.99999999.1.13325366.1559319189573', 'number': 1, 'modality': {'system': 'http://dicom.nema.org/resources/ontology/DCM', 'code': 'DX', 'display': 'Digital Radiography'}, 'numberOfInstances': 1, 'bodySite': {'system': 'http://snomed.info/sct', 'code': '72696002', 'display': 'Knee'}, 'started': '2016-08-05T18:22:41-04:00', 'instance': [{'uid': '1.2.840.99999999.1.1.37112756.1559319189573', 'sopClass': {'system': 'urn:ietf:rfc:3986', 'code': '1.2.840.10008.5.1.4.1.1.1.1'}, 'number': 1, 'title': 'Image of knee'}]}]}\n",
       "10  {'resourceType': 'ImagingStudy', 'id': '185861', 'meta': {'versionId': '1', 'lastUpdated': '2020-06-11T17:39:49.159+00:00', 'source': '#wJQHyJhWRWXxiKTm', 'tag': [{'system': 'https://smarthealthit.org/tags', 'code': 'synthea-5-2019'}]}, 'identifier': [{'use': 'official', 'system': 'urn:ietf:rfc:3986', 'value': 'urn:oid:1.2.840.99999999.72276525.1559319182973'}], 'status': 'available', 'subject': {'reference': 'Patient/185756'}, 'encounter': {'reference': 'Encounter/185855'}, 'started': '1976-12-12T18:11:46-05:00', 'numberOfSeries': 1, 'numberOfInstances': 1, 'series': [{'uid': '1.2.840.99999999.1.93040107.1559319182973', 'number': 1, 'modality': {'system': 'http://dicom.nema.org/resources/ontology/DCM', 'code': 'DX', 'display': 'Digital Radiography'}, 'numberOfInstances': 1, 'bodySite': {'system': 'http://snomed.info/sct', 'code': '72696002', 'display': 'Knee'}, 'started': '1976-12-12T18:11:46-05:00', 'instance': [{'uid': '1.2.840.99999999.1.1.22220940.1559319182973', 'sopClass': {'system': 'urn:ietf:rfc:3986', 'code': '1.2.840.10008.5.1.4.1.1.1.1'}, 'number': 1, 'title': 'Image of knee'}]}]}\n",
       "11  {'resourceType': 'ImagingStudy', 'id': '212046', 'meta': {'versionId': '1', 'lastUpdated': '2020-06-11T17:56:12.607+00:00', 'source': '#i9t2RFHaCxOlCW6L', 'tag': [{'system': 'https://smarthealthit.org/tags', 'code': 'synthea-5-2019'}]}, 'identifier': [{'use': 'official', 'system': 'urn:ietf:rfc:3986', 'value': 'urn:oid:1.2.840.99999999.41651018.1559319184895'}], 'status': 'available', 'subject': {'reference': 'Patient/211602'}, 'encounter': {'reference': 'Encounter/212040'}, 'started': '1997-07-02T15:20:06-04:00', 'numberOfSeries': 1, 'numberOfInstances': 1, 'series': [{'uid': '1.2.840.99999999.1.43508181.1559319184895', 'number': 1, 'modality': {'system': 'http://dicom.nema.org/resources/ontology/DCM', 'code': 'DX', 'display': 'Digital Radiography'}, 'numberOfInstances': 1, 'bodySite': {'system': 'http://snomed.info/sct', 'code': '72696002', 'display': 'Knee'}, 'started': '1997-07-02T15:20:06-04:00', 'instance': [{'uid': '1.2.840.99999999.1.1.35672714.1559319184895', 'sopClass': {'system': 'urn:ietf:rfc:3986', 'code': '1.2.840.10008.5.1.4.1.1.1.1'}, 'number': 1, 'title': 'Image of knee'}]}]}"
      ]
     },
     "execution_count": 49,
     "metadata": {},
     "output_type": "execute_result"
    }
   ],
   "source": [
    "%%capture\n",
    "drill.searchResources(resourceType=\"ImagingStudy\", searchParams={\"bodysite:text\":\"Knee\"})"
   ]
  },
  {
   "cell_type": "markdown",
   "metadata": {},
   "source": [
    "# Reference to Resource"
   ]
  },
  {
   "cell_type": "markdown",
   "metadata": {},
   "source": [
    "# Serialization and Element Access"
   ]
  },
  {
   "cell_type": "code",
   "execution_count": null,
   "metadata": {},
   "outputs": [],
   "source": [
    "patientResource = patientReference.data.iloc[0].to_resource()\n",
    "\n",
    "patientResource['name']\n",
    "\n",
    "patientResource.serialize()['birthDate']"
   ]
  },
  {
   "cell_type": "code",
   "execution_count": null,
   "metadata": {},
   "outputs": [],
   "source": [
    "multiPatientReference.getResources()"
   ]
  },
  {
   "cell_type": "code",
   "execution_count": null,
   "metadata": {},
   "outputs": [],
   "source": [
    "multiPatientResource[:1].pretty"
   ]
  },
  {
   "cell_type": "code",
   "execution_count": null,
   "metadata": {},
   "outputs": [],
   "source": [
    "fd.Drill().getDiagnosticReports(\n",
    "    ['Patient/996a5ac318f013638a9bc05300053c65059cb81abce384a9eb689cce8e9e88f5']\n",
    ")[:1].keys"
   ]
  },
  {
   "cell_type": "markdown",
   "metadata": {},
   "source": [
    "# DataFrame Operations"
   ]
  },
  {
   "cell_type": "code",
   "execution_count": null,
   "metadata": {},
   "outputs": [],
   "source": [
    "multiPatientReference[:1]\n",
    "\n",
    "multiPatientReference[-1:]\n",
    "\n",
    "multiPatientReference.values\n",
    "\n",
    "multiPatientReference.info()"
   ]
  },
  {
   "cell_type": "markdown",
   "metadata": {},
   "source": [
    "# drill.base.Frame"
   ]
  },
  {
   "cell_type": "code",
   "execution_count": null,
   "metadata": {},
   "outputs": [],
   "source": [
    "fd.base.Frame( [[patientResource]], columns=['data'])"
   ]
  },
  {
   "cell_type": "markdown",
   "metadata": {},
   "source": [
    "# ------------------------------------------------------------------------"
   ]
  },
  {
   "cell_type": "markdown",
   "metadata": {},
   "source": [
    "# Extraction"
   ]
  },
  {
   "cell_type": "markdown",
   "metadata": {},
   "source": [
    "# Patient Extraction"
   ]
  },
  {
   "cell_type": "markdown",
   "metadata": {},
   "source": [
    "# fhirdrill.extraction.getPatients"
   ]
  },
  {
   "cell_type": "code",
   "execution_count": null,
   "metadata": {},
   "outputs": [],
   "source": [
    "drill.getPatients([\n",
    "\t'4137ebc9d2d745fbcf7ab6ea86d626a6d97096a3384dc53d666c3611c16b8136'\n",
    "\t]\n",
    ")"
   ]
  },
  {
   "cell_type": "code",
   "execution_count": null,
   "metadata": {},
   "outputs": [],
   "source": [
    "drill.getPatients([\n",
    "\t'4137ebc9d2d745fbcf7ab6ea86d626a6d97096a3384dc53d666c3611c16b8136'\n",
    "\t]\n",
    ").data.item().serialize()"
   ]
  },
  {
   "cell_type": "code",
   "execution_count": null,
   "metadata": {},
   "outputs": [],
   "source": [
    "for i,e in drill.getPatients(\n",
    "    ['4137ebc9d2d745fbcf7ab6ea86d626a6d97096a3384dc53d666c3611c16b8136',\n",
    "    'f0c1e8c8c98fb84d5c46807313e774b8d4fb3e6d11f98af998890dc06af75aa9']).itertuples():\n",
    "    \n",
    "    print (f\"Row {i} with Patient ID {e.id}\")"
   ]
  },
  {
   "cell_type": "code",
   "execution_count": null,
   "metadata": {},
   "outputs": [],
   "source": [
    "getPatientsAsList=drill.getPatients([\n",
    "\t'4137ebc9d2d745fbcf7ab6ea86d626a6d97096a3384dc53d666c3611c16b8136',\n",
    "    'f0c1e8c8c98fb84d5c46807313e774b8d4fb3e6d11f98af998890dc06af75aa9']).cast('list')\n",
    "\n",
    "getPatientsAsList"
   ]
  },
  {
   "cell_type": "code",
   "execution_count": null,
   "metadata": {},
   "outputs": [],
   "source": [
    "[e.pop().id for e in getPatientsAsList]"
   ]
  },
  {
   "cell_type": "markdown",
   "metadata": {},
   "source": [
    "# Patients as Operand and Extracting other Resources "
   ]
  },
  {
   "cell_type": "code",
   "execution_count": null,
   "metadata": {},
   "outputs": [],
   "source": [
    "patients = drill.getPatients(\n",
    "    ['0204dbe820f8ce886ef30a86875e3e58c7e365c728c5ea7ba32d401d240dca91',\n",
    "    '03bcdc4c13053ea970ef0bed200fc8be36cf0b816e97563b6c9e1faab4217071',\n",
    "    '4137ebc9d2d745fbcf7ab6ea86d626a6d97096a3384dc53d666c3611c16b8136',\n",
    "    'f0c1e8c8c98fb84d5c46807313e774b8d4fb3e6d11f98af998890dc06af75aa9']\n",
    ")\n"
   ]
  },
  {
   "cell_type": "markdown",
   "metadata": {},
   "source": [
    "\n",
    "# fhirdrill.extraction.getRootPatient"
   ]
  },
  {
   "cell_type": "code",
   "execution_count": null,
   "metadata": {},
   "outputs": [],
   "source": [
    "drill.getRootPatients(\n",
    "    ['0204dbe820f8ce886ef30a86875e3e58c7e365c728c5ea7ba32d401d240dca91',\n",
    "    '03bcdc4c13053ea970ef0bed200fc8be36cf0b816e97563b6c9e1faab4217071',\n",
    "    '4137ebc9d2d745fbcf7ab6ea86d626a6d97096a3384dc53d666c3611c16b8136',\n",
    "    'f0c1e8c8c98fb84d5c46807313e774b8d4fb3e6d11f98af998890dc06af75aa9']\n",
    ")"
   ]
  },
  {
   "cell_type": "code",
   "execution_count": null,
   "metadata": {},
   "outputs": [],
   "source": [
    "patients.getRootPatients()"
   ]
  },
  {
   "cell_type": "code",
   "execution_count": null,
   "metadata": {},
   "outputs": [],
   "source": [
    "drill.getResources(\n",
    "\t['Patient/4137ebc9d2d745fbcf7ab6ea86d626a6d97096a3384dc53d666c3611c16b8136']\n",
    ").getRootPatients()"
   ]
  },
  {
   "cell_type": "code",
   "execution_count": null,
   "metadata": {},
   "outputs": [],
   "source": [
    "rootPatients = patients.getResources().getRootPatients().explode('data')\n",
    "\n",
    "rootPatients.gatherSimplePaths(['name.given','name.family'])\n",
    "\n",
    "rootPatients.gatherSimplePaths(['id'])"
   ]
  },
  {
   "cell_type": "code",
   "execution_count": null,
   "metadata": {},
   "outputs": [],
   "source": [
    "rootPatients.data[0].name"
   ]
  },
  {
   "cell_type": "code",
   "execution_count": null,
   "metadata": {},
   "outputs": [],
   "source": [
    "for link in rootPatients.data[0]['link']:\n",
    "\tlpat=link.other.to_resource()\n",
    "\tprint(lpat.id)"
   ]
  },
  {
   "cell_type": "markdown",
   "metadata": {},
   "source": [
    "# fhirdrill.extraction.getLinkedPatients"
   ]
  },
  {
   "cell_type": "code",
   "execution_count": null,
   "metadata": {},
   "outputs": [],
   "source": [
    "drill.getLinkedPatients(\n",
    "\t['03bcdc4c13053ea970ef0bed200fc8be36cf0b816e97563b6c9e1faab4217071']\n",
    ")"
   ]
  },
  {
   "cell_type": "markdown",
   "metadata": {},
   "source": [
    "# fhirdrill.extraction.getConditions"
   ]
  },
  {
   "cell_type": "markdown",
   "metadata": {},
   "source": [
    "# Conditions"
   ]
  },
  {
   "cell_type": "code",
   "execution_count": null,
   "metadata": {},
   "outputs": [],
   "source": [
    "conditionsJ84 = drill.getConditions(\n",
    "\tsearchParams={\n",
    "\t\t'code':'J84',\n",
    "\t\t'_sort': '-onset-date',\n",
    "\t\t# 'identifier': 'https://uk-essen.de/HIS/Cerner/Medico/TumorDocumentation/PrimaryTumorDiagnosis|',\n",
    "\t\t# '_include':'Condition:subject'\n",
    "\t}\n",
    ")\n",
    "\n",
    "conditionsJ84"
   ]
  },
  {
   "cell_type": "markdown",
   "metadata": {},
   "source": [
    "# Patients for Conditions"
   ]
  },
  {
   "cell_type": "code",
   "execution_count": null,
   "metadata": {},
   "outputs": [],
   "source": [
    "conditionsJ84.getPatients().getLinkedPatients().explode('data')\n"
   ]
  },
  {
   "cell_type": "code",
   "execution_count": null,
   "metadata": {},
   "outputs": [],
   "source": [
    "conditionsJ84.getPatients().getLinkedPatients().explode('data').data.apply(lambda x:x.id).to_csv(f\"{RESPATH}data.ignore\")"
   ]
  },
  {
   "cell_type": "code",
   "execution_count": null,
   "metadata": {},
   "outputs": [],
   "source": [
    "conditionsJ84 = pd.read_csv( f\"{RESPATH}data.ignore\", index_col=0)\n",
    "conditionsJ84\n",
    "\n",
    "!head \"{RESPATH}data.ignore\" \n",
    "\n",
    "conditionsJ84.shape"
   ]
  },
  {
   "cell_type": "code",
   "execution_count": null,
   "metadata": {},
   "outputs": [],
   "source": [
    "conditionsJ84.data.iloc[0]"
   ]
  },
  {
   "cell_type": "code",
   "execution_count": null,
   "metadata": {},
   "outputs": [],
   "source": [
    "conditionsJ84 = pd.read_csv(f\"{RESPATH}data.ignore\", index_col=0)\n",
    "conditionsJ84"
   ]
  },
  {
   "cell_type": "markdown",
   "metadata": {},
   "source": [
    "# Conditions for Patient"
   ]
  },
  {
   "cell_type": "code",
   "execution_count": null,
   "metadata": {},
   "outputs": [],
   "source": [
    "drill.getPatients(\n",
    "    ['4be009b9a298bea867bf1fa84f49ef25fa4eb84d7adc985e6a0cec8dcd68564b']\n",
    ").getLinkedPatients().explode('data').getConditions()[:5].explode('data')[:5]"
   ]
  },
  {
   "cell_type": "markdown",
   "metadata": {},
   "source": [
    "# fhidrill.extraction.getEpisodesOfCare"
   ]
  },
  {
   "cell_type": "code",
   "execution_count": null,
   "metadata": {},
   "outputs": [],
   "source": [
    "rootPatients[:2]"
   ]
  },
  {
   "cell_type": "code",
   "execution_count": null,
   "metadata": {},
   "outputs": [],
   "source": [
    "drill.getPatients(\n",
    "    ['c52ed1efb1adb4db9195c1fa358e9c90e80496ad9ddbc377d2e7166aedd6fd1c']\n",
    ").getLinkedPatients().explode('data').getEpisodesOfCare()"
   ]
  },
  {
   "cell_type": "markdown",
   "metadata": {},
   "source": [
    "# fhidrill.extraction.getFamilyMemberHistories"
   ]
  },
  {
   "cell_type": "code",
   "execution_count": null,
   "metadata": {},
   "outputs": [],
   "source": [
    "drill.getPatients(\n",
    "    ['Patient/97e3bd1445339f7f5890ce1534b95232939a7f40d4093ea578e00b589026a2c3']\n",
    ").getFamilyMemberHistories()"
   ]
  },
  {
   "cell_type": "markdown",
   "metadata": {},
   "source": [
    "# fhidrill.extraction.getMedicationAdministrations"
   ]
  },
  {
   "cell_type": "code",
   "execution_count": null,
   "metadata": {},
   "outputs": [],
   "source": [
    "drill.getPatients(\n",
    "    ['Patient/faa55df4275923276467c9435cd747693816edbf2176905951ccddf3aaa8d0fb'],\n",
    ").getMedicationAdministrations()[:5]"
   ]
  },
  {
   "cell_type": "code",
   "execution_count": null,
   "metadata": {},
   "outputs": [],
   "source": []
  },
  {
   "cell_type": "markdown",
   "metadata": {},
   "source": [
    "# fhidrill.extraction.getEpisodesOfCare"
   ]
  },
  {
   "cell_type": "code",
   "execution_count": null,
   "metadata": {},
   "outputs": [],
   "source": [
    "drill.getPatients(\n",
    "    ['Patient/faa55df4275923276467c9435cd747693816edbf2176905951ccddf3aaa8d0fb'],\n",
    ").getMedicationRequests().explode(\"data\")[:5]"
   ]
  },
  {
   "cell_type": "markdown",
   "metadata": {},
   "source": [
    "# fhidrill.extraction.getObservations"
   ]
  },
  {
   "cell_type": "code",
   "execution_count": null,
   "metadata": {},
   "outputs": [],
   "source": [
    "drill.getConditions(searchParams={\"code\":\"J84\"}).getPatients(searchParams={\"family\":\"Raddatz\"})"
   ]
  },
  {
   "cell_type": "code",
   "execution_count": null,
   "metadata": {},
   "outputs": [],
   "source": [
    "# drill.getObservations(\n",
    "#     searchParams={\"identifier\":\"https://uk-essen.de/LAB/Nexus/Swisslab/SarsCoV2|\"}\n",
    "# )\n",
    "\n",
    "drill.getPatients(\n",
    "    ['Patient/4137ebc9d2d745fbcf7ab6ea86d626a6d97096a3384dc53d666c3611c16b8136'],\n",
    ").getObservations(\n",
    "    searchParams={\"identifier\":\"https://uk-essen.de/LAB/Nexus/Swisslab/SarsCoV2|\"}\n",
    ")"
   ]
  },
  {
   "cell_type": "markdown",
   "metadata": {},
   "source": [
    "# fhirdrill.extraction.getDiagnosticReports"
   ]
  },
  {
   "cell_type": "code",
   "execution_count": null,
   "metadata": {},
   "outputs": [],
   "source": [
    "paths=[\n",
    "\t\"subject.reference\",\n",
    "\t\"presentedForm.contentType\",\n",
    "\t\"presentedForm.url\",\n",
    "\t\"presentedForm.title\",\n",
    "\t\"presentedForm.creation\"\n",
    "]\n",
    "\n",
    "diagnosticReports=drill\\\n",
    "\t.getPatients([\"Patient/996a5ac318f013638a9bc05300053c65059cb81abce384a9eb689cce8e9e88f5\"])\\\n",
    "\t\t.getDiagnosticReports()"
   ]
  },
  {
   "cell_type": "code",
   "execution_count": null,
   "metadata": {},
   "outputs": [],
   "source": [
    "diagnosticReports.explode(\"data\")[20:25].gatherSimplePaths(paths)"
   ]
  },
  {
   "cell_type": "markdown",
   "metadata": {},
   "source": [
    "# fhirdrill.extraction.getURLBytes"
   ]
  },
  {
   "cell_type": "code",
   "execution_count": null,
   "metadata": {},
   "outputs": [],
   "source": [
    "paths=[\n",
    "    'id',\n",
    "    'subject.reference',\n",
    "    'presentedForm.url'\n",
    "]\n",
    "\n",
    "diagnosticReports = drill.getPatients(\n",
    "    ['Patient/4137ebc9d2d745fbcf7ab6ea86d626a6d97096a3384dc53d666c3611c16b8136']\n",
    ").getDiagnosticReports()[:10]\n",
    "\n",
    "diagnosticReports=diagnosticReports.gatherSimplePaths(paths)\n",
    "diagnosticReports=diagnosticReports.explode('presentedForm.url')\n",
    "\n",
    "diagnosticReports['path']=diagnosticReports['id']+'_'+diagnosticReports['presentedForm.url'].str.split('/').str[-1:].str[0]\n",
    "diagnosticReports['data']=diagnosticReports.getURLBytes(operateOnCol='presentedForm.url')\n",
    "diagnosticReports.sendBytesToFile()"
   ]
  },
  {
   "cell_type": "code",
   "execution_count": null,
   "metadata": {},
   "outputs": [],
   "source": [
    "diagnosticReports.loc[:, diagnosticReports.columns!='data'][:5]"
   ]
  },
  {
   "cell_type": "markdown",
   "metadata": {},
   "source": [
    "# fhirdrill.extraction.base.getAbsolutePaths"
   ]
  },
  {
   "cell_type": "code",
   "execution_count": null,
   "metadata": {},
   "outputs": [],
   "source": [
    "absolutePaths=[\n",
    "#    'Condition.code.coding.code',\n",
    "   'Condition.id',\n",
    "#    'Condition.subject.reference',\n",
    "    'Encounter.id',\n",
    "    'Encounter.participant.individual.reference',\n",
    "#     'Procedure.code.coding.display',\n",
    "#     'Procedure.code.coding.code',\n",
    "    'Procedure.status',\n",
    "    'Procedure.performedDateTime'\n",
    "]\n",
    "\n",
    "result=drill.getPatients(\n",
    "    ['Patient/996a5ac318f013638a9bc05300053c65059cb81abce384a9eb689cce8e9e88f5']\n",
    ").getAbsolutePaths(absolutePaths)"
   ]
  },
  {
   "cell_type": "code",
   "execution_count": null,
   "metadata": {},
   "outputs": [],
   "source": [
    "# result['Condition']\n",
    "result['Encounter'].explode(\n",
    "\t'Encounter.participant.individual.reference'\n",
    ").rename(\n",
    "\tcolumns={\"Encounter.participant.individual.reference\":\"data\"}\n",
    ").dropna().getResources()[:5]\n",
    "# result['Procedure']"
   ]
  },
  {
   "cell_type": "markdown",
   "metadata": {},
   "source": [
    "# ------------------------------------------------------------------------"
   ]
  },
  {
   "cell_type": "markdown",
   "metadata": {},
   "source": [
    "# Transformation"
   ]
  },
  {
   "cell_type": "markdown",
   "metadata": {},
   "source": [
    "# fhirdrill.transformation.base.gatherKeys"
   ]
  },
  {
   "cell_type": "code",
   "execution_count": null,
   "metadata": {},
   "outputs": [],
   "source": [
    "# keyCounts=patsC61TumorsResourcesRefs\\\n",
    "# \t.sample(500)\\\n",
    "# \t\t.resourcesReferences\\\n",
    "# \t\t\t.progress_apply(lambda x:list(crawl(x.to_resource().serialize())))\\\n",
    "# \t\t\t\t.explode()\\\n",
    "# \t\t\t\t.value_counts()\\\n",
    "# \t\t\t\t\t.rename_axis('key')\\\n",
    "# \t\t\t\t\t\t.reset_index(name='count').to_frame()\n",
    "\n",
    "patients.gatherKeys().data.explode().value_counts()[:10]"
   ]
  },
  {
   "cell_type": "code",
   "execution_count": null,
   "metadata": {},
   "outputs": [],
   "source": [
    "drill.getPatients(\n",
    "    ['4137ebc9d2d745fbcf7ab6ea86d626a6d97096a3384dc53d666c3611c16b8136']\n",
    ").gatherKeys(['valueString'])"
   ]
  },
  {
   "cell_type": "markdown",
   "metadata": {},
   "source": [
    "# fhirdrill.transformation.base.valuesForKeys"
   ]
  },
  {
   "cell_type": "code",
   "execution_count": null,
   "metadata": {},
   "outputs": [],
   "source": [
    "drill.getPatients(\n",
    "    ['4137ebc9d2d745fbcf7ab6ea86d626a6d97096a3384dc53d666c3611c16b8136'],\n",
    "    includeLinkedPatients=True\n",
    ").explode('data').gatherValuesForKeys(['valueString'])"
   ]
  },
  {
   "cell_type": "markdown",
   "metadata": {},
   "source": [
    "# fhirdrill.transformation.base.gatherReferences"
   ]
  },
  {
   "cell_type": "code",
   "execution_count": null,
   "metadata": {},
   "outputs": [],
   "source": [
    "drill.gatherReferences(\n",
    "    ['Patient/eca5a0cfd0ac6914e0d524c2467cac7bb7522ba96b781f9dfeff966d309efdb5']\n",
    "    , recursive=True\n",
    ")"
   ]
  },
  {
   "cell_type": "markdown",
   "metadata": {},
   "source": [
    "# fhirdrill.transformation.base.gatherText"
   ]
  },
  {
   "cell_type": "code",
   "execution_count": null,
   "metadata": {},
   "outputs": [],
   "source": [
    "fd.Drill().getPatients(\n",
    "    ['Patient/4137ebc9d2d745fbcf7ab6ea86d626a6d97096a3384dc53d666c3611c16b8136'],\n",
    ").getObservations()[:5].gatherText()"
   ]
  },
  {
   "cell_type": "markdown",
   "metadata": {},
   "source": [
    "# fhirdrill.transformation.base.gatherDates"
   ]
  },
  {
   "cell_type": "code",
   "execution_count": null,
   "metadata": {},
   "outputs": [],
   "source": [
    "fd.Drill().getPatients(\n",
    "    ['Patient/4137ebc9d2d745fbcf7ab6ea86d626a6d97096a3384dc53d666c3611c16b8136'],\n",
    ").getObservations()[:5].gatherValuesForKeys(['issued'])"
   ]
  },
  {
   "cell_type": "code",
   "execution_count": null,
   "metadata": {},
   "outputs": [],
   "source": [
    "fd.Drill().getPatients(\n",
    "    ['Patient/4137ebc9d2d745fbcf7ab6ea86d626a6d97096a3384dc53d666c3611c16b8136'],\n",
    ").getObservations()[:5].gatherDates()"
   ]
  },
  {
   "cell_type": "markdown",
   "metadata": {},
   "source": [
    "# ------------------------------------------------------------------------"
   ]
  },
  {
   "cell_type": "markdown",
   "metadata": {},
   "source": [
    "# Load"
   ]
  },
  {
   "cell_type": "code",
   "execution_count": null,
   "metadata": {},
   "outputs": [],
   "source": [
    "drill.validate(\n",
    "    ['Patient/4137ebc9d2d745fbcf7ab6ea86d626a6d97096a3384dc53d666c3611c16b8136']\n",
    ").sendResourcesToFiles(['./data.ignore'])"
   ]
  },
  {
   "cell_type": "markdown",
   "metadata": {},
   "source": [
    "# ------------------------------------------------------------------------"
   ]
  },
  {
   "cell_type": "markdown",
   "metadata": {},
   "source": [
    "# Utils"
   ]
  },
  {
   "cell_type": "markdown",
   "metadata": {},
   "source": [
    "# Server Profiling"
   ]
  },
  {
   "cell_type": "code",
   "execution_count": null,
   "metadata": {},
   "outputs": [],
   "source": [
    "drill.countServerResources()"
   ]
  },
  {
   "cell_type": "markdown",
   "metadata": {},
   "source": [
    "# Validation"
   ]
  },
  {
   "cell_type": "code",
   "execution_count": null,
   "metadata": {},
   "outputs": [],
   "source": [
    "drill.validate(\n",
    "    ['Patient/4137ebc9d2d745fbcf7ab6ea86d626a6d97096a3384dc53d666c3611c16b8136']\n",
    ")\n"
   ]
  },
  {
   "cell_type": "markdown",
   "metadata": {},
   "source": [
    "# ------------------------------------------------------------------------"
   ]
  },
  {
   "cell_type": "markdown",
   "metadata": {},
   "source": [
    "# Customization"
   ]
  },
  {
   "cell_type": "markdown",
   "metadata": {},
   "source": [
    "# fhirdrill.custom.extraction.ship"
   ]
  },
  {
   "cell_type": "code",
   "execution_count": null,
   "metadata": {},
   "outputs": [],
   "source": [
    "drill.getPatients(\n",
    "    ['Patient/996a5ac318f013638a9bc05300053c65059cb81abce384a9eb689cce8e9e88f5']\n",
    ").getDiagnosticReportsSHIP()[:5]"
   ]
  },
  {
   "cell_type": "markdown",
   "metadata": {},
   "source": [
    "# fhirdrill.custom.extraction.ship.getDiagnosticReportFilesSHIP"
   ]
  },
  {
   "cell_type": "code",
   "execution_count": null,
   "metadata": {},
   "outputs": [],
   "source": [
    "drill.getPatients(\n",
    "    ['4137ebc9d2d745fbcf7ab6ea86d626a6d97096a3384dc53d666c3611c16b8136'],\n",
    "    includeLinkedPatients=True\n",
    ").getDiagnosticReportsSHIP()[:10].getDiagnosticReportsFilesSHIP()"
   ]
  },
  {
   "cell_type": "markdown",
   "metadata": {},
   "source": [
    "# drill.custom.extraction.ship.getTumorIdsSHIP"
   ]
  },
  {
   "cell_type": "code",
   "execution_count": null,
   "metadata": {},
   "outputs": [],
   "source": [
    "fd.Drill().getPatients(['Patient/996a5ac318f013638a9bc05300053c65059cb81abce384a9eb689cce8e9e88f5'])\\\n",
    ".getEpisodesOfCare()\\\n",
    ".gatherSimplePaths(['identifier.value'])\\\n",
    ".explode('identifier.value')['identifier.value'].unique()"
   ]
  },
  {
   "cell_type": "code",
   "execution_count": null,
   "metadata": {},
   "outputs": [],
   "source": [
    "fd.Drill().getPatients(\n",
    "    [\"4137ebc9d2d745fbcf7ab6ea86d626a6d97096a3384dc53d666c3611c16b8136\"], \n",
    "    includeLinkedPatients=True\n",
    ").explode(\"data\").getTumorIdsSHIP()"
   ]
  },
  {
   "cell_type": "markdown",
   "metadata": {},
   "source": [
    "# drill.extraction.list.getList"
   ]
  },
  {
   "cell_type": "code",
   "execution_count": null,
   "metadata": {},
   "outputs": [],
   "source": [
    "fd.Drill().getLists(\n",
    "\tsearchParams={\n",
    "\t'identifier':'https://uk-essen.de/HIS/Cerner/Medico/TumorDocumentation|23288587.266308',\n",
    "\t}\n",
    ").data.values[0].serialize()['entry'][:5]"
   ]
  },
  {
   "cell_type": "markdown",
   "metadata": {},
   "source": [
    "# drill.custom.extraction.ship.getTumorResourcesSHIP"
   ]
  },
  {
   "cell_type": "code",
   "execution_count": null,
   "metadata": {},
   "outputs": [],
   "source": [
    "fd.Drill().getPatients(\n",
    "    [\"4137ebc9d2d745fbcf7ab6ea86d626a6d97096a3384dc53d666c3611c16b8136\"]\n",
    ").getTumorIdsSHIP().getTumorResourcesSHIP()[:1]\n"
   ]
  },
  {
   "cell_type": "code",
   "execution_count": null,
   "metadata": {},
   "outputs": [],
   "source": [
    "fd.Drill().getPatients([\"4137ebc9d2d745fbcf7ab6ea86d626a6d97096a3384dc53d666c3611c16b8136\"])\\\n",
    ".getTumorIdsSHIP()\\\n",
    ".getTumorResourcesSHIP()\\\n",
    ".data\\\n",
    ".apply(lambda x:x.serialize()['entry'][:5])\n"
   ]
  },
  {
   "cell_type": "markdown",
   "metadata": {},
   "source": [
    "# ------------------------------------------------------------------------"
   ]
  },
  {
   "cell_type": "markdown",
   "metadata": {},
   "source": [
    "# FHIR Drill Internals"
   ]
  },
  {
   "cell_type": "markdown",
   "metadata": {},
   "source": [
    "## FHIRPy"
   ]
  },
  {
   "cell_type": "markdown",
   "metadata": {},
   "source": [
    "## URL Parsing"
   ]
  },
  {
   "cell_type": "code",
   "execution_count": null,
   "metadata": {},
   "outputs": [],
   "source": [
    "import fhirpy.base.utils as fpu\n",
    "fpu.parse_pagination_url('/app/FHIR/r4/Condition?code=C61&_count=1&_sort=-onset-date&identifier=https://uk-essen.de/HIS/Cerner/Medico/TumorDocumentation/PrimaryTumorDiagnosis%7C&_shipPagination=eyJvZmZzZXQiOjIwfQ%3D%3D')"
   ]
  },
  {
   "cell_type": "markdown",
   "metadata": {},
   "source": [
    "## Raw fetch_resource()"
   ]
  },
  {
   "cell_type": "code",
   "execution_count": null,
   "metadata": {},
   "outputs": [],
   "source": [
    "drill.client._fetch_resource(url[0],url[1]).entry"
   ]
  },
  {
   "cell_type": "markdown",
   "metadata": {},
   "source": [
    "## Raw client.execute()"
   ]
  },
  {
   "cell_type": "code",
   "execution_count": null,
   "metadata": {},
   "outputs": [],
   "source": [
    "a=drill.client.execute('/app/FHIR/r4/Condition',\n",
    "#/app/FHIR/r4/Condition?code=C61&_sort=-onset-date&identifier=https://uk-essen.de/HIS/Cerner/Medico/TumorDocumentation/PrimaryTumorDiagnosis|&_shipPagination=eyJvZmZzZXQiOjIwfQ%3D%3D',\n",
    "method='get',\n",
    "params={\n",
    "\t# 'code':'C61',\n",
    "\t# '_sort':'-onset-date',\n",
    "\t# 'identifier':'https://uk-essen.de/HIS/Cerner/Medico/TumorDocumentation/PrimaryTumorDiagnosis|',\n",
    "\t# '_shipPagination':'eyJvZmZzZXQiOjIwfQ==',\n",
    "\t'_count': 0\n",
    "}\n",
    ")\n",
    "# .total"
   ]
  },
  {
   "cell_type": "code",
   "execution_count": null,
   "metadata": {},
   "outputs": [],
   "source": [
    "\n",
    "\n",
    "a=os.path.dirname(fd.__file__)\n",
    "\n"
   ]
  }
 ],
 "metadata": {
  "interpreter": {
   "hash": "d14cba4521fdfca33c0e6384cc757cf9008e7f2de86dc44a8fdd2ffa9d98839f"
  },
  "kernelspec": {
   "display_name": "fhirdrill",
   "language": "python",
   "name": "python3"
  },
  "language_info": {
   "codemirror_mode": {
    "name": "ipython",
    "version": 3
   },
   "file_extension": ".py",
   "mimetype": "text/x-python",
   "name": "python",
   "nbconvert_exporter": "python",
   "pygments_lexer": "ipython3",
   "version": "3.9.6"
  }
 },
 "nbformat": 4,
 "nbformat_minor": 2
}
