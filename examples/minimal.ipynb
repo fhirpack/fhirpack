{
 "cells": [
  {
   "cell_type": "markdown",
   "metadata": {},
   "source": [
    "# Boilerplate"
   ]
  },
  {
   "cell_type": "code",
   "execution_count": 5,
   "metadata": {},
   "outputs": [
    {
     "name": "stdout",
     "output_type": "stream",
     "text": [
      "Pretty printing has been turned OFF\n"
     ]
    }
   ],
   "source": [
    "%load_ext autoreload\n",
    "%autoreload 2\n",
    "%pprint off"
   ]
  },
  {
   "cell_type": "code",
   "execution_count": 6,
   "metadata": {},
   "outputs": [],
   "source": [
    "from IPython.core.interactiveshell import InteractiveShell\n",
    "InteractiveShell.ast_node_interactivity = \"all\""
   ]
  },
  {
   "cell_type": "code",
   "execution_count": 7,
   "metadata": {},
   "outputs": [
    {
     "name": "stdout",
     "output_type": "stream",
     "text": [
      "Pretty printing has been turned ON\n"
     ]
    }
   ],
   "source": [
    "%pprint"
   ]
  },
  {
   "cell_type": "markdown",
   "metadata": {},
   "source": [
    "# Preamble"
   ]
  },
  {
   "cell_type": "markdown",
   "metadata": {},
   "source": [
    "### Installing FHIRPACK from PIP (recommended)"
   ]
  },
  {
   "cell_type": "code",
   "execution_count": 8,
   "metadata": {},
   "outputs": [
    {
     "name": "stdout",
     "output_type": "stream",
     "text": [
      "Requirement already satisfied: fhirpack in /home/jsalazar/git/wo-phd/projects/fhirpack/src (0.0.5b0)\n",
      "Requirement already satisfied: pytest in /home/jsalazar/.local/share/virtualenvs/fhirpack-I5oSLEhk/lib/python3.9/site-packages (from fhirpack) (7.1.2)\n",
      "Requirement already satisfied: fhirpy in /home/jsalazar/.local/share/virtualenvs/fhirpack-I5oSLEhk/lib/python3.9/site-packages (from fhirpack) (1.3.0)\n",
      "Requirement already satisfied: requests in /home/jsalazar/.local/share/virtualenvs/fhirpack-I5oSLEhk/lib/python3.9/site-packages (from fhirpack) (2.28.0)\n",
      "Requirement already satisfied: pandas in /home/jsalazar/.local/share/virtualenvs/fhirpack-I5oSLEhk/lib/python3.9/site-packages (from fhirpack) (1.4.2)\n",
      "Requirement already satisfied: numpy in /home/jsalazar/.local/share/virtualenvs/fhirpack-I5oSLEhk/lib/python3.9/site-packages (from fhirpack) (1.23.0rc3)\n",
      "Requirement already satisfied: matplotlib in /home/jsalazar/.local/share/virtualenvs/fhirpack-I5oSLEhk/lib/python3.9/site-packages (from fhirpack) (3.5.2)\n",
      "Requirement already satisfied: toml in /home/jsalazar/.local/share/virtualenvs/fhirpack-I5oSLEhk/lib/python3.9/site-packages (from fhirpack) (0.10.2)\n",
      "Requirement already satisfied: fhir.resources in /home/jsalazar/.local/share/virtualenvs/fhirpack-I5oSLEhk/lib/python3.9/site-packages (from fhirpack) (6.4.0)\n",
      "Requirement already satisfied: authlib in /home/jsalazar/.local/share/virtualenvs/fhirpack-I5oSLEhk/lib/python3.9/site-packages (from fhirpack) (1.0.1)\n",
      "Requirement already satisfied: pyjwt in /home/jsalazar/.local/share/virtualenvs/fhirpack-I5oSLEhk/lib/python3.9/site-packages (from fhirpack) (2.4.0)\n",
      "Requirement already satisfied: tqdm in /home/jsalazar/.local/share/virtualenvs/fhirpack-I5oSLEhk/lib/python3.9/site-packages (from fhirpack) (4.64.0)\n",
      "Requirement already satisfied: python-dotenv[cli] in /home/jsalazar/.local/share/virtualenvs/fhirpack-I5oSLEhk/lib/python3.9/site-packages (from fhirpack) (0.20.0)\n",
      "Requirement already satisfied: click in /home/jsalazar/.local/share/virtualenvs/fhirpack-I5oSLEhk/lib/python3.9/site-packages (from fhirpack) (8.1.3)\n",
      "Requirement already satisfied: black in /home/jsalazar/.local/share/virtualenvs/fhirpack-I5oSLEhk/lib/python3.9/site-packages (from fhirpack) (22.3.0)\n",
      "Requirement already satisfied: typeguard in /home/jsalazar/.local/share/virtualenvs/fhirpack-I5oSLEhk/lib/python3.9/site-packages (from fhirpack) (2.13.3)\n",
      "Requirement already satisfied: pipenv in /home/jsalazar/.local/share/virtualenvs/fhirpack-I5oSLEhk/lib/python3.9/site-packages (from fhirpack) (2022.6.7)\n",
      "Requirement already satisfied: python-magic in /home/jsalazar/.local/share/virtualenvs/fhirpack-I5oSLEhk/lib/python3.9/site-packages (from fhirpack) (0.4.27)\n",
      "Requirement already satisfied: dicomweb-client in /home/jsalazar/.local/share/virtualenvs/fhirpack-I5oSLEhk/lib/python3.9/site-packages (from fhirpack) (0.56.2)\n",
      "Requirement already satisfied: markupsafe==2.0.1 in /home/jsalazar/.local/share/virtualenvs/fhirpack-I5oSLEhk/lib/python3.9/site-packages (from fhirpack) (2.0.1)\n",
      "Requirement already satisfied: cryptography>=3.2 in /home/jsalazar/.local/share/virtualenvs/fhirpack-I5oSLEhk/lib/python3.9/site-packages (from authlib->fhirpack) (37.0.2)\n",
      "Requirement already satisfied: pathspec>=0.9.0 in /home/jsalazar/.local/share/virtualenvs/fhirpack-I5oSLEhk/lib/python3.9/site-packages (from black->fhirpack) (0.9.0)\n",
      "Requirement already satisfied: mypy-extensions>=0.4.3 in /home/jsalazar/.local/share/virtualenvs/fhirpack-I5oSLEhk/lib/python3.9/site-packages (from black->fhirpack) (0.4.3)\n",
      "Requirement already satisfied: tomli>=1.1.0 in /home/jsalazar/.local/share/virtualenvs/fhirpack-I5oSLEhk/lib/python3.9/site-packages (from black->fhirpack) (2.0.1)\n",
      "Requirement already satisfied: typing-extensions>=3.10.0.0 in /home/jsalazar/.local/share/virtualenvs/fhirpack-I5oSLEhk/lib/python3.9/site-packages (from black->fhirpack) (4.2.0)\n",
      "Requirement already satisfied: platformdirs>=2 in /home/jsalazar/.local/share/virtualenvs/fhirpack-I5oSLEhk/lib/python3.9/site-packages (from black->fhirpack) (2.5.2)\n",
      "Requirement already satisfied: retrying>=1.3.3 in /home/jsalazar/.local/share/virtualenvs/fhirpack-I5oSLEhk/lib/python3.9/site-packages (from dicomweb-client->fhirpack) (1.3.3)\n",
      "Requirement already satisfied: pydicom>=2.2 in /home/jsalazar/.local/share/virtualenvs/fhirpack-I5oSLEhk/lib/python3.9/site-packages (from dicomweb-client->fhirpack) (2.3.0)\n",
      "Requirement already satisfied: Pillow>=8.3 in /home/jsalazar/.local/share/virtualenvs/fhirpack-I5oSLEhk/lib/python3.9/site-packages (from dicomweb-client->fhirpack) (9.1.1)\n",
      "Requirement already satisfied: idna<4,>=2.5 in /home/jsalazar/.local/share/virtualenvs/fhirpack-I5oSLEhk/lib/python3.9/site-packages (from requests->fhirpack) (3.3)\n",
      "Requirement already satisfied: certifi>=2017.4.17 in /home/jsalazar/.local/share/virtualenvs/fhirpack-I5oSLEhk/lib/python3.9/site-packages (from requests->fhirpack) (2022.6.15)\n",
      "Requirement already satisfied: urllib3<1.27,>=1.21.1 in /home/jsalazar/.local/share/virtualenvs/fhirpack-I5oSLEhk/lib/python3.9/site-packages (from requests->fhirpack) (1.26.9)\n",
      "Requirement already satisfied: charset-normalizer~=2.0.0 in /home/jsalazar/.local/share/virtualenvs/fhirpack-I5oSLEhk/lib/python3.9/site-packages (from requests->fhirpack) (2.0.12)\n",
      "Requirement already satisfied: pydantic[email]>=1.7.2 in /home/jsalazar/.local/share/virtualenvs/fhirpack-I5oSLEhk/lib/python3.9/site-packages (from fhir.resources->fhirpack) (1.9.1)\n",
      "Requirement already satisfied: aiohttp>=3.6.3 in /home/jsalazar/.local/share/virtualenvs/fhirpack-I5oSLEhk/lib/python3.9/site-packages (from fhirpy->fhirpack) (4.0.0a1)\n",
      "Requirement already satisfied: pytz in /home/jsalazar/.local/share/virtualenvs/fhirpack-I5oSLEhk/lib/python3.9/site-packages (from fhirpy->fhirpack) (2022.1)\n",
      "Requirement already satisfied: packaging>=20.0 in /home/jsalazar/.local/share/virtualenvs/fhirpack-I5oSLEhk/lib/python3.9/site-packages (from matplotlib->fhirpack) (21.3)\n",
      "Requirement already satisfied: kiwisolver>=1.0.1 in /home/jsalazar/.local/share/virtualenvs/fhirpack-I5oSLEhk/lib/python3.9/site-packages (from matplotlib->fhirpack) (1.4.3)\n",
      "Requirement already satisfied: cycler>=0.10 in /home/jsalazar/.local/share/virtualenvs/fhirpack-I5oSLEhk/lib/python3.9/site-packages (from matplotlib->fhirpack) (0.11.0)\n",
      "Requirement already satisfied: python-dateutil>=2.7 in /home/jsalazar/.local/share/virtualenvs/fhirpack-I5oSLEhk/lib/python3.9/site-packages (from matplotlib->fhirpack) (2.8.2)\n",
      "Requirement already satisfied: pyparsing>=2.2.1 in /home/jsalazar/.local/share/virtualenvs/fhirpack-I5oSLEhk/lib/python3.9/site-packages (from matplotlib->fhirpack) (3.0.9)\n",
      "Requirement already satisfied: fonttools>=4.22.0 in /home/jsalazar/.local/share/virtualenvs/fhirpack-I5oSLEhk/lib/python3.9/site-packages (from matplotlib->fhirpack) (4.33.3)\n",
      "Requirement already satisfied: pip>=22.0.4 in /home/jsalazar/.local/share/virtualenvs/fhirpack-I5oSLEhk/lib/python3.9/site-packages (from pipenv->fhirpack) (22.1.2)\n",
      "Requirement already satisfied: virtualenv-clone>=0.2.5 in /home/jsalazar/.local/share/virtualenvs/fhirpack-I5oSLEhk/lib/python3.9/site-packages (from pipenv->fhirpack) (0.5.7)\n",
      "Requirement already satisfied: virtualenv in /home/jsalazar/.local/share/virtualenvs/fhirpack-I5oSLEhk/lib/python3.9/site-packages (from pipenv->fhirpack) (20.14.1)\n",
      "Requirement already satisfied: setuptools>=36.2.1 in /home/jsalazar/.local/share/virtualenvs/fhirpack-I5oSLEhk/lib/python3.9/site-packages (from pipenv->fhirpack) (62.6.0)\n",
      "Requirement already satisfied: iniconfig in /home/jsalazar/.local/share/virtualenvs/fhirpack-I5oSLEhk/lib/python3.9/site-packages (from pytest->fhirpack) (1.1.1)\n",
      "Requirement already satisfied: py>=1.8.2 in /home/jsalazar/.local/share/virtualenvs/fhirpack-I5oSLEhk/lib/python3.9/site-packages (from pytest->fhirpack) (1.11.0)\n",
      "Requirement already satisfied: attrs>=19.2.0 in /home/jsalazar/.local/share/virtualenvs/fhirpack-I5oSLEhk/lib/python3.9/site-packages (from pytest->fhirpack) (21.4.0)\n",
      "Requirement already satisfied: pluggy<2.0,>=0.12 in /home/jsalazar/.local/share/virtualenvs/fhirpack-I5oSLEhk/lib/python3.9/site-packages (from pytest->fhirpack) (1.0.0)\n",
      "Requirement already satisfied: async-timeout<4.0,>=3.0 in /home/jsalazar/.local/share/virtualenvs/fhirpack-I5oSLEhk/lib/python3.9/site-packages (from aiohttp>=3.6.3->fhirpy->fhirpack) (3.0.1)\n",
      "Requirement already satisfied: multidict<5.0,>=4.5 in /home/jsalazar/.local/share/virtualenvs/fhirpack-I5oSLEhk/lib/python3.9/site-packages (from aiohttp>=3.6.3->fhirpy->fhirpack) (4.7.6)\n",
      "Requirement already satisfied: yarl<2.0,>=1.0 in /home/jsalazar/.local/share/virtualenvs/fhirpack-I5oSLEhk/lib/python3.9/site-packages (from aiohttp>=3.6.3->fhirpy->fhirpack) (1.7.2)\n",
      "Requirement already satisfied: chardet<4.0,>=2.0 in /home/jsalazar/.local/share/virtualenvs/fhirpack-I5oSLEhk/lib/python3.9/site-packages (from aiohttp>=3.6.3->fhirpy->fhirpack) (3.0.4)\n",
      "Requirement already satisfied: cffi>=1.12 in /home/jsalazar/.local/share/virtualenvs/fhirpack-I5oSLEhk/lib/python3.9/site-packages (from cryptography>=3.2->authlib->fhirpack) (1.15.0)\n",
      "Requirement already satisfied: email-validator>=1.0.3 in /home/jsalazar/.local/share/virtualenvs/fhirpack-I5oSLEhk/lib/python3.9/site-packages (from pydantic[email]>=1.7.2->fhir.resources->fhirpack) (1.2.1)\n",
      "Requirement already satisfied: six>=1.5 in /home/jsalazar/.local/share/virtualenvs/fhirpack-I5oSLEhk/lib/python3.9/site-packages (from python-dateutil>=2.7->matplotlib->fhirpack) (1.16.0)\n",
      "Requirement already satisfied: filelock<4,>=3.2 in /home/jsalazar/.local/share/virtualenvs/fhirpack-I5oSLEhk/lib/python3.9/site-packages (from virtualenv->pipenv->fhirpack) (3.7.1)\n",
      "Requirement already satisfied: distlib<1,>=0.3.1 in /home/jsalazar/.local/share/virtualenvs/fhirpack-I5oSLEhk/lib/python3.9/site-packages (from virtualenv->pipenv->fhirpack) (0.3.4)\n",
      "Requirement already satisfied: pycparser in /home/jsalazar/.local/share/virtualenvs/fhirpack-I5oSLEhk/lib/python3.9/site-packages (from cffi>=1.12->cryptography>=3.2->authlib->fhirpack) (2.21)\n",
      "Requirement already satisfied: dnspython>=1.15.0 in /home/jsalazar/.local/share/virtualenvs/fhirpack-I5oSLEhk/lib/python3.9/site-packages (from email-validator>=1.0.3->pydantic[email]>=1.7.2->fhir.resources->fhirpack) (2.2.1)\n"
     ]
    }
   ],
   "source": [
    "!pip install fhirpack"
   ]
  },
  {
   "cell_type": "markdown",
   "metadata": {},
   "source": [
    "### Using FHIRPACK without Installation by Modifying PYTHONPATH\n",
    "\n",
    "You can use FHIRPACK without installing it, this is mostly used for testing purposes during development, but it's listed here for reference.\n",
    "\n",
    "Simply clone the FHIRPACK repository using `git clone git@github.com:fhirpack/main.git` or `git clone git@gitlab.com:fhirpack/main.git`"
   ]
  },
  {
   "cell_type": "code",
   "execution_count": 9,
   "metadata": {},
   "outputs": [],
   "source": [
    "import sys,os\n",
    "sys.path.append(os.getcwd()+'/../src/')"
   ]
  },
  {
   "cell_type": "markdown",
   "metadata": {},
   "source": [
    "### Installing FHIRPACK from Source\n",
    "\n",
    "Alternatively, you can installed the latest version of this repository in edit mode if you want to play around and modify FHIRPACK."
   ]
  },
  {
   "cell_type": "code",
   "execution_count": null,
   "metadata": {},
   "outputs": [],
   "source": [
    "#!pip install -e ."
   ]
  },
  {
   "cell_type": "markdown",
   "metadata": {},
   "source": [
    "### Imports"
   ]
  },
  {
   "cell_type": "code",
   "execution_count": 10,
   "metadata": {},
   "outputs": [],
   "source": [
    "import fhirpack\tas fp\n",
    "import pandas\tas pd\n",
    "import numpy\tas np\n",
    "import json\n",
    "\n",
    "pd.set_option('display.max_columns', None)\n",
    "pd.set_option('display.width', None)\n",
    "pd.set_option('display.max_colwidth', None)\n",
    "\n",
    "RESPATH=f\"./data/\""
   ]
  },
  {
   "cell_type": "markdown",
   "metadata": {
    "tags": []
   },
   "source": [
    "# FHIR Server Connection"
   ]
  },
  {
   "cell_type": "markdown",
   "metadata": {},
   "source": [
    "## Configure PACK with Environment File"
   ]
  },
  {
   "cell_type": "code",
   "execution_count": 11,
   "metadata": {},
   "outputs": [],
   "source": [
    "pack = fp.PACK(envFile='.env.example')"
   ]
  },
  {
   "cell_type": "markdown",
   "metadata": {},
   "source": [
    "# Playground"
   ]
  },
  {
   "cell_type": "code",
   "execution_count": 23,
   "metadata": {},
   "outputs": [
    {
     "name": "stderr",
     "output_type": "stream",
     "text": [
      "                                                                    \r"
     ]
    },
    {
     "data": {
      "text/plain": [
       "(100, 1)"
      ]
     },
     "execution_count": 23,
     "metadata": {},
     "output_type": "execute_result"
    }
   ],
   "source": [
    "conditions = pack\\\n",
    "\t.getConditions(\n",
    "\t\tsearchParams={\n",
    "\t\t\t\"_content\":\"Coronary Heart Disease\",\n",
    "\t\t\t})\n",
    "\n",
    "conditions.shape"
   ]
  },
  {
   "cell_type": "code",
   "execution_count": 18,
   "metadata": {},
   "outputs": [
    {
     "data": {
      "text/html": [
       "<div>\n",
       "<style scoped>\n",
       "    .dataframe tbody tr th:only-of-type {\n",
       "        vertical-align: middle;\n",
       "    }\n",
       "\n",
       "    .dataframe tbody tr th {\n",
       "        vertical-align: top;\n",
       "    }\n",
       "\n",
       "    .dataframe thead th {\n",
       "        text-align: right;\n",
       "    }\n",
       "</style>\n",
       "<table border=\"1\" class=\"dataframe\">\n",
       "  <thead>\n",
       "    <tr style=\"text-align: right;\">\n",
       "      <th></th>\n",
       "      <th>data</th>\n",
       "    </tr>\n",
       "  </thead>\n",
       "  <tbody>\n",
       "    <tr>\n",
       "      <th>0</th>\n",
       "      <td>{'resourceType': 'Condition', 'id': '617158', 'meta': {'versionId': '1', 'lastUpdated': '2020-02-07T11:51:46.361+00:00', 'source': '#msg5Ia42NNbn9SQ0'}, 'clinicalStatus': {'coding': [{'system': 'http://terminology.hl7.org/CodeSystem/condition-clinical', 'code': 'active'}]}, 'verificationStatus': {'coding': [{'system': 'http://terminology.hl7.org/CodeSystem/condition-ver-status', 'code': 'confirmed'}]}, 'code': {'coding': [{'system': 'http://snomed.info/sct', 'code': '53741008', 'display': 'Coronary Heart Disease'}], 'text': 'Coronary Heart Disease'}, 'subject': {'reference': 'Patient/617077'}, 'encounter': {'reference': 'Encounter/617157'}, 'onsetDateTime': '2003-12-16T02:47:35-05:00', 'recordedDate': '2003-12-16T02:47:35-05:00'}</td>\n",
       "    </tr>\n",
       "  </tbody>\n",
       "</table>\n",
       "</div>"
      ],
      "text/plain": [
       "                                                                                                                                                                                                                                                                                                                                                                                                                                                                                                                                                                                                                                                                                                                                                                  data\n",
       "0  {'resourceType': 'Condition', 'id': '617158', 'meta': {'versionId': '1', 'lastUpdated': '2020-02-07T11:51:46.361+00:00', 'source': '#msg5Ia42NNbn9SQ0'}, 'clinicalStatus': {'coding': [{'system': 'http://terminology.hl7.org/CodeSystem/condition-clinical', 'code': 'active'}]}, 'verificationStatus': {'coding': [{'system': 'http://terminology.hl7.org/CodeSystem/condition-ver-status', 'code': 'confirmed'}]}, 'code': {'coding': [{'system': 'http://snomed.info/sct', 'code': '53741008', 'display': 'Coronary Heart Disease'}], 'text': 'Coronary Heart Disease'}, 'subject': {'reference': 'Patient/617077'}, 'encounter': {'reference': 'Encounter/617157'}, 'onsetDateTime': '2003-12-16T02:47:35-05:00', 'recordedDate': '2003-12-16T02:47:35-05:00'}"
      ]
     },
     "execution_count": 18,
     "metadata": {},
     "output_type": "execute_result"
    }
   ],
   "source": [
    "conditions[0:1]"
   ]
  },
  {
   "cell_type": "code",
   "execution_count": 19,
   "metadata": {},
   "outputs": [
    {
     "name": "stdout",
     "output_type": "stream",
     "text": [
      "{\n",
      "    \"clinicalStatus\": {\n",
      "        \"coding\": [\n",
      "            {\n",
      "                \"code\": \"active\",\n",
      "                \"system\": \"http://terminology.hl7.org/CodeSystem/condition-clinical\"\n",
      "            }\n",
      "        ]\n",
      "    },\n",
      "    \"code\": {\n",
      "        \"coding\": [\n",
      "            {\n",
      "                \"code\": \"53741008\",\n",
      "                \"display\": \"Coronary Heart Disease\",\n",
      "                \"system\": \"http://snomed.info/sct\"\n",
      "            }\n",
      "        ],\n",
      "        \"text\": \"Coronary Heart Disease\"\n",
      "    },\n",
      "    \"encounter\": {\n",
      "        \"reference\": \"Encounter/617157\"\n",
      "    },\n",
      "    \"id\": \"617158\",\n",
      "    \"meta\": {\n",
      "        \"lastUpdated\": \"2020-02-07T11:51:46.361+00:00\",\n",
      "        \"source\": \"#msg5Ia42NNbn9SQ0\",\n",
      "        \"versionId\": \"1\"\n",
      "    },\n",
      "    \"onsetDateTime\": \"2003-12-16T02:47:35-05:00\",\n",
      "    \"recordedDate\": \"2003-12-16T02:47:35-05:00\",\n",
      "    \"resourceType\": \"Condition\",\n",
      "    \"subject\": {\n",
      "        \"reference\": \"Patient/617077\"\n",
      "    },\n",
      "    \"verificationStatus\": {\n",
      "        \"coding\": [\n",
      "            {\n",
      "                \"code\": \"confirmed\",\n",
      "                \"system\": \"http://terminology.hl7.org/CodeSystem/condition-ver-status\"\n",
      "            }\n",
      "        ]\n",
      "    }\n",
      "}\n"
     ]
    }
   ],
   "source": [
    "conditions[0:1].pretty"
   ]
  },
  {
   "cell_type": "code",
   "execution_count": 20,
   "metadata": {},
   "outputs": [
    {
     "name": "stderr",
     "output_type": "stream",
     "text": [
      "                                                                \r"
     ]
    },
    {
     "data": {
      "text/html": [
       "<div>\n",
       "<style scoped>\n",
       "    .dataframe tbody tr th:only-of-type {\n",
       "        vertical-align: middle;\n",
       "    }\n",
       "\n",
       "    .dataframe tbody tr th {\n",
       "        vertical-align: top;\n",
       "    }\n",
       "\n",
       "    .dataframe thead th {\n",
       "        text-align: right;\n",
       "    }\n",
       "</style>\n",
       "<table border=\"1\" class=\"dataframe\">\n",
       "  <thead>\n",
       "    <tr style=\"text-align: right;\">\n",
       "      <th></th>\n",
       "      <th>id</th>\n",
       "      <th>name.given</th>\n",
       "      <th>name.family</th>\n",
       "      <th>birthDate</th>\n",
       "    </tr>\n",
       "  </thead>\n",
       "  <tbody>\n",
       "    <tr>\n",
       "      <th>0</th>\n",
       "      <td>[617077]</td>\n",
       "      <td>[[[Andres25]]]</td>\n",
       "      <td>[[Konopelski743]]</td>\n",
       "      <td>[1975-10-07]</td>\n",
       "    </tr>\n",
       "    <tr>\n",
       "      <th>1</th>\n",
       "      <td>[ddbf5561-4bfd-4434-89fb-344387ca945b]</td>\n",
       "      <td>[[[Adam631]]]</td>\n",
       "      <td>[[Keebler762]]</td>\n",
       "      <td>[1948-07-09]</td>\n",
       "    </tr>\n",
       "    <tr>\n",
       "      <th>2</th>\n",
       "      <td>[2695a0ea-9953-4f1c-bcf0-fd25d9b5a621]</td>\n",
       "      <td>[[[Agustín529]]]</td>\n",
       "      <td>[[Cintrón695]]</td>\n",
       "      <td>[1974-11-02]</td>\n",
       "    </tr>\n",
       "    <tr>\n",
       "      <th>3</th>\n",
       "      <td>[4cee554c-9681-47b7-a3c4-06864ec294a0]</td>\n",
       "      <td>[[[Agustín529]]]</td>\n",
       "      <td>[[Cintrón695]]</td>\n",
       "      <td>[1974-08-25]</td>\n",
       "    </tr>\n",
       "    <tr>\n",
       "      <th>4</th>\n",
       "      <td>[1b8a7c69-e0d0-4832-a9a1-b487bbc8af90]</td>\n",
       "      <td>[[[Aja848], [Aja848]]]</td>\n",
       "      <td>[[Herman763, Hansen121]]</td>\n",
       "      <td>[1959-10-02]</td>\n",
       "    </tr>\n",
       "  </tbody>\n",
       "</table>\n",
       "</div>"
      ],
      "text/plain": [
       "                                       id              name.given  \\\n",
       "0                                [617077]          [[[Andres25]]]   \n",
       "1  [ddbf5561-4bfd-4434-89fb-344387ca945b]           [[[Adam631]]]   \n",
       "2  [2695a0ea-9953-4f1c-bcf0-fd25d9b5a621]        [[[Agustín529]]]   \n",
       "3  [4cee554c-9681-47b7-a3c4-06864ec294a0]        [[[Agustín529]]]   \n",
       "4  [1b8a7c69-e0d0-4832-a9a1-b487bbc8af90]  [[[Aja848], [Aja848]]]   \n",
       "\n",
       "                name.family     birthDate  \n",
       "0         [[Konopelski743]]  [1975-10-07]  \n",
       "1            [[Keebler762]]  [1948-07-09]  \n",
       "2            [[Cintrón695]]  [1974-11-02]  \n",
       "3            [[Cintrón695]]  [1974-08-25]  \n",
       "4  [[Herman763, Hansen121]]  [1959-10-02]  "
      ]
     },
     "execution_count": 20,
     "metadata": {},
     "output_type": "execute_result"
    }
   ],
   "source": [
    "conditions[:5]\\\n",
    "\t.getPatients()\\\n",
    "\t\t.gatherSimplePaths([\n",
    "\t\t\t\"id\",\n",
    "\t\t\t\"name.given\",\n",
    "\t\t\t\"name.family\",\n",
    "\t\t\t\"birthDate\"\n",
    "\t\t])"
   ]
  },
  {
   "cell_type": "markdown",
   "metadata": {},
   "source": [
    "# -----------------------------------------------------------\n",
    "# MR SAMPLES\n",
    "# -----------------------------------------------------------"
   ]
  },
  {
   "cell_type": "code",
   "execution_count": 59,
   "metadata": {},
   "outputs": [
    {
     "name": "stderr",
     "output_type": "stream",
     "text": [
      "                                                                  \r"
     ]
    },
    {
     "data": {
      "text/html": [
       "<div>\n",
       "<style scoped>\n",
       "    .dataframe tbody tr th:only-of-type {\n",
       "        vertical-align: middle;\n",
       "    }\n",
       "\n",
       "    .dataframe tbody tr th {\n",
       "        vertical-align: top;\n",
       "    }\n",
       "\n",
       "    .dataframe thead th {\n",
       "        text-align: right;\n",
       "    }\n",
       "</style>\n",
       "<table border=\"1\" class=\"dataframe\">\n",
       "  <thead>\n",
       "    <tr style=\"text-align: right;\">\n",
       "      <th></th>\n",
       "      <th>data</th>\n",
       "    </tr>\n",
       "  </thead>\n",
       "  <tbody>\n",
       "    <tr>\n",
       "      <th>0</th>\n",
       "      <td>{'resourceType': 'Condition', 'id': 'e4c96288-e4a5-419b-9908-d28686767e8e', 'meta': {'versionId': '1', 'lastUpdated': '2020-03-24T17:54:12.949+00:00', 'source': '#qJi1XIf2IfwL9umc', 'profile': ['http://hl7.org/fhir/us/core/StructureDefinition/us-core-condition'], 'tag': [{'system': 'https://smarthealthit.org/tags', 'code': 'Covid19 synthetic population from Synthea'}]}, 'clinicalStatus': {'coding': [{'system': 'http://terminology.hl7.org/CodeSystem/condition-clinical', 'code': 'active'}]}, 'verificationStatus': {'coding': [{'system': 'http://terminology.hl7.org/CodeSystem/condition-ver-status', 'code': 'confirmed'}]}, 'category': [{'coding': [{'system': 'http://terminology.hl7.org/CodeSystem/condition-category', 'code': 'encounter-diagnosis', 'display': 'Encounter Diagnosis'}]}], 'code': {'coding': [{'system': 'http://snomed.info/sct', 'code': '53741008', 'display': 'Coronary Heart Disease'}], 'text': 'Coronary Heart Disease'}, 'subject': {'reference': 'Patient/ddbf5561-4bfd-4434-89fb-344387ca945b'}, 'encounter': {'reference': 'Encounter/af8c5e1e-7009-491a-8878-cf1e8a17ea2c'}, 'onsetDateTime': '1999-07-16T08:18:18-05:00', 'recordedDate': '1999-07-16T08:18:18-05:00'}</td>\n",
       "    </tr>\n",
       "  </tbody>\n",
       "</table>\n",
       "</div>"
      ],
      "text/plain": [
       "                                                                                                                                                                                                                                                                                                                                                                                                                                                                                                                                                                                                                                                                                                                                                                                                                                                                                                                                                                                                                                                                                                                                                                                                                               data\n",
       "0  {'resourceType': 'Condition', 'id': 'e4c96288-e4a5-419b-9908-d28686767e8e', 'meta': {'versionId': '1', 'lastUpdated': '2020-03-24T17:54:12.949+00:00', 'source': '#qJi1XIf2IfwL9umc', 'profile': ['http://hl7.org/fhir/us/core/StructureDefinition/us-core-condition'], 'tag': [{'system': 'https://smarthealthit.org/tags', 'code': 'Covid19 synthetic population from Synthea'}]}, 'clinicalStatus': {'coding': [{'system': 'http://terminology.hl7.org/CodeSystem/condition-clinical', 'code': 'active'}]}, 'verificationStatus': {'coding': [{'system': 'http://terminology.hl7.org/CodeSystem/condition-ver-status', 'code': 'confirmed'}]}, 'category': [{'coding': [{'system': 'http://terminology.hl7.org/CodeSystem/condition-category', 'code': 'encounter-diagnosis', 'display': 'Encounter Diagnosis'}]}], 'code': {'coding': [{'system': 'http://snomed.info/sct', 'code': '53741008', 'display': 'Coronary Heart Disease'}], 'text': 'Coronary Heart Disease'}, 'subject': {'reference': 'Patient/ddbf5561-4bfd-4434-89fb-344387ca945b'}, 'encounter': {'reference': 'Encounter/af8c5e1e-7009-491a-8878-cf1e8a17ea2c'}, 'onsetDateTime': '1999-07-16T08:18:18-05:00', 'recordedDate': '1999-07-16T08:18:18-05:00'}"
      ]
     },
     "execution_count": 59,
     "metadata": {},
     "output_type": "execute_result"
    }
   ],
   "source": [
    "pack\\\n",
    ".getPatients(['ddbf5561-4bfd-4434-89fb-344387ca945b'])\\\n",
    ".getConditions()\\\n",
    "# .getPatients()\n",
    "# .gatherSimplePaths(['id','birthDate'],columns=['id','birth'])"
   ]
  },
  {
   "cell_type": "code",
   "execution_count": 21,
   "metadata": {},
   "outputs": [
    {
     "name": "stderr",
     "output_type": "stream",
     "text": [
      "                                                                     \r"
     ]
    },
    {
     "data": {
      "text/html": [
       "<div>\n",
       "<style scoped>\n",
       "    .dataframe tbody tr th:only-of-type {\n",
       "        vertical-align: middle;\n",
       "    }\n",
       "\n",
       "    .dataframe tbody tr th {\n",
       "        vertical-align: top;\n",
       "    }\n",
       "\n",
       "    .dataframe thead th {\n",
       "        text-align: right;\n",
       "    }\n",
       "</style>\n",
       "<table border=\"1\" class=\"dataframe\">\n",
       "  <thead>\n",
       "    <tr style=\"text-align: right;\">\n",
       "      <th></th>\n",
       "      <th>data</th>\n",
       "    </tr>\n",
       "  </thead>\n",
       "  <tbody>\n",
       "    <tr>\n",
       "      <th>0</th>\n",
       "      <td>{'resourceType': 'Patient', 'id': 'ddbf5561-4bfd-4434-89fb-344387ca945b', 'meta': {'versionId': '1', 'lastUpdated': '2020-03-24T17:54:12.949+00:00', 'source': '#qJi1XIf2IfwL9umc', 'profile': ['http://hl7.org/fhir/us/core/StructureDefinition/us-core-patient'], 'tag': [{'system': 'https://smarthealthit.org/tags', 'code': 'Covid19 synthetic population from Synthea'}]}, 'text': {'status': 'generated', 'div': '&lt;div xmlns=\"http://www.w3.org/1999/xhtml\"&gt;Generated by &lt;a href=\"https://github.com/synthetichealth/synthea\"&gt;Synthea&lt;/a&gt;.Version identifier: 7ff8db58\n",
       " .   Person seed: 2967002081869646390  Population seed: 12345&lt;/div&gt;'}, 'extension': [{'url': 'http://hl7.org/fhir/us/core/StructureDefinition/us-core-race', 'extension': [{'url': 'ombCategory', 'valueCoding': {'system': 'urn:oid:2.16.840.1.113883.6.238', 'code': '2028-9', 'display': 'Asian'}}, {'url': 'text', 'valueString': 'Asian'}]}, {'url': 'http://hl7.org/fhir/us/core/StructureDefinition/us-core-ethnicity', 'extension': [{'url': 'ombCategory', 'valueCoding': {'system': 'urn:oid:2.16.840.1.113883.6.238', 'code': '2186-5', 'display': 'Not Hispanic or Latino'}}, {'url': 'text', 'valueString': 'Not Hispanic or Latino'}]}, {'url': 'http://hl7.org/fhir/StructureDefinition/patient-mothersMaidenName', 'valueString': 'Pinkie318 Koelpin146'}, {'url': 'http://hl7.org/fhir/us/core/StructureDefinition/us-core-birthsex', 'valueCode': 'M'}, {'url': 'http://hl7.org/fhir/StructureDefinition/patient-birthPlace', 'valueAddress': {'city': 'Chongqing', 'state': 'Chongqing Municipality', 'country': 'CN'}}, {'url': 'http://synthetichealth.github.io/synthea/disability-adjusted-life-years', 'valueDecimal': 0.05168353068669717}, {'url': 'http://synthetichealth.github.io/synthea/quality-adjusted-life-years', 'valueDecimal': 51.948316469313305}], 'identifier': [{'system': 'https://github.com/synthetichealth/synthea', 'value': 'efd32282-a362-41a5-9172-4caf43f0c5b1'}, {'type': {'coding': [{'system': 'http://terminology.hl7.org/CodeSystem/v2-0203', 'code': 'MR', 'display': 'Medical Record Number'}], 'text': 'Medical Record Number'}, 'system': 'http://hospital.smarthealthit.org', 'value': 'efd32282-a362-41a5-9172-4caf43f0c5b1'}, {'type': {'coding': [{'system': 'http://terminology.hl7.org/CodeSystem/v2-0203', 'code': 'SS', 'display': 'Social Security Number'}], 'text': 'Social Security Number'}, 'system': 'http://hl7.org/fhir/sid/us-ssn', 'value': '999-18-4144'}, {'type': {'coding': [{'system': 'http://terminology.hl7.org/CodeSystem/v2-0203', 'code': 'DL', 'display': \"Driver's License\"}], 'text': \"Driver's License\"}, 'system': 'urn:oid:2.16.840.1.113883.4.3.25', 'value': 'S99934063'}, {'type': {'coding': [{'system': 'http://terminology.hl7.org/CodeSystem/v2-0203', 'code': 'PPN', 'display': 'Passport Number'}], 'text': 'Passport Number'}, 'system': 'http://standardhealthrecord.org/fhir/StructureDefinition/passportNumber', 'value': 'X10058529X'}], 'name': [{'use': 'official', 'family': 'Keebler762', 'given': ['Adam631'], 'prefix': ['Mr.']}], 'telecom': [{'system': 'phone', 'value': '555-463-3044', 'use': 'home'}], 'gender': 'male', 'birthDate': '1948-07-09', 'deceasedDateTime': '2001-07-26T08:18:18-05:00', 'address': [{'extension': [{'url': 'http://hl7.org/fhir/StructureDefinition/geolocation', 'extension': [{'url': 'latitude', 'valueDecimal': 34.04216608905439}, {'url': 'longitude', 'valueDecimal': -118.29455405036539}]}], 'line': ['909 Emmerich Corner'], 'city': 'Los Angeles', 'state': 'CA', 'country': 'US'}], 'maritalStatus': {'coding': [{'system': 'http://terminology.hl7.org/CodeSystem/v3-MaritalStatus', 'code': 'S', 'display': 'S'}], 'text': 'S'}, 'multipleBirthBoolean': False, 'communication': [{'language': {'coding': [{'system': 'urn:ietf:bcp:47', 'code': 'zh', 'display': 'Chinese'}], 'text': 'Chinese'}}]}</td>\n",
       "    </tr>\n",
       "  </tbody>\n",
       "</table>\n",
       "</div>"
      ],
      "text/plain": [
       "                                                                                                                                                                                                                                                                                                                                                                                                                                                                                                                                                                                                                                                                                                                                                                                                                                                                                                                                                                                                                                                                                                                                                                                                                                                                                                                                                                                                                                                                                                                                                                                                                                                                                                                                                                                                                                                                                                                                                                                                                                                                                                                                                                                                                                                                                                                                                                                                                                                                                                                                                                                                                                                                                                                                                                                                                                                                                                                                                                                                                                                                                                                                                                                                                                                                                                                                                                                                                                                                                                                                                                                                                                                                                                                                                                                                                                                                                                                                                      data\n",
       "0  {'resourceType': 'Patient', 'id': 'ddbf5561-4bfd-4434-89fb-344387ca945b', 'meta': {'versionId': '1', 'lastUpdated': '2020-03-24T17:54:12.949+00:00', 'source': '#qJi1XIf2IfwL9umc', 'profile': ['http://hl7.org/fhir/us/core/StructureDefinition/us-core-patient'], 'tag': [{'system': 'https://smarthealthit.org/tags', 'code': 'Covid19 synthetic population from Synthea'}]}, 'text': {'status': 'generated', 'div': '<div xmlns=\"http://www.w3.org/1999/xhtml\">Generated by <a href=\"https://github.com/synthetichealth/synthea\">Synthea</a>.Version identifier: 7ff8db58\n",
       " .   Person seed: 2967002081869646390  Population seed: 12345</div>'}, 'extension': [{'url': 'http://hl7.org/fhir/us/core/StructureDefinition/us-core-race', 'extension': [{'url': 'ombCategory', 'valueCoding': {'system': 'urn:oid:2.16.840.1.113883.6.238', 'code': '2028-9', 'display': 'Asian'}}, {'url': 'text', 'valueString': 'Asian'}]}, {'url': 'http://hl7.org/fhir/us/core/StructureDefinition/us-core-ethnicity', 'extension': [{'url': 'ombCategory', 'valueCoding': {'system': 'urn:oid:2.16.840.1.113883.6.238', 'code': '2186-5', 'display': 'Not Hispanic or Latino'}}, {'url': 'text', 'valueString': 'Not Hispanic or Latino'}]}, {'url': 'http://hl7.org/fhir/StructureDefinition/patient-mothersMaidenName', 'valueString': 'Pinkie318 Koelpin146'}, {'url': 'http://hl7.org/fhir/us/core/StructureDefinition/us-core-birthsex', 'valueCode': 'M'}, {'url': 'http://hl7.org/fhir/StructureDefinition/patient-birthPlace', 'valueAddress': {'city': 'Chongqing', 'state': 'Chongqing Municipality', 'country': 'CN'}}, {'url': 'http://synthetichealth.github.io/synthea/disability-adjusted-life-years', 'valueDecimal': 0.05168353068669717}, {'url': 'http://synthetichealth.github.io/synthea/quality-adjusted-life-years', 'valueDecimal': 51.948316469313305}], 'identifier': [{'system': 'https://github.com/synthetichealth/synthea', 'value': 'efd32282-a362-41a5-9172-4caf43f0c5b1'}, {'type': {'coding': [{'system': 'http://terminology.hl7.org/CodeSystem/v2-0203', 'code': 'MR', 'display': 'Medical Record Number'}], 'text': 'Medical Record Number'}, 'system': 'http://hospital.smarthealthit.org', 'value': 'efd32282-a362-41a5-9172-4caf43f0c5b1'}, {'type': {'coding': [{'system': 'http://terminology.hl7.org/CodeSystem/v2-0203', 'code': 'SS', 'display': 'Social Security Number'}], 'text': 'Social Security Number'}, 'system': 'http://hl7.org/fhir/sid/us-ssn', 'value': '999-18-4144'}, {'type': {'coding': [{'system': 'http://terminology.hl7.org/CodeSystem/v2-0203', 'code': 'DL', 'display': \"Driver's License\"}], 'text': \"Driver's License\"}, 'system': 'urn:oid:2.16.840.1.113883.4.3.25', 'value': 'S99934063'}, {'type': {'coding': [{'system': 'http://terminology.hl7.org/CodeSystem/v2-0203', 'code': 'PPN', 'display': 'Passport Number'}], 'text': 'Passport Number'}, 'system': 'http://standardhealthrecord.org/fhir/StructureDefinition/passportNumber', 'value': 'X10058529X'}], 'name': [{'use': 'official', 'family': 'Keebler762', 'given': ['Adam631'], 'prefix': ['Mr.']}], 'telecom': [{'system': 'phone', 'value': '555-463-3044', 'use': 'home'}], 'gender': 'male', 'birthDate': '1948-07-09', 'deceasedDateTime': '2001-07-26T08:18:18-05:00', 'address': [{'extension': [{'url': 'http://hl7.org/fhir/StructureDefinition/geolocation', 'extension': [{'url': 'latitude', 'valueDecimal': 34.04216608905439}, {'url': 'longitude', 'valueDecimal': -118.29455405036539}]}], 'line': ['909 Emmerich Corner'], 'city': 'Los Angeles', 'state': 'CA', 'country': 'US'}], 'maritalStatus': {'coding': [{'system': 'http://terminology.hl7.org/CodeSystem/v3-MaritalStatus', 'code': 'S', 'display': 'S'}], 'text': 'S'}, 'multipleBirthBoolean': False, 'communication': [{'language': {'coding': [{'system': 'urn:ietf:bcp:47', 'code': 'zh', 'display': 'Chinese'}], 'text': 'Chinese'}}]}"
      ]
     },
     "execution_count": 21,
     "metadata": {},
     "output_type": "execute_result"
    }
   ],
   "source": [
    "pack\\\n",
    ".getPatients(['ddbf5561-4bfd-4434-89fb-344387ca945b'])\\\n",
    ".getObservations()\\\n",
    ".getPatients()\n",
    "# .gatherSimplePaths(['id','birthDate'],columns=['id','birth'])"
   ]
  },
  {
   "cell_type": "code",
   "execution_count": 27,
   "metadata": {},
   "outputs": [
    {
     "name": "stderr",
     "output_type": "stream",
     "text": [
      "                                                                              \r"
     ]
    },
    {
     "data": {
      "text/html": [
       "<div>\n",
       "<style scoped>\n",
       "    .dataframe tbody tr th:only-of-type {\n",
       "        vertical-align: middle;\n",
       "    }\n",
       "\n",
       "    .dataframe tbody tr th {\n",
       "        vertical-align: top;\n",
       "    }\n",
       "\n",
       "    .dataframe thead th {\n",
       "        text-align: right;\n",
       "    }\n",
       "</style>\n",
       "<table border=\"1\" class=\"dataframe\">\n",
       "  <thead>\n",
       "    <tr style=\"text-align: right;\">\n",
       "      <th></th>\n",
       "      <th>data</th>\n",
       "    </tr>\n",
       "  </thead>\n",
       "  <tbody>\n",
       "    <tr>\n",
       "      <th>0</th>\n",
       "      <td>{'resourceType': 'MedicationAdministration', 'id': '3982400', 'meta': {'versionId': '1', 'lastUpdated': '2022-06-23T13:40:38.918+00:00', 'source': '#89dMUNeScdbCSC74'}, 'contained': [{'resourceType': 'Medication', 'id': '1', 'text': {'status': 'generated', 'div': '&lt;div xmlns=\"http://www.w3.org/1999/xhtml\"&gt;&lt;div class=\"hapiHeaderText\"&gt; Testmedication &lt;/div&gt;&lt;/div&gt;'}, 'code': {'coding': [{'system': 'http://hl7.org/fhir/sid/ndc', 'code': '0409-6531-02', 'display': 'Testmedication'}]}}], 'medicationReference': {'reference': '#1'}, 'subject': {'reference': 'Patient/1653', 'display': 'huber'}, 'effectivePeriod': {'start': '2022-06-23T15:40:38.501'}, 'dosage': {'text': '500mg irgendwas', 'method': {'text': 'IV push'}, 'dose': {'value': 500, 'unit': 'mg', 'system': 'http://unitsofmeasure.org', 'code': 'mg'}}}</td>\n",
       "    </tr>\n",
       "  </tbody>\n",
       "</table>\n",
       "</div>"
      ],
      "text/plain": [
       "                                                                                                                                                                                                                                                                                                                                                                                                                                                                                                                                                                                                                                                                                                                                                                                                                                         data\n",
       "0  {'resourceType': 'MedicationAdministration', 'id': '3982400', 'meta': {'versionId': '1', 'lastUpdated': '2022-06-23T13:40:38.918+00:00', 'source': '#89dMUNeScdbCSC74'}, 'contained': [{'resourceType': 'Medication', 'id': '1', 'text': {'status': 'generated', 'div': '<div xmlns=\"http://www.w3.org/1999/xhtml\"><div class=\"hapiHeaderText\"> Testmedication </div></div>'}, 'code': {'coding': [{'system': 'http://hl7.org/fhir/sid/ndc', 'code': '0409-6531-02', 'display': 'Testmedication'}]}}], 'medicationReference': {'reference': '#1'}, 'subject': {'reference': 'Patient/1653', 'display': 'huber'}, 'effectivePeriod': {'start': '2022-06-23T15:40:38.501'}, 'dosage': {'text': '500mg irgendwas', 'method': {'text': 'IV push'}, 'dose': {'value': 500, 'unit': 'mg', 'system': 'http://unitsofmeasure.org', 'code': 'mg'}}}"
      ]
     },
     "execution_count": 27,
     "metadata": {},
     "output_type": "execute_result"
    }
   ],
   "source": [
    "pack\\\n",
    ".getMedicationAdministrations(['3982400'])\\\n",
    "# .getPatients(['ddbf5561-4bfd-4434-89fb-344387ca945b'])\\\n",
    "# .getPatients()\n",
    "# .gatherSimplePaths(['id','birthDate'],columns=['id','birth'])"
   ]
  },
  {
   "cell_type": "code",
   "execution_count": 28,
   "metadata": {},
   "outputs": [
    {
     "name": "stderr",
     "output_type": "stream",
     "text": [
      "                                                                       \r"
     ]
    },
    {
     "data": {
      "text/html": [
       "<div>\n",
       "<style scoped>\n",
       "    .dataframe tbody tr th:only-of-type {\n",
       "        vertical-align: middle;\n",
       "    }\n",
       "\n",
       "    .dataframe tbody tr th {\n",
       "        vertical-align: top;\n",
       "    }\n",
       "\n",
       "    .dataframe thead th {\n",
       "        text-align: right;\n",
       "    }\n",
       "</style>\n",
       "<table border=\"1\" class=\"dataframe\">\n",
       "  <thead>\n",
       "    <tr style=\"text-align: right;\">\n",
       "      <th></th>\n",
       "      <th>data</th>\n",
       "    </tr>\n",
       "  </thead>\n",
       "  <tbody>\n",
       "    <tr>\n",
       "      <th>0</th>\n",
       "      <td>{'resourceType': 'MedicationRequest', 'id': '3632291', 'meta': {'versionId': '1', 'lastUpdated': '2022-06-22T08:45:17.804+00:00', 'source': '#i32GFHLGiFJhpDE1', 'tag': [{'system': 'http://www.alpha.alp/use-case', 'code': 'TZ22'}]}, 'text': {'status': 'generated', 'div': '&lt;div xmlns=\"http://www.w3.org/1999/xhtml\"&gt;\n",
       "            &lt;p&gt;Prescription: Erythromycin 250 MG Oral Tablet\n",
       "            &lt;/p&gt;\n",
       "          &lt;/div&gt;'}, 'status': 'completed', 'intent': 'order', 'medicationReference': {'reference': 'Medication/3632289', 'display': 'Erythromycin 250 MG Oral Tablet'}, 'subject': {'reference': 'Patient/3632274'}, 'encounter': {'reference': 'Encounter/3632279', 'display': 'Follow up encounter'}, 'authoredOn': '2018-06-16', 'requester': {'reference': 'Practitioner/3632275', 'display': 'Dr. Harold Hippocrates'}, 'reasonReference': [{'reference': 'Condition/3632287', 'display': 'Otitis Media'}], 'dosageInstruction': [{'text': '250 mg 4 times per day for 10 days', 'timing': {'repeat': {'boundsDuration': {'value': 10, 'unit': 'day', 'system': 'http://unitsofmeasure.org', 'code': 'd'}, 'frequency': 4, 'period': 1, 'periodUnit': 'd'}}, 'doseAndRate': [{'doseQuantity': {'value': 250, 'unit': 'mg', 'system': 'http://unitsofmeasure.org', 'code': 'mg'}}]}], 'priorPrescription': {'reference': 'MedicationRequest/3632290', 'display': 'Amoxicillin prescription'}}</td>\n",
       "    </tr>\n",
       "  </tbody>\n",
       "</table>\n",
       "</div>"
      ],
      "text/plain": [
       "                                                                                                                                                                                                                                                                                                                                                                                                                                                                                                                                                                                                                                                                                                                                                                                                                                                                                                                                                                                                                                                                                                                                                                                                                                                                                                                                                                                                         data\n",
       "0  {'resourceType': 'MedicationRequest', 'id': '3632291', 'meta': {'versionId': '1', 'lastUpdated': '2022-06-22T08:45:17.804+00:00', 'source': '#i32GFHLGiFJhpDE1', 'tag': [{'system': 'http://www.alpha.alp/use-case', 'code': 'TZ22'}]}, 'text': {'status': 'generated', 'div': '<div xmlns=\"http://www.w3.org/1999/xhtml\">\n",
       "            <p>Prescription: Erythromycin 250 MG Oral Tablet\n",
       "            </p>\n",
       "          </div>'}, 'status': 'completed', 'intent': 'order', 'medicationReference': {'reference': 'Medication/3632289', 'display': 'Erythromycin 250 MG Oral Tablet'}, 'subject': {'reference': 'Patient/3632274'}, 'encounter': {'reference': 'Encounter/3632279', 'display': 'Follow up encounter'}, 'authoredOn': '2018-06-16', 'requester': {'reference': 'Practitioner/3632275', 'display': 'Dr. Harold Hippocrates'}, 'reasonReference': [{'reference': 'Condition/3632287', 'display': 'Otitis Media'}], 'dosageInstruction': [{'text': '250 mg 4 times per day for 10 days', 'timing': {'repeat': {'boundsDuration': {'value': 10, 'unit': 'day', 'system': 'http://unitsofmeasure.org', 'code': 'd'}, 'frequency': 4, 'period': 1, 'periodUnit': 'd'}}, 'doseAndRate': [{'doseQuantity': {'value': 250, 'unit': 'mg', 'system': 'http://unitsofmeasure.org', 'code': 'mg'}}]}], 'priorPrescription': {'reference': 'MedicationRequest/3632290', 'display': 'Amoxicillin prescription'}}"
      ]
     },
     "execution_count": 28,
     "metadata": {},
     "output_type": "execute_result"
    }
   ],
   "source": [
    "pack\\\n",
    ".getMedicationRequests(['3632291'])\\\n",
    "# .getPatients(['ddbf5561-4bfd-4434-89fb-344387ca945b'])\\\n",
    "# .getPatients()\n",
    "# .gatherSimplePaths(['id','birthDate'],columns=['id','birth'])"
   ]
  },
  {
   "cell_type": "code",
   "execution_count": 35,
   "metadata": {},
   "outputs": [
    {
     "name": "stderr",
     "output_type": "stream",
     "text": [
      "                                                                  \r"
     ]
    },
    {
     "data": {
      "text/html": [
       "<div>\n",
       "<style scoped>\n",
       "    .dataframe tbody tr th:only-of-type {\n",
       "        vertical-align: middle;\n",
       "    }\n",
       "\n",
       "    .dataframe tbody tr th {\n",
       "        vertical-align: top;\n",
       "    }\n",
       "\n",
       "    .dataframe thead th {\n",
       "        text-align: right;\n",
       "    }\n",
       "</style>\n",
       "<table border=\"1\" class=\"dataframe\">\n",
       "  <thead>\n",
       "    <tr style=\"text-align: right;\">\n",
       "      <th></th>\n",
       "      <th>data</th>\n",
       "    </tr>\n",
       "  </thead>\n",
       "  <tbody>\n",
       "    <tr>\n",
       "      <th>0</th>\n",
       "      <td>{'resourceType': 'ImagingStudy', 'id': '2823696', 'meta': {'versionId': '1', 'lastUpdated': '2022-03-01T06:56:03.942+00:00', 'source': 'https://hl7.org/fhir/URI/20220301150513/222#DhUGLIYihFmeSr23', 'profile': ['http://hl7.org/fhir/StructureDefinition/ImagingStudy|4.0.8'], 'security': [{'system': 'http://example.com/Coding-1', 'code': 'Coding-461'}], 'tag': [{'system': 'http://example.com/scenario', 'code': '20220301150513'}, {'system': 'http://example.com/Coding-1', 'code': 'Coding-459'}]}, 'text': {'status': 'generated', 'div': '&lt;div xmlns=\"http://www.w3.org/1999/xhtml\"&gt;#--ImagingStudy--2-352--#&lt;/div&gt;'}, 'identifier': [{'use': 'temp', 'system': 'http://example.com/Identifier-1', 'value': 'Identifier-118'}], 'status': 'available', 'subject': {'reference': 'Patient/2823245'}, 'encounter': {'reference': 'Encounter/2823188'}, 'started': '1970-01-01T09:01:44+09:00', 'basedOn': [{'reference': 'ServiceRequest/2823348'}], 'referrer': {'reference': 'PractitionerRole/2823256'}, 'interpreter': [{'reference': 'Practitioner/2823254'}], 'endpoint': [{'reference': 'Endpoint/2823190'}], 'reasonCode': [{'coding': [{'system': 'http://example.com/CodeableConcept-1', 'code': 'CodeableConcept-476'}]}], 'series': [{'uid': 'IdType-5', 'modality': {'system': 'http://example.com/Coding-1', 'code': 'Coding-460'}, 'bodySite': {'system': 'http://example.com/Coding-1', 'code': 'Coding-462'}, 'performer': [{'actor': &lt;SyncFHIRReference Practitioner/2823254&gt;}], 'instance': [{'uid': 'IdType-4', 'sopClass': {'system': 'http://example.com/Coding-1', 'code': 'Coding-463'}}]}]}</td>\n",
       "    </tr>\n",
       "  </tbody>\n",
       "</table>\n",
       "</div>"
      ],
      "text/plain": [
       "                                                                                                                                                                                                                                                                                                                                                                                                                                                                                                                                                                                                                                                                                                                                                                                                                                                                                                                                                                                                                                                                                                                                                                                                                                                                                                                                                                                                                                                                                                                                                                                                                                data\n",
       "0  {'resourceType': 'ImagingStudy', 'id': '2823696', 'meta': {'versionId': '1', 'lastUpdated': '2022-03-01T06:56:03.942+00:00', 'source': 'https://hl7.org/fhir/URI/20220301150513/222#DhUGLIYihFmeSr23', 'profile': ['http://hl7.org/fhir/StructureDefinition/ImagingStudy|4.0.8'], 'security': [{'system': 'http://example.com/Coding-1', 'code': 'Coding-461'}], 'tag': [{'system': 'http://example.com/scenario', 'code': '20220301150513'}, {'system': 'http://example.com/Coding-1', 'code': 'Coding-459'}]}, 'text': {'status': 'generated', 'div': '<div xmlns=\"http://www.w3.org/1999/xhtml\">#--ImagingStudy--2-352--#</div>'}, 'identifier': [{'use': 'temp', 'system': 'http://example.com/Identifier-1', 'value': 'Identifier-118'}], 'status': 'available', 'subject': {'reference': 'Patient/2823245'}, 'encounter': {'reference': 'Encounter/2823188'}, 'started': '1970-01-01T09:01:44+09:00', 'basedOn': [{'reference': 'ServiceRequest/2823348'}], 'referrer': {'reference': 'PractitionerRole/2823256'}, 'interpreter': [{'reference': 'Practitioner/2823254'}], 'endpoint': [{'reference': 'Endpoint/2823190'}], 'reasonCode': [{'coding': [{'system': 'http://example.com/CodeableConcept-1', 'code': 'CodeableConcept-476'}]}], 'series': [{'uid': 'IdType-5', 'modality': {'system': 'http://example.com/Coding-1', 'code': 'Coding-460'}, 'bodySite': {'system': 'http://example.com/Coding-1', 'code': 'Coding-462'}, 'performer': [{'actor': <SyncFHIRReference Practitioner/2823254>}], 'instance': [{'uid': 'IdType-4', 'sopClass': {'system': 'http://example.com/Coding-1', 'code': 'Coding-463'}}]}]}"
      ]
     },
     "execution_count": 35,
     "metadata": {},
     "output_type": "execute_result"
    }
   ],
   "source": [
    "pack\\\n",
    ".getImagingStudies(['2823696'])\\\n",
    "# .getPatients()\\\n",
    "# .getPatients()\n",
    "# .gatherSimplePaths(['id','birthDate'],columns=['id','birth'])"
   ]
  }
 ],
 "metadata": {
  "kernelspec": {
   "display_name": "Python 3.9.6 ('fhirpack-I5oSLEhk')",
   "language": "python",
   "name": "python3"
  },
  "language_info": {
   "codemirror_mode": {
    "name": "ipython",
    "version": 3
   },
   "file_extension": ".py",
   "mimetype": "text/x-python",
   "name": "python",
   "nbconvert_exporter": "python",
   "pygments_lexer": "ipython3",
   "version": "3.9.6"
  },
  "vscode": {
   "interpreter": {
    "hash": "22fa324736d3c21f3e94ad75ccc035126135b5718e73e83d80ae7053c0444244"
   }
  }
 },
 "nbformat": 4,
 "nbformat_minor": 4
}
