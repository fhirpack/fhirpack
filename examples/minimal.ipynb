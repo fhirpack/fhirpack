{
 "cells": [
  {
   "cell_type": "markdown",
   "metadata": {},
   "source": [
    "# Boilerplate"
   ]
  },
  {
   "cell_type": "code",
   "execution_count": 2,
   "metadata": {},
   "outputs": [
    {
     "name": "stdout",
     "output_type": "stream",
     "text": [
      "The autoreload extension is already loaded. To reload it, use:\n",
      "  %reload_ext autoreload\n",
      "Pretty printing has been turned ON\n"
     ]
    }
   ],
   "source": [
    "%load_ext autoreload\n",
    "%autoreload 2\n",
    "%pprint off"
   ]
  },
  {
   "cell_type": "code",
   "execution_count": 3,
   "metadata": {},
   "outputs": [],
   "source": [
    "from IPython.core.interactiveshell import InteractiveShell\n",
    "InteractiveShell.ast_node_interactivity = \"all\""
   ]
  },
  {
   "cell_type": "code",
   "execution_count": 4,
   "metadata": {},
   "outputs": [
    {
     "name": "stdout",
     "output_type": "stream",
     "text": [
      "Pretty printing has been turned OFF\n"
     ]
    }
   ],
   "source": [
    "%pprint"
   ]
  },
  {
   "cell_type": "markdown",
   "metadata": {},
   "source": [
    "# Preamble"
   ]
  },
  {
   "cell_type": "code",
   "execution_count": 5,
   "metadata": {},
   "outputs": [],
   "source": [
    "import sys,os\n",
    "sys.path.append(os.getcwd()+'/../../src/')\n",
    "\n",
    "import fhirdrill\tas fd\n",
    "import pandas\t\t\tas pd\n",
    "import numpy\t\t\tas np\n",
    "import json\n",
    "\n",
    "pd.set_option('display.max_columns', None)\n",
    "pd.set_option('display.width', None)\n",
    "pd.set_option('display.max_colwidth', None)\n",
    "\n",
    "RESPATH=f\"./data/\""
   ]
  },
  {
   "cell_type": "markdown",
   "metadata": {
    "tags": []
   },
   "source": [
    "# FHIR Server Connection"
   ]
  },
  {
   "cell_type": "markdown",
   "metadata": {},
   "source": [
    "## From Default Environment File"
   ]
  },
  {
   "cell_type": "code",
   "execution_count": 6,
   "metadata": {},
   "outputs": [],
   "source": [
    "drill = fd.Drill()\n",
    "# drill.client.authorization"
   ]
  },
  {
   "cell_type": "markdown",
   "metadata": {},
   "source": [
    "# Playground"
   ]
  },
  {
   "cell_type": "code",
   "execution_count": 9,
   "metadata": {},
   "outputs": [
    {
     "name": "stderr",
     "output_type": "stream",
     "text": [
      "RETRIEVAL > :   0%|          | 0/1 [00:00<?, ?it/s]\n"
     ]
    },
    {
     "ename": "MissingSchema",
     "evalue": "Invalid URL '/Patient?_id=1&_count=2': No scheme supplied. Perhaps you meant http:///Patient?_id=1&_count=2?",
     "output_type": "error",
     "traceback": [
      "\u001b[0;31m---------------------------------------------------------------------------\u001b[0m",
      "\u001b[0;31mMissingSchema\u001b[0m                             Traceback (most recent call last)",
      "\u001b[1;32m/Users/tillrostalski/Git/main/examples/minimal.ipynb Cell 11'\u001b[0m in \u001b[0;36m<cell line: 2>\u001b[0;34m()\u001b[0m\n\u001b[1;32m      <a href='vscode-notebook-cell:/Users/tillrostalski/Git/main/examples/minimal.ipynb#ch0000012?line=0'>1</a>\u001b[0m drill \u001b[39m=\u001b[39m fd\u001b[39m.\u001b[39mDrill(unconnected\u001b[39m=\u001b[39m\u001b[39mTrue\u001b[39;00m)\n\u001b[0;32m----> <a href='vscode-notebook-cell:/Users/tillrostalski/Git/main/examples/minimal.ipynb#ch0000012?line=1'>2</a>\u001b[0m drill\u001b[39m.\u001b[39;49mgetPatients([\u001b[39m\"\u001b[39;49m\u001b[39m1\u001b[39;49m\u001b[39m\"\u001b[39;49m])\n",
      "File \u001b[0;32m~/Git/main/src/fhirdrill/extraction/patient.py:47\u001b[0m, in \u001b[0;36mExtractorPatientMixin.getPatients\u001b[0;34m(self, input, searchParams, includeLinkedPatients, params, ignoreFrame)\u001b[0m\n\u001b[1;32m     <a href='file:///Users/tillrostalski/Git/main/src/fhirdrill/extraction/patient.py?line=44'>45</a>\u001b[0m \u001b[39mif\u001b[39;00m \u001b[39mlen\u001b[39m(\u001b[39minput\u001b[39m):\n\u001b[1;32m     <a href='file:///Users/tillrostalski/Git/main/src/fhirdrill/extraction/patient.py?line=45'>46</a>\u001b[0m     \u001b[39minput\u001b[39m \u001b[39m=\u001b[39m \u001b[39mself\u001b[39m\u001b[39m.\u001b[39mcastOperand(\u001b[39minput\u001b[39m, SyncFHIRReference, \u001b[39m\"\u001b[39m\u001b[39mPatient\u001b[39m\u001b[39m\"\u001b[39m)\n\u001b[0;32m---> <a href='file:///Users/tillrostalski/Git/main/src/fhirdrill/extraction/patient.py?line=46'>47</a>\u001b[0m     result \u001b[39m=\u001b[39m \u001b[39mself\u001b[39;49m\u001b[39m.\u001b[39;49mgetResources(\u001b[39minput\u001b[39;49m, resourceType\u001b[39m=\u001b[39;49m\u001b[39m\"\u001b[39;49m\u001b[39mPatient\u001b[39;49m\u001b[39m\"\u001b[39;49m, raw\u001b[39m=\u001b[39;49m\u001b[39mTrue\u001b[39;49;00m)\n\u001b[1;32m     <a href='file:///Users/tillrostalski/Git/main/src/fhirdrill/extraction/patient.py?line=48'>49</a>\u001b[0m \u001b[39melif\u001b[39;00m \u001b[39mself\u001b[39m\u001b[39m.\u001b[39misFrame \u001b[39mand\u001b[39;00m \u001b[39mnot\u001b[39;00m ignoreFrame:\n\u001b[1;32m     <a href='file:///Users/tillrostalski/Git/main/src/fhirdrill/extraction/patient.py?line=49'>50</a>\u001b[0m     \u001b[39minput\u001b[39m \u001b[39m=\u001b[39m \u001b[39mself\u001b[39m\u001b[39m.\u001b[39mdata\n",
      "File \u001b[0;32m~/Git/main/src/fhirdrill/extraction/base.py:206\u001b[0m, in \u001b[0;36mBaseExtractorMixin.getResources\u001b[0;34m(self, input, searchParams, params, resourceType, ignoreFrame, raw)\u001b[0m\n\u001b[1;32m    <a href='file:///Users/tillrostalski/Git/main/src/fhirdrill/extraction/base.py?line=202'>203</a>\u001b[0m     \u001b[39mraise\u001b[39;00m \u001b[39mNotImplementedError\u001b[39;00m\n\u001b[1;32m    <a href='file:///Users/tillrostalski/Git/main/src/fhirdrill/extraction/base.py?line=204'>205</a>\u001b[0m \u001b[39mfor\u001b[39;00m element \u001b[39min\u001b[39;00m tqdm(\u001b[39minput\u001b[39m, desc\u001b[39m=\u001b[39m\u001b[39m\"\u001b[39m\u001b[39mRETRIEVAL > \u001b[39m\u001b[39m\"\u001b[39m):\n\u001b[0;32m--> <a href='file:///Users/tillrostalski/Git/main/src/fhirdrill/extraction/base.py?line=205'>206</a>\u001b[0m     element \u001b[39m=\u001b[39m \u001b[39mself\u001b[39;49m\u001b[39m.\u001b[39;49mcastOperand(element, SyncFHIRResource, resourceType)\n\u001b[1;32m    <a href='file:///Users/tillrostalski/Git/main/src/fhirdrill/extraction/base.py?line=206'>207</a>\u001b[0m     result\u001b[39m.\u001b[39mextend(element)\n\u001b[1;32m    <a href='file:///Users/tillrostalski/Git/main/src/fhirdrill/extraction/base.py?line=208'>209</a>\u001b[0m \u001b[39mif\u001b[39;00m \u001b[39mnot\u001b[39;00m raw:\n",
      "File \u001b[0;32m~/Git/main/src/fhirdrill/base.py:146\u001b[0m, in \u001b[0;36mBaseMixin.castOperand\u001b[0;34m(self, input, target, resourceType)\u001b[0m\n\u001b[1;32m    <a href='file:///Users/tillrostalski/Git/main/src/fhirdrill/base.py?line=143'>144</a>\u001b[0m     \u001b[39mreturn\u001b[39;00m \u001b[39minput\u001b[39m\n\u001b[1;32m    <a href='file:///Users/tillrostalski/Git/main/src/fhirdrill/base.py?line=144'>145</a>\u001b[0m \u001b[39melif\u001b[39;00m target \u001b[39mis\u001b[39;00m SyncFHIRResource:\n\u001b[0;32m--> <a href='file:///Users/tillrostalski/Git/main/src/fhirdrill/base.py?line=145'>146</a>\u001b[0m     result \u001b[39m=\u001b[39m [e\u001b[39m.\u001b[39mto_resource() \u001b[39mfor\u001b[39;00m e \u001b[39min\u001b[39;00m \u001b[39minput\u001b[39m]\n\u001b[1;32m    <a href='file:///Users/tillrostalski/Git/main/src/fhirdrill/base.py?line=146'>147</a>\u001b[0m     \u001b[39mreturn\u001b[39;00m result\n\u001b[1;32m    <a href='file:///Users/tillrostalski/Git/main/src/fhirdrill/base.py?line=147'>148</a>\u001b[0m \u001b[39melif\u001b[39;00m target \u001b[39mis\u001b[39;00m Frame:\n",
      "File \u001b[0;32m~/Git/main/src/fhirdrill/base.py:146\u001b[0m, in \u001b[0;36m<listcomp>\u001b[0;34m(.0)\u001b[0m\n\u001b[1;32m    <a href='file:///Users/tillrostalski/Git/main/src/fhirdrill/base.py?line=143'>144</a>\u001b[0m     \u001b[39mreturn\u001b[39;00m \u001b[39minput\u001b[39m\n\u001b[1;32m    <a href='file:///Users/tillrostalski/Git/main/src/fhirdrill/base.py?line=144'>145</a>\u001b[0m \u001b[39melif\u001b[39;00m target \u001b[39mis\u001b[39;00m SyncFHIRResource:\n\u001b[0;32m--> <a href='file:///Users/tillrostalski/Git/main/src/fhirdrill/base.py?line=145'>146</a>\u001b[0m     result \u001b[39m=\u001b[39m [e\u001b[39m.\u001b[39;49mto_resource() \u001b[39mfor\u001b[39;00m e \u001b[39min\u001b[39;00m \u001b[39minput\u001b[39m]\n\u001b[1;32m    <a href='file:///Users/tillrostalski/Git/main/src/fhirdrill/base.py?line=146'>147</a>\u001b[0m     \u001b[39mreturn\u001b[39;00m result\n\u001b[1;32m    <a href='file:///Users/tillrostalski/Git/main/src/fhirdrill/base.py?line=147'>148</a>\u001b[0m \u001b[39melif\u001b[39;00m target \u001b[39mis\u001b[39;00m Frame:\n",
      "File \u001b[0;32m~/.local/share/virtualenvs/main-ZKJ93Kvm/lib/python3.9/site-packages/fhirpy/base/lib.py:418\u001b[0m, in \u001b[0;36mSyncReference.to_resource\u001b[0;34m(self)\u001b[0m\n\u001b[1;32m    <a href='file:///Users/tillrostalski/.local/share/virtualenvs/main-ZKJ93Kvm/lib/python3.9/site-packages/fhirpy/base/lib.py?line=415'>416</a>\u001b[0m \u001b[39mif\u001b[39;00m \u001b[39mnot\u001b[39;00m \u001b[39mself\u001b[39m\u001b[39m.\u001b[39mis_local:\n\u001b[1;32m    <a href='file:///Users/tillrostalski/.local/share/virtualenvs/main-ZKJ93Kvm/lib/python3.9/site-packages/fhirpy/base/lib.py?line=416'>417</a>\u001b[0m     \u001b[39mraise\u001b[39;00m ResourceNotFound(\u001b[39m\"\u001b[39m\u001b[39mCan not resolve not local resource\u001b[39m\u001b[39m\"\u001b[39m)\n\u001b[0;32m--> <a href='file:///Users/tillrostalski/.local/share/virtualenvs/main-ZKJ93Kvm/lib/python3.9/site-packages/fhirpy/base/lib.py?line=417'>418</a>\u001b[0m \u001b[39mreturn\u001b[39;00m \u001b[39mself\u001b[39;49m\u001b[39m.\u001b[39;49mclient\u001b[39m.\u001b[39;49mresources(\u001b[39mself\u001b[39;49m\u001b[39m.\u001b[39;49mresource_type)\u001b[39m.\u001b[39;49msearch(_id\u001b[39m=\u001b[39;49m\u001b[39mself\u001b[39;49m\u001b[39m.\u001b[39;49mid)\u001b[39m.\u001b[39;49mget()\n",
      "File \u001b[0;32m~/.local/share/virtualenvs/main-ZKJ93Kvm/lib/python3.9/site-packages/fhirpy/base/lib.py:195\u001b[0m, in \u001b[0;36mSyncSearchSet.get\u001b[0;34m(self, id)\u001b[0m\n\u001b[1;32m    <a href='file:///Users/tillrostalski/.local/share/virtualenvs/main-ZKJ93Kvm/lib/python3.9/site-packages/fhirpy/base/lib.py?line=186'>187</a>\u001b[0m     warnings\u001b[39m.\u001b[39mwarn(\n\u001b[1;32m    <a href='file:///Users/tillrostalski/.local/share/virtualenvs/main-ZKJ93Kvm/lib/python3.9/site-packages/fhirpy/base/lib.py?line=187'>188</a>\u001b[0m         \u001b[39m\"\u001b[39m\u001b[39mparameter \u001b[39m\u001b[39m'\u001b[39m\u001b[39mid\u001b[39m\u001b[39m'\u001b[39m\u001b[39m of method get() is deprecated \u001b[39m\u001b[39m\"\u001b[39m\n\u001b[1;32m    <a href='file:///Users/tillrostalski/.local/share/virtualenvs/main-ZKJ93Kvm/lib/python3.9/site-packages/fhirpy/base/lib.py?line=188'>189</a>\u001b[0m         \u001b[39m\"\u001b[39m\u001b[39mand will be removed in future versions. \u001b[39m\u001b[39m\"\u001b[39m\n\u001b[0;32m   (...)\u001b[0m\n\u001b[1;32m    <a href='file:///Users/tillrostalski/.local/share/virtualenvs/main-ZKJ93Kvm/lib/python3.9/site-packages/fhirpy/base/lib.py?line=191'>192</a>\u001b[0m         stacklevel\u001b[39m=\u001b[39m\u001b[39m2\u001b[39m,\n\u001b[1;32m    <a href='file:///Users/tillrostalski/.local/share/virtualenvs/main-ZKJ93Kvm/lib/python3.9/site-packages/fhirpy/base/lib.py?line=192'>193</a>\u001b[0m     )\n\u001b[1;32m    <a href='file:///Users/tillrostalski/.local/share/virtualenvs/main-ZKJ93Kvm/lib/python3.9/site-packages/fhirpy/base/lib.py?line=193'>194</a>\u001b[0m     searchset \u001b[39m=\u001b[39m searchset\u001b[39m.\u001b[39msearch(_id\u001b[39m=\u001b[39m\u001b[39mid\u001b[39m)\n\u001b[0;32m--> <a href='file:///Users/tillrostalski/.local/share/virtualenvs/main-ZKJ93Kvm/lib/python3.9/site-packages/fhirpy/base/lib.py?line=194'>195</a>\u001b[0m res_data \u001b[39m=\u001b[39m searchset\u001b[39m.\u001b[39;49mfetch()\n\u001b[1;32m    <a href='file:///Users/tillrostalski/.local/share/virtualenvs/main-ZKJ93Kvm/lib/python3.9/site-packages/fhirpy/base/lib.py?line=195'>196</a>\u001b[0m \u001b[39mif\u001b[39;00m \u001b[39mlen\u001b[39m(res_data) \u001b[39m==\u001b[39m \u001b[39m0\u001b[39m:\n\u001b[1;32m    <a href='file:///Users/tillrostalski/.local/share/virtualenvs/main-ZKJ93Kvm/lib/python3.9/site-packages/fhirpy/base/lib.py?line=196'>197</a>\u001b[0m     \u001b[39mraise\u001b[39;00m ResourceNotFound(\u001b[39m\"\u001b[39m\u001b[39mNo resources found\u001b[39m\u001b[39m\"\u001b[39m)\n",
      "File \u001b[0;32m~/.local/share/virtualenvs/main-ZKJ93Kvm/lib/python3.9/site-packages/fhirpy/base/lib.py:167\u001b[0m, in \u001b[0;36mSyncSearchSet.fetch\u001b[0;34m(self)\u001b[0m\n\u001b[1;32m    <a href='file:///Users/tillrostalski/.local/share/virtualenvs/main-ZKJ93Kvm/lib/python3.9/site-packages/fhirpy/base/lib.py?line=165'>166</a>\u001b[0m \u001b[39mdef\u001b[39;00m \u001b[39mfetch\u001b[39m(\u001b[39mself\u001b[39m):\n\u001b[0;32m--> <a href='file:///Users/tillrostalski/.local/share/virtualenvs/main-ZKJ93Kvm/lib/python3.9/site-packages/fhirpy/base/lib.py?line=166'>167</a>\u001b[0m     bundle_data \u001b[39m=\u001b[39m \u001b[39mself\u001b[39;49m\u001b[39m.\u001b[39;49mclient\u001b[39m.\u001b[39;49m_fetch_resource(\u001b[39mself\u001b[39;49m\u001b[39m.\u001b[39;49mresource_type, \u001b[39mself\u001b[39;49m\u001b[39m.\u001b[39;49mparams)\n\u001b[1;32m    <a href='file:///Users/tillrostalski/.local/share/virtualenvs/main-ZKJ93Kvm/lib/python3.9/site-packages/fhirpy/base/lib.py?line=167'>168</a>\u001b[0m     resources \u001b[39m=\u001b[39m \u001b[39mself\u001b[39m\u001b[39m.\u001b[39m_get_bundle_resources(bundle_data)\n\u001b[1;32m    <a href='file:///Users/tillrostalski/.local/share/virtualenvs/main-ZKJ93Kvm/lib/python3.9/site-packages/fhirpy/base/lib.py?line=168'>169</a>\u001b[0m     \u001b[39mreturn\u001b[39;00m resources\n",
      "File \u001b[0;32m~/.local/share/virtualenvs/main-ZKJ93Kvm/lib/python3.9/site-packages/fhirpy/base/lib.py:162\u001b[0m, in \u001b[0;36mSyncClient._fetch_resource\u001b[0;34m(self, path, params)\u001b[0m\n\u001b[1;32m    <a href='file:///Users/tillrostalski/.local/share/virtualenvs/main-ZKJ93Kvm/lib/python3.9/site-packages/fhirpy/base/lib.py?line=160'>161</a>\u001b[0m \u001b[39mdef\u001b[39;00m \u001b[39m_fetch_resource\u001b[39m(\u001b[39mself\u001b[39m, path, params\u001b[39m=\u001b[39m\u001b[39mNone\u001b[39;00m):\n\u001b[0;32m--> <a href='file:///Users/tillrostalski/.local/share/virtualenvs/main-ZKJ93Kvm/lib/python3.9/site-packages/fhirpy/base/lib.py?line=161'>162</a>\u001b[0m     \u001b[39mreturn\u001b[39;00m \u001b[39mself\u001b[39;49m\u001b[39m.\u001b[39;49m_do_request(\u001b[39m\"\u001b[39;49m\u001b[39mget\u001b[39;49m\u001b[39m\"\u001b[39;49m, path, params\u001b[39m=\u001b[39;49mparams)\n",
      "File \u001b[0;32m~/.local/share/virtualenvs/main-ZKJ93Kvm/lib/python3.9/site-packages/fhirpy/base/lib.py:140\u001b[0m, in \u001b[0;36mSyncClient._do_request\u001b[0;34m(self, method, path, data, params)\u001b[0m\n\u001b[1;32m    <a href='file:///Users/tillrostalski/.local/share/virtualenvs/main-ZKJ93Kvm/lib/python3.9/site-packages/fhirpy/base/lib.py?line=137'>138</a>\u001b[0m headers \u001b[39m=\u001b[39m \u001b[39mself\u001b[39m\u001b[39m.\u001b[39m_build_request_headers()\n\u001b[1;32m    <a href='file:///Users/tillrostalski/.local/share/virtualenvs/main-ZKJ93Kvm/lib/python3.9/site-packages/fhirpy/base/lib.py?line=138'>139</a>\u001b[0m url \u001b[39m=\u001b[39m \u001b[39mself\u001b[39m\u001b[39m.\u001b[39m_build_request_url(path, params)\n\u001b[0;32m--> <a href='file:///Users/tillrostalski/.local/share/virtualenvs/main-ZKJ93Kvm/lib/python3.9/site-packages/fhirpy/base/lib.py?line=139'>140</a>\u001b[0m r \u001b[39m=\u001b[39m requests\u001b[39m.\u001b[39;49mrequest(method, url, json\u001b[39m=\u001b[39;49mdata, headers\u001b[39m=\u001b[39;49mheaders)\n\u001b[1;32m    <a href='file:///Users/tillrostalski/.local/share/virtualenvs/main-ZKJ93Kvm/lib/python3.9/site-packages/fhirpy/base/lib.py?line=141'>142</a>\u001b[0m \u001b[39mif\u001b[39;00m \u001b[39m200\u001b[39m \u001b[39m<\u001b[39m\u001b[39m=\u001b[39m r\u001b[39m.\u001b[39mstatus_code \u001b[39m<\u001b[39m \u001b[39m300\u001b[39m:\n\u001b[1;32m    <a href='file:///Users/tillrostalski/.local/share/virtualenvs/main-ZKJ93Kvm/lib/python3.9/site-packages/fhirpy/base/lib.py?line=142'>143</a>\u001b[0m     \u001b[39mreturn\u001b[39;00m (\n\u001b[1;32m    <a href='file:///Users/tillrostalski/.local/share/virtualenvs/main-ZKJ93Kvm/lib/python3.9/site-packages/fhirpy/base/lib.py?line=143'>144</a>\u001b[0m         json\u001b[39m.\u001b[39mloads(r\u001b[39m.\u001b[39mcontent\u001b[39m.\u001b[39mdecode(), object_hook\u001b[39m=\u001b[39mAttrDict)\n\u001b[1;32m    <a href='file:///Users/tillrostalski/.local/share/virtualenvs/main-ZKJ93Kvm/lib/python3.9/site-packages/fhirpy/base/lib.py?line=144'>145</a>\u001b[0m         \u001b[39mif\u001b[39;00m r\u001b[39m.\u001b[39mcontent\n\u001b[1;32m    <a href='file:///Users/tillrostalski/.local/share/virtualenvs/main-ZKJ93Kvm/lib/python3.9/site-packages/fhirpy/base/lib.py?line=145'>146</a>\u001b[0m         \u001b[39melse\u001b[39;00m \u001b[39mNone\u001b[39;00m\n\u001b[1;32m    <a href='file:///Users/tillrostalski/.local/share/virtualenvs/main-ZKJ93Kvm/lib/python3.9/site-packages/fhirpy/base/lib.py?line=146'>147</a>\u001b[0m     )\n",
      "File \u001b[0;32m~/.local/share/virtualenvs/main-ZKJ93Kvm/lib/python3.9/site-packages/requests/api.py:61\u001b[0m, in \u001b[0;36mrequest\u001b[0;34m(method, url, **kwargs)\u001b[0m\n\u001b[1;32m     <a href='file:///Users/tillrostalski/.local/share/virtualenvs/main-ZKJ93Kvm/lib/python3.9/site-packages/requests/api.py?line=56'>57</a>\u001b[0m \u001b[39m# By using the 'with' statement we are sure the session is closed, thus we\u001b[39;00m\n\u001b[1;32m     <a href='file:///Users/tillrostalski/.local/share/virtualenvs/main-ZKJ93Kvm/lib/python3.9/site-packages/requests/api.py?line=57'>58</a>\u001b[0m \u001b[39m# avoid leaving sockets open which can trigger a ResourceWarning in some\u001b[39;00m\n\u001b[1;32m     <a href='file:///Users/tillrostalski/.local/share/virtualenvs/main-ZKJ93Kvm/lib/python3.9/site-packages/requests/api.py?line=58'>59</a>\u001b[0m \u001b[39m# cases, and look like a memory leak in others.\u001b[39;00m\n\u001b[1;32m     <a href='file:///Users/tillrostalski/.local/share/virtualenvs/main-ZKJ93Kvm/lib/python3.9/site-packages/requests/api.py?line=59'>60</a>\u001b[0m \u001b[39mwith\u001b[39;00m sessions\u001b[39m.\u001b[39mSession() \u001b[39mas\u001b[39;00m session:\n\u001b[0;32m---> <a href='file:///Users/tillrostalski/.local/share/virtualenvs/main-ZKJ93Kvm/lib/python3.9/site-packages/requests/api.py?line=60'>61</a>\u001b[0m     \u001b[39mreturn\u001b[39;00m session\u001b[39m.\u001b[39;49mrequest(method\u001b[39m=\u001b[39;49mmethod, url\u001b[39m=\u001b[39;49murl, \u001b[39m*\u001b[39;49m\u001b[39m*\u001b[39;49mkwargs)\n",
      "File \u001b[0;32m~/.local/share/virtualenvs/main-ZKJ93Kvm/lib/python3.9/site-packages/requests/sessions.py:515\u001b[0m, in \u001b[0;36mSession.request\u001b[0;34m(self, method, url, params, data, headers, cookies, files, auth, timeout, allow_redirects, proxies, hooks, stream, verify, cert, json)\u001b[0m\n\u001b[1;32m    <a href='file:///Users/tillrostalski/.local/share/virtualenvs/main-ZKJ93Kvm/lib/python3.9/site-packages/requests/sessions.py?line=501'>502</a>\u001b[0m \u001b[39m# Create the Request.\u001b[39;00m\n\u001b[1;32m    <a href='file:///Users/tillrostalski/.local/share/virtualenvs/main-ZKJ93Kvm/lib/python3.9/site-packages/requests/sessions.py?line=502'>503</a>\u001b[0m req \u001b[39m=\u001b[39m Request(\n\u001b[1;32m    <a href='file:///Users/tillrostalski/.local/share/virtualenvs/main-ZKJ93Kvm/lib/python3.9/site-packages/requests/sessions.py?line=503'>504</a>\u001b[0m     method\u001b[39m=\u001b[39mmethod\u001b[39m.\u001b[39mupper(),\n\u001b[1;32m    <a href='file:///Users/tillrostalski/.local/share/virtualenvs/main-ZKJ93Kvm/lib/python3.9/site-packages/requests/sessions.py?line=504'>505</a>\u001b[0m     url\u001b[39m=\u001b[39murl,\n\u001b[0;32m   (...)\u001b[0m\n\u001b[1;32m    <a href='file:///Users/tillrostalski/.local/share/virtualenvs/main-ZKJ93Kvm/lib/python3.9/site-packages/requests/sessions.py?line=512'>513</a>\u001b[0m     hooks\u001b[39m=\u001b[39mhooks,\n\u001b[1;32m    <a href='file:///Users/tillrostalski/.local/share/virtualenvs/main-ZKJ93Kvm/lib/python3.9/site-packages/requests/sessions.py?line=513'>514</a>\u001b[0m )\n\u001b[0;32m--> <a href='file:///Users/tillrostalski/.local/share/virtualenvs/main-ZKJ93Kvm/lib/python3.9/site-packages/requests/sessions.py?line=514'>515</a>\u001b[0m prep \u001b[39m=\u001b[39m \u001b[39mself\u001b[39;49m\u001b[39m.\u001b[39;49mprepare_request(req)\n\u001b[1;32m    <a href='file:///Users/tillrostalski/.local/share/virtualenvs/main-ZKJ93Kvm/lib/python3.9/site-packages/requests/sessions.py?line=516'>517</a>\u001b[0m proxies \u001b[39m=\u001b[39m proxies \u001b[39mor\u001b[39;00m {}\n\u001b[1;32m    <a href='file:///Users/tillrostalski/.local/share/virtualenvs/main-ZKJ93Kvm/lib/python3.9/site-packages/requests/sessions.py?line=518'>519</a>\u001b[0m settings \u001b[39m=\u001b[39m \u001b[39mself\u001b[39m\u001b[39m.\u001b[39mmerge_environment_settings(\n\u001b[1;32m    <a href='file:///Users/tillrostalski/.local/share/virtualenvs/main-ZKJ93Kvm/lib/python3.9/site-packages/requests/sessions.py?line=519'>520</a>\u001b[0m     prep\u001b[39m.\u001b[39murl, proxies, stream, verify, cert\n\u001b[1;32m    <a href='file:///Users/tillrostalski/.local/share/virtualenvs/main-ZKJ93Kvm/lib/python3.9/site-packages/requests/sessions.py?line=520'>521</a>\u001b[0m )\n",
      "File \u001b[0;32m~/.local/share/virtualenvs/main-ZKJ93Kvm/lib/python3.9/site-packages/requests/sessions.py:443\u001b[0m, in \u001b[0;36mSession.prepare_request\u001b[0;34m(self, request)\u001b[0m\n\u001b[1;32m    <a href='file:///Users/tillrostalski/.local/share/virtualenvs/main-ZKJ93Kvm/lib/python3.9/site-packages/requests/sessions.py?line=439'>440</a>\u001b[0m     auth \u001b[39m=\u001b[39m get_netrc_auth(request\u001b[39m.\u001b[39murl)\n\u001b[1;32m    <a href='file:///Users/tillrostalski/.local/share/virtualenvs/main-ZKJ93Kvm/lib/python3.9/site-packages/requests/sessions.py?line=441'>442</a>\u001b[0m p \u001b[39m=\u001b[39m PreparedRequest()\n\u001b[0;32m--> <a href='file:///Users/tillrostalski/.local/share/virtualenvs/main-ZKJ93Kvm/lib/python3.9/site-packages/requests/sessions.py?line=442'>443</a>\u001b[0m p\u001b[39m.\u001b[39;49mprepare(\n\u001b[1;32m    <a href='file:///Users/tillrostalski/.local/share/virtualenvs/main-ZKJ93Kvm/lib/python3.9/site-packages/requests/sessions.py?line=443'>444</a>\u001b[0m     method\u001b[39m=\u001b[39;49mrequest\u001b[39m.\u001b[39;49mmethod\u001b[39m.\u001b[39;49mupper(),\n\u001b[1;32m    <a href='file:///Users/tillrostalski/.local/share/virtualenvs/main-ZKJ93Kvm/lib/python3.9/site-packages/requests/sessions.py?line=444'>445</a>\u001b[0m     url\u001b[39m=\u001b[39;49mrequest\u001b[39m.\u001b[39;49murl,\n\u001b[1;32m    <a href='file:///Users/tillrostalski/.local/share/virtualenvs/main-ZKJ93Kvm/lib/python3.9/site-packages/requests/sessions.py?line=445'>446</a>\u001b[0m     files\u001b[39m=\u001b[39;49mrequest\u001b[39m.\u001b[39;49mfiles,\n\u001b[1;32m    <a href='file:///Users/tillrostalski/.local/share/virtualenvs/main-ZKJ93Kvm/lib/python3.9/site-packages/requests/sessions.py?line=446'>447</a>\u001b[0m     data\u001b[39m=\u001b[39;49mrequest\u001b[39m.\u001b[39;49mdata,\n\u001b[1;32m    <a href='file:///Users/tillrostalski/.local/share/virtualenvs/main-ZKJ93Kvm/lib/python3.9/site-packages/requests/sessions.py?line=447'>448</a>\u001b[0m     json\u001b[39m=\u001b[39;49mrequest\u001b[39m.\u001b[39;49mjson,\n\u001b[1;32m    <a href='file:///Users/tillrostalski/.local/share/virtualenvs/main-ZKJ93Kvm/lib/python3.9/site-packages/requests/sessions.py?line=448'>449</a>\u001b[0m     headers\u001b[39m=\u001b[39;49mmerge_setting(request\u001b[39m.\u001b[39;49mheaders, \u001b[39mself\u001b[39;49m\u001b[39m.\u001b[39;49mheaders, dict_class\u001b[39m=\u001b[39;49mCaseInsensitiveDict),\n\u001b[1;32m    <a href='file:///Users/tillrostalski/.local/share/virtualenvs/main-ZKJ93Kvm/lib/python3.9/site-packages/requests/sessions.py?line=449'>450</a>\u001b[0m     params\u001b[39m=\u001b[39;49mmerge_setting(request\u001b[39m.\u001b[39;49mparams, \u001b[39mself\u001b[39;49m\u001b[39m.\u001b[39;49mparams),\n\u001b[1;32m    <a href='file:///Users/tillrostalski/.local/share/virtualenvs/main-ZKJ93Kvm/lib/python3.9/site-packages/requests/sessions.py?line=450'>451</a>\u001b[0m     auth\u001b[39m=\u001b[39;49mmerge_setting(auth, \u001b[39mself\u001b[39;49m\u001b[39m.\u001b[39;49mauth),\n\u001b[1;32m    <a href='file:///Users/tillrostalski/.local/share/virtualenvs/main-ZKJ93Kvm/lib/python3.9/site-packages/requests/sessions.py?line=451'>452</a>\u001b[0m     cookies\u001b[39m=\u001b[39;49mmerged_cookies,\n\u001b[1;32m    <a href='file:///Users/tillrostalski/.local/share/virtualenvs/main-ZKJ93Kvm/lib/python3.9/site-packages/requests/sessions.py?line=452'>453</a>\u001b[0m     hooks\u001b[39m=\u001b[39;49mmerge_hooks(request\u001b[39m.\u001b[39;49mhooks, \u001b[39mself\u001b[39;49m\u001b[39m.\u001b[39;49mhooks),\n\u001b[1;32m    <a href='file:///Users/tillrostalski/.local/share/virtualenvs/main-ZKJ93Kvm/lib/python3.9/site-packages/requests/sessions.py?line=453'>454</a>\u001b[0m )\n\u001b[1;32m    <a href='file:///Users/tillrostalski/.local/share/virtualenvs/main-ZKJ93Kvm/lib/python3.9/site-packages/requests/sessions.py?line=454'>455</a>\u001b[0m \u001b[39mreturn\u001b[39;00m p\n",
      "File \u001b[0;32m~/.local/share/virtualenvs/main-ZKJ93Kvm/lib/python3.9/site-packages/requests/models.py:318\u001b[0m, in \u001b[0;36mPreparedRequest.prepare\u001b[0;34m(self, method, url, headers, files, data, params, auth, cookies, hooks, json)\u001b[0m\n\u001b[1;32m    <a href='file:///Users/tillrostalski/.local/share/virtualenvs/main-ZKJ93Kvm/lib/python3.9/site-packages/requests/models.py?line=314'>315</a>\u001b[0m \u001b[39m\"\"\"Prepares the entire request with the given parameters.\"\"\"\u001b[39;00m\n\u001b[1;32m    <a href='file:///Users/tillrostalski/.local/share/virtualenvs/main-ZKJ93Kvm/lib/python3.9/site-packages/requests/models.py?line=316'>317</a>\u001b[0m \u001b[39mself\u001b[39m\u001b[39m.\u001b[39mprepare_method(method)\n\u001b[0;32m--> <a href='file:///Users/tillrostalski/.local/share/virtualenvs/main-ZKJ93Kvm/lib/python3.9/site-packages/requests/models.py?line=317'>318</a>\u001b[0m \u001b[39mself\u001b[39;49m\u001b[39m.\u001b[39;49mprepare_url(url, params)\n\u001b[1;32m    <a href='file:///Users/tillrostalski/.local/share/virtualenvs/main-ZKJ93Kvm/lib/python3.9/site-packages/requests/models.py?line=318'>319</a>\u001b[0m \u001b[39mself\u001b[39m\u001b[39m.\u001b[39mprepare_headers(headers)\n\u001b[1;32m    <a href='file:///Users/tillrostalski/.local/share/virtualenvs/main-ZKJ93Kvm/lib/python3.9/site-packages/requests/models.py?line=319'>320</a>\u001b[0m \u001b[39mself\u001b[39m\u001b[39m.\u001b[39mprepare_cookies(cookies)\n",
      "File \u001b[0;32m~/.local/share/virtualenvs/main-ZKJ93Kvm/lib/python3.9/site-packages/requests/models.py:392\u001b[0m, in \u001b[0;36mPreparedRequest.prepare_url\u001b[0;34m(self, url, params)\u001b[0m\n\u001b[1;32m    <a href='file:///Users/tillrostalski/.local/share/virtualenvs/main-ZKJ93Kvm/lib/python3.9/site-packages/requests/models.py?line=388'>389</a>\u001b[0m     error \u001b[39m=\u001b[39m (\u001b[39m\"\u001b[39m\u001b[39mInvalid URL \u001b[39m\u001b[39m{0!r}\u001b[39;00m\u001b[39m: No scheme supplied. Perhaps you meant http://\u001b[39m\u001b[39m{0}\u001b[39;00m\u001b[39m?\u001b[39m\u001b[39m\"\u001b[39m)\n\u001b[1;32m    <a href='file:///Users/tillrostalski/.local/share/virtualenvs/main-ZKJ93Kvm/lib/python3.9/site-packages/requests/models.py?line=389'>390</a>\u001b[0m     error \u001b[39m=\u001b[39m error\u001b[39m.\u001b[39mformat(to_native_string(url, \u001b[39m'\u001b[39m\u001b[39mutf8\u001b[39m\u001b[39m'\u001b[39m))\n\u001b[0;32m--> <a href='file:///Users/tillrostalski/.local/share/virtualenvs/main-ZKJ93Kvm/lib/python3.9/site-packages/requests/models.py?line=391'>392</a>\u001b[0m     \u001b[39mraise\u001b[39;00m MissingSchema(error)\n\u001b[1;32m    <a href='file:///Users/tillrostalski/.local/share/virtualenvs/main-ZKJ93Kvm/lib/python3.9/site-packages/requests/models.py?line=393'>394</a>\u001b[0m \u001b[39mif\u001b[39;00m \u001b[39mnot\u001b[39;00m host:\n\u001b[1;32m    <a href='file:///Users/tillrostalski/.local/share/virtualenvs/main-ZKJ93Kvm/lib/python3.9/site-packages/requests/models.py?line=394'>395</a>\u001b[0m     \u001b[39mraise\u001b[39;00m InvalidURL(\u001b[39m\"\u001b[39m\u001b[39mInvalid URL \u001b[39m\u001b[39m%r\u001b[39;00m\u001b[39m: No host supplied\u001b[39m\u001b[39m\"\u001b[39m \u001b[39m%\u001b[39m url)\n",
      "\u001b[0;31mMissingSchema\u001b[0m: Invalid URL '/Patient?_id=1&_count=2': No scheme supplied. Perhaps you meant http:///Patient?_id=1&_count=2?"
     ]
    }
   ],
   "source": [
    "drill = fd.Drill(unconnected=True)\n",
    "drill.getPatients([\"1\"])"
   ]
  }
 ],
 "metadata": {
  "interpreter": {
   "hash": "698505c68de4ce4cb0dedeb0701f99b8e9d1e5865530ff253aaab5b5ce8a973a"
  },
  "kernelspec": {
   "display_name": "fhirdrill",
   "language": "python",
   "name": "python3"
  },
  "language_info": {
   "codemirror_mode": {
    "name": "ipython",
    "version": 3
   },
   "file_extension": ".py",
   "mimetype": "text/x-python",
   "name": "python",
   "nbconvert_exporter": "python",
   "pygments_lexer": "ipython3",
   "version": "3.9.6"
  }
 },
 "nbformat": 4,
 "nbformat_minor": 4
}
