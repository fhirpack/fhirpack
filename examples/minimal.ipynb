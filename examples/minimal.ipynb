{
 "cells": [
  {
   "cell_type": "markdown",
   "metadata": {},
   "source": [
    "# Boilerplate"
   ]
  },
  {
   "cell_type": "code",
   "execution_count": 1,
   "metadata": {},
   "outputs": [
    {
     "name": "stdout",
     "output_type": "stream",
     "text": [
      "Pretty printing has been turned OFF\n"
     ]
    }
   ],
   "source": [
    "%load_ext autoreload\n",
    "%autoreload 2\n",
    "%pprint off"
   ]
  },
  {
   "cell_type": "code",
   "execution_count": 2,
   "metadata": {},
   "outputs": [],
   "source": [
    "from IPython.core.interactiveshell import InteractiveShell\n",
    "InteractiveShell.ast_node_interactivity = \"all\""
   ]
  },
  {
   "cell_type": "code",
   "execution_count": 3,
   "metadata": {},
   "outputs": [
    {
     "name": "stdout",
     "output_type": "stream",
     "text": [
      "Pretty printing has been turned ON\n"
     ]
    }
   ],
   "source": [
    "%pprint"
   ]
  },
  {
   "cell_type": "markdown",
   "metadata": {},
   "source": [
    "# Preamble"
   ]
  },
  {
   "cell_type": "markdown",
   "metadata": {},
   "source": [
    "### Installing FHIRPACK from PIP (recommended)"
   ]
  },
  {
   "cell_type": "code",
   "execution_count": 4,
   "metadata": {},
   "outputs": [
    {
     "name": "stdout",
     "output_type": "stream",
     "text": [
      "Requirement already satisfied: fhirpack in /Users/tillrostalski/Git/main/src (0.0.8b1)\n",
      "Requirement already satisfied: pytest in /Users/tillrostalski/.local/share/virtualenvs/main-ZKJ93Kvm/lib/python3.9/site-packages (from fhirpack) (7.1.2)\n",
      "Requirement already satisfied: fhirpy in /Users/tillrostalski/.local/share/virtualenvs/main-ZKJ93Kvm/lib/python3.9/site-packages (from fhirpack) (1.3.0)\n",
      "Requirement already satisfied: requests in /Users/tillrostalski/.local/share/virtualenvs/main-ZKJ93Kvm/lib/python3.9/site-packages (from fhirpack) (2.28.1)\n",
      "Requirement already satisfied: pandas in /Users/tillrostalski/.local/share/virtualenvs/main-ZKJ93Kvm/lib/python3.9/site-packages (from fhirpack) (1.4.3)\n",
      "Requirement already satisfied: numpy in /Users/tillrostalski/.local/share/virtualenvs/main-ZKJ93Kvm/lib/python3.9/site-packages (from fhirpack) (1.23.1)\n",
      "Requirement already satisfied: matplotlib in /Users/tillrostalski/.local/share/virtualenvs/main-ZKJ93Kvm/lib/python3.9/site-packages (from fhirpack) (3.5.2)\n",
      "Requirement already satisfied: toml in /Users/tillrostalski/.local/share/virtualenvs/main-ZKJ93Kvm/lib/python3.9/site-packages (from fhirpack) (0.10.2)\n",
      "Requirement already satisfied: fhir.resources in /Users/tillrostalski/.local/share/virtualenvs/main-ZKJ93Kvm/lib/python3.9/site-packages (from fhirpack) (6.4.0)\n",
      "Requirement already satisfied: authlib in /Users/tillrostalski/.local/share/virtualenvs/main-ZKJ93Kvm/lib/python3.9/site-packages (from fhirpack) (1.0.1)\n",
      "Requirement already satisfied: pyjwt in /Users/tillrostalski/.local/share/virtualenvs/main-ZKJ93Kvm/lib/python3.9/site-packages (from fhirpack) (2.4.0)\n",
      "Requirement already satisfied: tqdm in /Users/tillrostalski/.local/share/virtualenvs/main-ZKJ93Kvm/lib/python3.9/site-packages (from fhirpack) (4.64.0)\n",
      "Requirement already satisfied: python-dotenv[cli] in /Users/tillrostalski/.local/share/virtualenvs/main-ZKJ93Kvm/lib/python3.9/site-packages (from fhirpack) (0.20.0)\n",
      "Requirement already satisfied: click in /Users/tillrostalski/.local/share/virtualenvs/main-ZKJ93Kvm/lib/python3.9/site-packages (from fhirpack) (8.1.3)\n",
      "Requirement already satisfied: black in /Users/tillrostalski/.local/share/virtualenvs/main-ZKJ93Kvm/lib/python3.9/site-packages (from fhirpack) (22.6.0)\n",
      "Requirement already satisfied: typeguard in /Users/tillrostalski/.local/share/virtualenvs/main-ZKJ93Kvm/lib/python3.9/site-packages (from fhirpack) (2.13.3)\n",
      "Requirement already satisfied: pipenv in /Users/tillrostalski/.local/share/virtualenvs/main-ZKJ93Kvm/lib/python3.9/site-packages (from fhirpack) (2022.7.4)\n",
      "Requirement already satisfied: python-magic in /Users/tillrostalski/.local/share/virtualenvs/main-ZKJ93Kvm/lib/python3.9/site-packages (from fhirpack) (0.4.27)\n",
      "Requirement already satisfied: dicomweb-client in /Users/tillrostalski/.local/share/virtualenvs/main-ZKJ93Kvm/lib/python3.9/site-packages (from fhirpack) (0.56.2)\n",
      "Requirement already satisfied: markupsafe==2.0.1 in /Users/tillrostalski/.local/share/virtualenvs/main-ZKJ93Kvm/lib/python3.9/site-packages (from fhirpack) (2.0.1)\n",
      "Requirement already satisfied: cryptography>=3.2 in /Users/tillrostalski/.local/share/virtualenvs/main-ZKJ93Kvm/lib/python3.9/site-packages (from authlib->fhirpack) (37.0.4)\n",
      "Requirement already satisfied: platformdirs>=2 in /Users/tillrostalski/.local/share/virtualenvs/main-ZKJ93Kvm/lib/python3.9/site-packages (from black->fhirpack) (2.5.2)\n",
      "Requirement already satisfied: tomli>=1.1.0 in /Users/tillrostalski/.local/share/virtualenvs/main-ZKJ93Kvm/lib/python3.9/site-packages (from black->fhirpack) (2.0.1)\n",
      "Requirement already satisfied: mypy-extensions>=0.4.3 in /Users/tillrostalski/.local/share/virtualenvs/main-ZKJ93Kvm/lib/python3.9/site-packages (from black->fhirpack) (0.4.3)\n",
      "Requirement already satisfied: typing-extensions>=3.10.0.0 in /Users/tillrostalski/.local/share/virtualenvs/main-ZKJ93Kvm/lib/python3.9/site-packages (from black->fhirpack) (4.3.0)\n",
      "Requirement already satisfied: pathspec>=0.9.0 in /Users/tillrostalski/.local/share/virtualenvs/main-ZKJ93Kvm/lib/python3.9/site-packages (from black->fhirpack) (0.9.0)\n",
      "Requirement already satisfied: pydicom>=2.2 in /Users/tillrostalski/.local/share/virtualenvs/main-ZKJ93Kvm/lib/python3.9/site-packages (from dicomweb-client->fhirpack) (2.3.0)\n",
      "Requirement already satisfied: retrying>=1.3.3 in /Users/tillrostalski/.local/share/virtualenvs/main-ZKJ93Kvm/lib/python3.9/site-packages (from dicomweb-client->fhirpack) (1.3.3)\n",
      "Requirement already satisfied: Pillow>=8.3 in /Users/tillrostalski/.local/share/virtualenvs/main-ZKJ93Kvm/lib/python3.9/site-packages (from dicomweb-client->fhirpack) (9.2.0)\n",
      "Requirement already satisfied: urllib3<1.27,>=1.21.1 in /Users/tillrostalski/.local/share/virtualenvs/main-ZKJ93Kvm/lib/python3.9/site-packages (from requests->fhirpack) (1.26.10)\n",
      "Requirement already satisfied: charset-normalizer<3,>=2 in /Users/tillrostalski/.local/share/virtualenvs/main-ZKJ93Kvm/lib/python3.9/site-packages (from requests->fhirpack) (2.1.0)\n",
      "Requirement already satisfied: idna<4,>=2.5 in /Users/tillrostalski/.local/share/virtualenvs/main-ZKJ93Kvm/lib/python3.9/site-packages (from requests->fhirpack) (3.3)\n",
      "Requirement already satisfied: certifi>=2017.4.17 in /Users/tillrostalski/.local/share/virtualenvs/main-ZKJ93Kvm/lib/python3.9/site-packages (from requests->fhirpack) (2022.6.15)\n",
      "Requirement already satisfied: pydantic[email]>=1.7.2 in /Users/tillrostalski/.local/share/virtualenvs/main-ZKJ93Kvm/lib/python3.9/site-packages (from fhir.resources->fhirpack) (1.9.1)\n",
      "Requirement already satisfied: pytz in /Users/tillrostalski/.local/share/virtualenvs/main-ZKJ93Kvm/lib/python3.9/site-packages (from fhirpy->fhirpack) (2022.1)\n",
      "Requirement already satisfied: aiohttp>=3.6.3 in /Users/tillrostalski/.local/share/virtualenvs/main-ZKJ93Kvm/lib/python3.9/site-packages (from fhirpy->fhirpack) (4.0.0a1)\n",
      "Requirement already satisfied: fonttools>=4.22.0 in /Users/tillrostalski/.local/share/virtualenvs/main-ZKJ93Kvm/lib/python3.9/site-packages (from matplotlib->fhirpack) (4.34.4)\n",
      "Requirement already satisfied: python-dateutil>=2.7 in /Users/tillrostalski/.local/share/virtualenvs/main-ZKJ93Kvm/lib/python3.9/site-packages (from matplotlib->fhirpack) (2.8.2)\n",
      "Requirement already satisfied: pyparsing>=2.2.1 in /Users/tillrostalski/.local/share/virtualenvs/main-ZKJ93Kvm/lib/python3.9/site-packages (from matplotlib->fhirpack) (3.0.9)\n",
      "Requirement already satisfied: cycler>=0.10 in /Users/tillrostalski/.local/share/virtualenvs/main-ZKJ93Kvm/lib/python3.9/site-packages (from matplotlib->fhirpack) (0.11.0)\n",
      "Requirement already satisfied: packaging>=20.0 in /Users/tillrostalski/.local/share/virtualenvs/main-ZKJ93Kvm/lib/python3.9/site-packages (from matplotlib->fhirpack) (21.3)\n",
      "Requirement already satisfied: kiwisolver>=1.0.1 in /Users/tillrostalski/.local/share/virtualenvs/main-ZKJ93Kvm/lib/python3.9/site-packages (from matplotlib->fhirpack) (1.4.4)\n",
      "Requirement already satisfied: virtualenv in /Users/tillrostalski/.local/share/virtualenvs/main-ZKJ93Kvm/lib/python3.9/site-packages (from pipenv->fhirpack) (20.15.1)\n",
      "Requirement already satisfied: setuptools>=36.2.1 in /Users/tillrostalski/.local/share/virtualenvs/main-ZKJ93Kvm/lib/python3.9/site-packages (from pipenv->fhirpack) (63.2.0)\n",
      "Requirement already satisfied: virtualenv-clone>=0.2.5 in /Users/tillrostalski/.local/share/virtualenvs/main-ZKJ93Kvm/lib/python3.9/site-packages (from pipenv->fhirpack) (0.5.7)\n",
      "Requirement already satisfied: pip>=22.0.4 in /Users/tillrostalski/.local/share/virtualenvs/main-ZKJ93Kvm/lib/python3.9/site-packages (from pipenv->fhirpack) (22.1.2)\n",
      "Requirement already satisfied: pluggy<2.0,>=0.12 in /Users/tillrostalski/.local/share/virtualenvs/main-ZKJ93Kvm/lib/python3.9/site-packages (from pytest->fhirpack) (1.0.0)\n",
      "Requirement already satisfied: iniconfig in /Users/tillrostalski/.local/share/virtualenvs/main-ZKJ93Kvm/lib/python3.9/site-packages (from pytest->fhirpack) (1.1.1)\n",
      "Requirement already satisfied: attrs>=19.2.0 in /Users/tillrostalski/.local/share/virtualenvs/main-ZKJ93Kvm/lib/python3.9/site-packages (from pytest->fhirpack) (21.4.0)\n",
      "Requirement already satisfied: py>=1.8.2 in /Users/tillrostalski/.local/share/virtualenvs/main-ZKJ93Kvm/lib/python3.9/site-packages (from pytest->fhirpack) (1.11.0)\n",
      "Requirement already satisfied: multidict<5.0,>=4.5 in /Users/tillrostalski/.local/share/virtualenvs/main-ZKJ93Kvm/lib/python3.9/site-packages (from aiohttp>=3.6.3->fhirpy->fhirpack) (4.7.6)\n",
      "Requirement already satisfied: async-timeout<4.0,>=3.0 in /Users/tillrostalski/.local/share/virtualenvs/main-ZKJ93Kvm/lib/python3.9/site-packages (from aiohttp>=3.6.3->fhirpy->fhirpack) (3.0.1)\n",
      "Requirement already satisfied: chardet<4.0,>=2.0 in /Users/tillrostalski/.local/share/virtualenvs/main-ZKJ93Kvm/lib/python3.9/site-packages (from aiohttp>=3.6.3->fhirpy->fhirpack) (3.0.4)\n",
      "Requirement already satisfied: yarl<2.0,>=1.0 in /Users/tillrostalski/.local/share/virtualenvs/main-ZKJ93Kvm/lib/python3.9/site-packages (from aiohttp>=3.6.3->fhirpy->fhirpack) (1.7.2)\n",
      "Requirement already satisfied: cffi>=1.12 in /Users/tillrostalski/.local/share/virtualenvs/main-ZKJ93Kvm/lib/python3.9/site-packages (from cryptography>=3.2->authlib->fhirpack) (1.15.1)\n",
      "Requirement already satisfied: email-validator>=1.0.3 in /Users/tillrostalski/.local/share/virtualenvs/main-ZKJ93Kvm/lib/python3.9/site-packages (from pydantic[email]>=1.7.2->fhir.resources->fhirpack) (1.2.1)\n",
      "Requirement already satisfied: six>=1.5 in /Users/tillrostalski/.local/share/virtualenvs/main-ZKJ93Kvm/lib/python3.9/site-packages (from python-dateutil>=2.7->matplotlib->fhirpack) (1.16.0)\n",
      "Requirement already satisfied: distlib<1,>=0.3.1 in /Users/tillrostalski/.local/share/virtualenvs/main-ZKJ93Kvm/lib/python3.9/site-packages (from virtualenv->pipenv->fhirpack) (0.3.5)\n",
      "Requirement already satisfied: filelock<4,>=3.2 in /Users/tillrostalski/.local/share/virtualenvs/main-ZKJ93Kvm/lib/python3.9/site-packages (from virtualenv->pipenv->fhirpack) (3.7.1)\n",
      "Requirement already satisfied: pycparser in /Users/tillrostalski/.local/share/virtualenvs/main-ZKJ93Kvm/lib/python3.9/site-packages (from cffi>=1.12->cryptography>=3.2->authlib->fhirpack) (2.21)\n",
      "Requirement already satisfied: dnspython>=1.15.0 in /Users/tillrostalski/.local/share/virtualenvs/main-ZKJ93Kvm/lib/python3.9/site-packages (from email-validator>=1.0.3->pydantic[email]>=1.7.2->fhir.resources->fhirpack) (2.2.1)\n",
      "\n",
      "\u001b[1m[\u001b[0m\u001b[34;49mnotice\u001b[0m\u001b[1;39;49m]\u001b[0m\u001b[39;49m A new release of pip available: \u001b[0m\u001b[31;49m22.1.2\u001b[0m\u001b[39;49m -> \u001b[0m\u001b[32;49m22.3.1\u001b[0m\n",
      "\u001b[1m[\u001b[0m\u001b[34;49mnotice\u001b[0m\u001b[1;39;49m]\u001b[0m\u001b[39;49m To update, run: \u001b[0m\u001b[32;49mpip install --upgrade pip\u001b[0m\n"
     ]
    }
   ],
   "source": [
    "!pip install fhirpack"
   ]
  },
  {
   "cell_type": "markdown",
   "metadata": {},
   "source": [
    "### Using FHIRPACK without Installation by Modifying PYTHONPATH\n",
    "\n",
    "You can use FHIRPACK without installing it, this is mostly used for testing purposes during development, but it's listed here for reference.\n",
    "\n",
    "Simply clone the FHIRPACK repository using `git clone git@github.com:fhirpack/main.git` or `git clone git@gitlab.com:fhirpack/main.git`"
   ]
  },
  {
   "cell_type": "code",
   "execution_count": null,
   "metadata": {},
   "outputs": [],
   "source": [
    "import sys,os\n",
    "#sys.path.append(os.getcwd()+'/../src/')"
   ]
  },
  {
   "cell_type": "markdown",
   "metadata": {},
   "source": [
    "### Installing FHIRPACK from Source\n",
    "\n",
    "Alternatively, you can installed the latest version of this repository in edit mode if you want to play around and modify FHIRPACK."
   ]
  },
  {
   "cell_type": "code",
   "execution_count": null,
   "metadata": {},
   "outputs": [],
   "source": [
    "#!pip install -e ."
   ]
  },
  {
   "cell_type": "markdown",
   "metadata": {},
   "source": [
    "### Imports"
   ]
  },
  {
   "cell_type": "code",
   "execution_count": 5,
   "metadata": {},
   "outputs": [],
   "source": [
    "import fhirpack\tas fp\n",
    "import pandas\tas pd\n",
    "import numpy\tas np\n",
    "import json\n",
    "\n",
    "pd.set_option('display.max_columns', None)\n",
    "pd.set_option('display.width', None)\n",
    "pd.set_option('display.max_colwidth', None)\n",
    "\n",
    "RESPATH=f\"./data/\""
   ]
  },
  {
   "cell_type": "markdown",
   "metadata": {
    "tags": []
   },
   "source": [
    "# FHIR Server Connection"
   ]
  },
  {
   "cell_type": "markdown",
   "metadata": {},
   "source": [
    "## Configure PACK with Environment File"
   ]
  },
  {
   "cell_type": "code",
   "execution_count": 6,
   "metadata": {},
   "outputs": [],
   "source": [
    "pack = fp.PACK(envFile='.env.example')"
   ]
  },
  {
   "cell_type": "code",
   "execution_count": 7,
   "metadata": {},
   "outputs": [
    {
     "data": {
      "text/plain": [
       "<SyncFHIRClient https://hapi.fhir.org/baseR4>"
      ]
     },
     "execution_count": 7,
     "metadata": {},
     "output_type": "execute_result"
    }
   ],
   "source": [
    "pack.client"
   ]
  },
  {
   "cell_type": "markdown",
   "metadata": {},
   "source": [
    "# Playground"
   ]
  },
  {
   "cell_type": "code",
   "execution_count": 9,
   "metadata": {},
   "outputs": [
    {
     "data": {
      "text/plain": [
       "<SyncFHIRClient https://hapi.fhir.org/baseR4>"
      ]
     },
     "execution_count": 9,
     "metadata": {},
     "output_type": "execute_result"
    }
   ],
   "source": [
    "pack.client"
   ]
  },
  {
   "cell_type": "code",
   "execution_count": 7,
   "metadata": {},
   "outputs": [
    {
     "name": "stderr",
     "output_type": "stream",
     "text": [
      "                                                                      \r"
     ]
    },
    {
     "data": {
      "text/plain": [
       "(104, 2)"
      ]
     },
     "execution_count": 7,
     "metadata": {},
     "output_type": "execute_result"
    }
   ],
   "source": [
    "conditions = pack\\\n",
    "\t.getConditions(\n",
    "\t\tsearchParams={\n",
    "\t\t\t\"_content\":\"Coronary Heart Disease\",\n",
    "\t\t\t})\n",
    "\n",
    "conditions.shape"
   ]
  },
  {
   "cell_type": "code",
   "execution_count": 8,
   "metadata": {},
   "outputs": [
    {
     "data": {
      "text/html": [
       "<div>\n",
       "<style scoped>\n",
       "    .dataframe tbody tr th:only-of-type {\n",
       "        vertical-align: middle;\n",
       "    }\n",
       "\n",
       "    .dataframe tbody tr th {\n",
       "        vertical-align: top;\n",
       "    }\n",
       "\n",
       "    .dataframe thead th {\n",
       "        text-align: right;\n",
       "    }\n",
       "</style>\n",
       "<table border=\"1\" class=\"dataframe\">\n",
       "  <thead>\n",
       "    <tr style=\"text-align: right;\">\n",
       "      <th></th>\n",
       "      <th>data</th>\n",
       "      <th>Condition</th>\n",
       "    </tr>\n",
       "  </thead>\n",
       "  <tbody>\n",
       "    <tr>\n",
       "      <th>0</th>\n",
       "      <td>{'resourceType': 'Condition', 'id': '2434526', 'meta': {'versionId': '1', 'lastUpdated': '2021-07-19T17:25:48.508+00:00', 'source': '#zWw4qyGJCVClEIgz'}, 'clinicalStatus': {'coding': [{'system': 'http://terminology.hl7.org/CodeSystem/condition-clinical', 'code': 'active'}]}, 'verificationStatus': {'coding': [{'system': 'http://terminology.hl7.org/CodeSystem/condition-ver-status', 'code': 'confirmed'}]}, 'code': {'coding': [{'system': 'http://snomed.info/sct', 'code': '53741008', 'display': 'Coronary Heart Disease'}], 'text': 'Coronary Heart Disease'}, 'subject': {'reference': 'Patient/2434507'}, 'encounter': {'reference': 'Encounter/2434525'}, 'onsetDateTime': '2008-07-18T15:01:02-04:00', 'recordedDate': '2008-07-18T15:01:02-04:00'}</td>\n",
       "      <td>2434526</td>\n",
       "    </tr>\n",
       "  </tbody>\n",
       "</table>\n",
       "</div>"
      ],
      "text/plain": [
       "                                                                                                                                                                                                                                                                                                                                                                                                                                                                                                                                                                                                                                                                                                                                                                     data  \\\n",
       "0  {'resourceType': 'Condition', 'id': '2434526', 'meta': {'versionId': '1', 'lastUpdated': '2021-07-19T17:25:48.508+00:00', 'source': '#zWw4qyGJCVClEIgz'}, 'clinicalStatus': {'coding': [{'system': 'http://terminology.hl7.org/CodeSystem/condition-clinical', 'code': 'active'}]}, 'verificationStatus': {'coding': [{'system': 'http://terminology.hl7.org/CodeSystem/condition-ver-status', 'code': 'confirmed'}]}, 'code': {'coding': [{'system': 'http://snomed.info/sct', 'code': '53741008', 'display': 'Coronary Heart Disease'}], 'text': 'Coronary Heart Disease'}, 'subject': {'reference': 'Patient/2434507'}, 'encounter': {'reference': 'Encounter/2434525'}, 'onsetDateTime': '2008-07-18T15:01:02-04:00', 'recordedDate': '2008-07-18T15:01:02-04:00'}   \n",
       "\n",
       "  Condition  \n",
       "0   2434526  "
      ]
     },
     "execution_count": 8,
     "metadata": {},
     "output_type": "execute_result"
    }
   ],
   "source": [
    "conditions[0:1]"
   ]
  },
  {
   "cell_type": "code",
   "execution_count": 19,
   "metadata": {},
   "outputs": [
    {
     "name": "stdout",
     "output_type": "stream",
     "text": [
      "{\n",
      "    \"clinicalStatus\": {\n",
      "        \"coding\": [\n",
      "            {\n",
      "                \"code\": \"active\",\n",
      "                \"system\": \"http://terminology.hl7.org/CodeSystem/condition-clinical\"\n",
      "            }\n",
      "        ]\n",
      "    },\n",
      "    \"code\": {\n",
      "        \"coding\": [\n",
      "            {\n",
      "                \"code\": \"53741008\",\n",
      "                \"display\": \"Coronary Heart Disease\",\n",
      "                \"system\": \"http://snomed.info/sct\"\n",
      "            }\n",
      "        ],\n",
      "        \"text\": \"Coronary Heart Disease\"\n",
      "    },\n",
      "    \"encounter\": {\n",
      "        \"reference\": \"Encounter/617157\"\n",
      "    },\n",
      "    \"id\": \"617158\",\n",
      "    \"meta\": {\n",
      "        \"lastUpdated\": \"2020-02-07T11:51:46.361+00:00\",\n",
      "        \"source\": \"#msg5Ia42NNbn9SQ0\",\n",
      "        \"versionId\": \"1\"\n",
      "    },\n",
      "    \"onsetDateTime\": \"2003-12-16T02:47:35-05:00\",\n",
      "    \"recordedDate\": \"2003-12-16T02:47:35-05:00\",\n",
      "    \"resourceType\": \"Condition\",\n",
      "    \"subject\": {\n",
      "        \"reference\": \"Patient/617077\"\n",
      "    },\n",
      "    \"verificationStatus\": {\n",
      "        \"coding\": [\n",
      "            {\n",
      "                \"code\": \"confirmed\",\n",
      "                \"system\": \"http://terminology.hl7.org/CodeSystem/condition-ver-status\"\n",
      "            }\n",
      "        ]\n",
      "    }\n",
      "}\n"
     ]
    }
   ],
   "source": [
    "conditions[0:1].pretty"
   ]
  },
  {
   "cell_type": "code",
   "execution_count": 20,
   "metadata": {},
   "outputs": [
    {
     "name": "stderr",
     "output_type": "stream",
     "text": [
      "                                                                \r"
     ]
    },
    {
     "data": {
      "text/html": [
       "<div>\n",
       "<style scoped>\n",
       "    .dataframe tbody tr th:only-of-type {\n",
       "        vertical-align: middle;\n",
       "    }\n",
       "\n",
       "    .dataframe tbody tr th {\n",
       "        vertical-align: top;\n",
       "    }\n",
       "\n",
       "    .dataframe thead th {\n",
       "        text-align: right;\n",
       "    }\n",
       "</style>\n",
       "<table border=\"1\" class=\"dataframe\">\n",
       "  <thead>\n",
       "    <tr style=\"text-align: right;\">\n",
       "      <th></th>\n",
       "      <th>id</th>\n",
       "      <th>name.given</th>\n",
       "      <th>name.family</th>\n",
       "      <th>birthDate</th>\n",
       "    </tr>\n",
       "  </thead>\n",
       "  <tbody>\n",
       "    <tr>\n",
       "      <th>0</th>\n",
       "      <td>[617077]</td>\n",
       "      <td>[[[Andres25]]]</td>\n",
       "      <td>[[Konopelski743]]</td>\n",
       "      <td>[1975-10-07]</td>\n",
       "    </tr>\n",
       "    <tr>\n",
       "      <th>1</th>\n",
       "      <td>[ddbf5561-4bfd-4434-89fb-344387ca945b]</td>\n",
       "      <td>[[[Adam631]]]</td>\n",
       "      <td>[[Keebler762]]</td>\n",
       "      <td>[1948-07-09]</td>\n",
       "    </tr>\n",
       "    <tr>\n",
       "      <th>2</th>\n",
       "      <td>[2695a0ea-9953-4f1c-bcf0-fd25d9b5a621]</td>\n",
       "      <td>[[[Agustín529]]]</td>\n",
       "      <td>[[Cintrón695]]</td>\n",
       "      <td>[1974-11-02]</td>\n",
       "    </tr>\n",
       "    <tr>\n",
       "      <th>3</th>\n",
       "      <td>[4cee554c-9681-47b7-a3c4-06864ec294a0]</td>\n",
       "      <td>[[[Agustín529]]]</td>\n",
       "      <td>[[Cintrón695]]</td>\n",
       "      <td>[1974-08-25]</td>\n",
       "    </tr>\n",
       "    <tr>\n",
       "      <th>4</th>\n",
       "      <td>[1b8a7c69-e0d0-4832-a9a1-b487bbc8af90]</td>\n",
       "      <td>[[[Aja848], [Aja848]]]</td>\n",
       "      <td>[[Herman763, Hansen121]]</td>\n",
       "      <td>[1959-10-02]</td>\n",
       "    </tr>\n",
       "  </tbody>\n",
       "</table>\n",
       "</div>"
      ],
      "text/plain": [
       "                                       id              name.given  \\\n",
       "0                                [617077]          [[[Andres25]]]   \n",
       "1  [ddbf5561-4bfd-4434-89fb-344387ca945b]           [[[Adam631]]]   \n",
       "2  [2695a0ea-9953-4f1c-bcf0-fd25d9b5a621]        [[[Agustín529]]]   \n",
       "3  [4cee554c-9681-47b7-a3c4-06864ec294a0]        [[[Agustín529]]]   \n",
       "4  [1b8a7c69-e0d0-4832-a9a1-b487bbc8af90]  [[[Aja848], [Aja848]]]   \n",
       "\n",
       "                name.family     birthDate  \n",
       "0         [[Konopelski743]]  [1975-10-07]  \n",
       "1            [[Keebler762]]  [1948-07-09]  \n",
       "2            [[Cintrón695]]  [1974-11-02]  \n",
       "3            [[Cintrón695]]  [1974-08-25]  \n",
       "4  [[Herman763, Hansen121]]  [1959-10-02]  "
      ]
     },
     "execution_count": 20,
     "metadata": {},
     "output_type": "execute_result"
    }
   ],
   "source": [
    "conditions[:5]\\\n",
    "\t.getPatients()\\\n",
    "\t\t.gatherSimplePaths([\n",
    "\t\t\t\"id\",\n",
    "\t\t\t\"name.given\",\n",
    "\t\t\t\"name.family\",\n",
    "\t\t\t\"birthDate\"\n",
    "\t\t])"
   ]
  }
 ],
 "metadata": {
  "kernelspec": {
   "display_name": "Python 3.9.6 ('main-ZKJ93Kvm')",
   "language": "python",
   "name": "python3"
  },
  "language_info": {
   "codemirror_mode": {
    "name": "ipython",
    "version": 3
   },
   "file_extension": ".py",
   "mimetype": "text/x-python",
   "name": "python",
   "nbconvert_exporter": "python",
   "pygments_lexer": "ipython3",
   "version": "3.9.6 (default, Apr  4 2022, 21:06:14) \n[Clang 12.0.5 (clang-1205.0.22.11)]"
  },
  "vscode": {
   "interpreter": {
    "hash": "698505c68de4ce4cb0dedeb0701f99b8e9d1e5865530ff253aaab5b5ce8a973a"
   }
  }
 },
 "nbformat": 4,
 "nbformat_minor": 4
}
